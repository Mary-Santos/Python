{
  "nbformat": 4,
  "nbformat_minor": 0,
  "metadata": {
    "colab": {
      "name": "Python Exercícios Estruturas condicionais.ipynb",
      "provenance": []
    },
    "kernelspec": {
      "name": "python3",
      "display_name": "Python 3"
    }
  },
  "cells": [
    {
      "cell_type": "markdown",
      "metadata": {
        "id": "c9BudZ2gNE2n"
      },
      "source": [
        "# Exercício 1\n",
        "\n",
        "Leia a idade do usuário e classifique-o em:\n",
        "- Criança – 0 a 12 anos\n",
        "- Adolescente – 13 a 17 anos\n",
        "- Adulto – acima de 18 anos\n",
        " -Se o usuário digitar um número negativo, mostrar a mensagem que a idade é inválida\n"
      ]
    },
    {
      "cell_type": "code",
      "metadata": {
        "id": "iYgw0XGvM0Xz",
        "colab": {
          "base_uri": "https://localhost:8080/"
        },
        "outputId": "7d636e3c-bc96-49fa-9f69-5e478ee4ce9d"
      },
      "source": [
        "idade = int(input('Digite a idade: '))"
      ],
      "execution_count": null,
      "outputs": [
        {
          "name": "stdout",
          "output_type": "stream",
          "text": [
            "Digite a idade: 24\n"
          ]
        }
      ]
    },
    {
      "cell_type": "code",
      "metadata": {
        "id": "Gh0MVkaLlv-J",
        "colab": {
          "base_uri": "https://localhost:8080/"
        },
        "outputId": "49357ab7-41c8-4a51-8ddd-538c36caf612"
      },
      "source": [
        "print(idade)"
      ],
      "execution_count": null,
      "outputs": [
        {
          "output_type": "stream",
          "name": "stdout",
          "text": [
            "24\n"
          ]
        }
      ]
    },
    {
      "cell_type": "code",
      "metadata": {
        "id": "Dy_UFha_Nb8o",
        "colab": {
          "base_uri": "https://localhost:8080/"
        },
        "outputId": "6a60b716-0704-4264-c2c3-1e3a939357ee"
      },
      "source": [
        "if idade >= 0 and idade <= 12:\n",
        "  print('Criança')\n",
        "elif idade > 12 and idade <= 18:\n",
        "  print('Adolescente')\n",
        "elif idade > 18:\n",
        "  print('Adulto')\n",
        "else:\n",
        "  print('Idade inválida')"
      ],
      "execution_count": null,
      "outputs": [
        {
          "output_type": "stream",
          "name": "stdout",
          "text": [
            "Adulto\n"
          ]
        }
      ]
    },
    {
      "cell_type": "markdown",
      "metadata": {
        "id": "QK3YAlgdN0t3"
      },
      "source": [
        "# Exercício 2\n",
        "\n",
        "Calcular a média de um aluno que cursou a disciplina de Programação I, a partir da leitura das notas M1, M2 e M3; passando por um cálculo da média aritmética. Após a média calculada, devemos anunciar se o aluno foi aprovado, reprovado ou pegou exame\n",
        "- Se a média estiver entre 0.0 e 4.0, o aluno está reprovado\n",
        "- Se a média estiver entre 4.1 e 6.0, o aluno pegou exame\n",
        "- Se a média for maior do que 6.0, o aluno está aprovado\n",
        "- Se o aluno pegou exame, deve ser lida a nota do exame. Se a nota do exame for maior do que 6.0, está aprovado, senão; está reprovado"
      ]
    },
    {
      "cell_type": "code",
      "metadata": {
        "id": "FIz6i8_LOByQ",
        "colab": {
          "base_uri": "https://localhost:8080/"
        },
        "outputId": "1bdb5b2b-020d-4b73-c074-e8db24c149db"
      },
      "source": [
        "m1 = float(input('Digite a nota M1: '))\n",
        "m2 = float(input('Digite a nota M2: '))\n",
        "m3 = float(input('Digite a nota M3: '))"
      ],
      "execution_count": null,
      "outputs": [
        {
          "name": "stdout",
          "output_type": "stream",
          "text": [
            "Digite a nota M1: 6.0\n",
            "Digite a nota M2: 5.0\n",
            "Digite a nota M3: 10.0\n"
          ]
        }
      ]
    },
    {
      "cell_type": "code",
      "metadata": {
        "id": "g1-4CUlMORsU",
        "colab": {
          "base_uri": "https://localhost:8080/"
        },
        "outputId": "7f5aae8b-c2af-48dd-cd44-5acb6b195b26"
      },
      "source": [
        "media = (m1 + m2 + m3) / 3\n",
        "print(media)"
      ],
      "execution_count": null,
      "outputs": [
        {
          "output_type": "stream",
          "name": "stdout",
          "text": [
            "7.0\n"
          ]
        }
      ]
    },
    {
      "cell_type": "code",
      "metadata": {
        "id": "9uVrqKjhOcAV",
        "colab": {
          "base_uri": "https://localhost:8080/"
        },
        "outputId": "d4d264da-ff5c-4d3f-db1b-3996d7b0b7a0"
      },
      "source": [
        "if media >= 0.0 and media <= 4.0:\n",
        "  print('Aluno reprovado')\n",
        "elif media >= 4.1 and media <= 6.0:\n",
        "  exame = float(input('Digite a nota do exame'))\n",
        "  if exame >= 6.0:\n",
        "    print('Aprovado no exame')\n",
        "  else:\n",
        "    print('Reprovado no exame')\n",
        "else:\n",
        "  print('Aluno aprovado')"
      ],
      "execution_count": null,
      "outputs": [
        {
          "output_type": "stream",
          "name": "stdout",
          "text": [
            "Aluno aprovado\n"
          ]
        }
      ]
    },
    {
      "cell_type": "code",
      "source": [
        "num1 = float(input('Digite o primeiro numero: '))\n",
        "num2 = float(input('Digite o segundo numero: '))\n",
        "soma = num1 + num2\n",
        "print('A soma do primeiro e do segundo numero é: ', soma)"
      ],
      "metadata": {
        "colab": {
          "base_uri": "https://localhost:8080/"
        },
        "id": "JAd9Q9UyZ13h",
        "outputId": "177f5751-14fa-4ce6-bdb0-c911ade645b1"
      },
      "execution_count": null,
      "outputs": [
        {
          "output_type": "stream",
          "name": "stdout",
          "text": [
            "Digite o primeiro numero (formatacao = x.x): 1\n",
            "Digite o segundo numero (formatacao = x.x): 2\n",
            "A soma do primeiro e do segundo numero é:  3.0\n"
          ]
        }
      ]
    }
  ]
}