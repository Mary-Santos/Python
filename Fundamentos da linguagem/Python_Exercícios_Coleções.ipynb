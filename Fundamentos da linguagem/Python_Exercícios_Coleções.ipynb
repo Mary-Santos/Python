{
  "nbformat": 4,
  "nbformat_minor": 0,
  "metadata": {
    "colab": {
      "name": "Python Exercícios Coleções.ipynb",
      "provenance": [],
      "collapsed_sections": []
    },
    "kernelspec": {
      "name": "python3",
      "display_name": "Python 3"
    }
  },
  "cells": [
    {
      "cell_type": "markdown",
      "metadata": {
        "id": "c9BudZ2gNE2n"
      },
      "source": [
        "# Exercício 1 - listas\n",
        "\n",
        "Crie uma estrutura de repetição para fazer a leitura de 5 números inteiros e os armazene dentro de uma lista. Após a leitura, crie outra estrutura de repetição para somar todos os valores digitados"
      ]
    },
    {
      "cell_type": "code",
      "metadata": {
        "id": "VVxui4nim6Xk",
        "colab": {
          "base_uri": "https://localhost:8080/"
        },
        "outputId": "af9f5efd-0e4c-49d1-e161-8cc09cd1455c"
      },
      "source": [
        "lista = []\n",
        "for _ in range(1, 6):\n",
        "  valor = int(input('Digite o valor: '))\n",
        "  lista.append(valor)"
      ],
      "execution_count": null,
      "outputs": [
        {
          "name": "stdout",
          "output_type": "stream",
          "text": [
            "Digite o valor: 2\n",
            "Digite o valor: 3\n",
            "Digite o valor: 1\n",
            "Digite o valor: 3\n",
            "Digite o valor: 2\n"
          ]
        }
      ]
    },
    {
      "cell_type": "code",
      "metadata": {
        "id": "i5H_wkoinORR",
        "colab": {
          "base_uri": "https://localhost:8080/"
        },
        "outputId": "f3d5f33d-c886-4a36-c82f-f25368e9a10c"
      },
      "source": [
        "lista"
      ],
      "execution_count": null,
      "outputs": [
        {
          "output_type": "execute_result",
          "data": {
            "text/plain": [
              "[2, 3, 1, 3, 2]"
            ]
          },
          "metadata": {},
          "execution_count": 2
        }
      ]
    },
    {
      "cell_type": "code",
      "metadata": {
        "id": "8iC4MSq1tU82",
        "colab": {
          "base_uri": "https://localhost:8080/"
        },
        "outputId": "458479b9-6ddc-4207-c03a-e2dcc1171652"
      },
      "source": [
        "len(lista)"
      ],
      "execution_count": null,
      "outputs": [
        {
          "output_type": "execute_result",
          "data": {
            "text/plain": [
              "5"
            ]
          },
          "metadata": {},
          "execution_count": 3
        }
      ]
    },
    {
      "cell_type": "code",
      "metadata": {
        "id": "3o0BCJOLnP2g",
        "colab": {
          "base_uri": "https://localhost:8080/"
        },
        "outputId": "e4d2366b-9340-4339-b818-a41d17aed69e"
      },
      "source": [
        "soma = 0\n",
        "for i in range(len(lista)):\n",
        "  #print(lista[i])\n",
        "  soma += lista[i]\n",
        "print('Soma: ', soma)"
      ],
      "execution_count": null,
      "outputs": [
        {
          "output_type": "stream",
          "name": "stdout",
          "text": [
            "Soma:  11\n"
          ]
        }
      ]
    },
    {
      "cell_type": "code",
      "metadata": {
        "id": "ZFvLM0m4t1gc",
        "colab": {
          "base_uri": "https://localhost:8080/",
          "height": 166
        },
        "outputId": "8831d22f-09c5-4619-cecb-3491f317c3c6"
      },
      "source": [
        "lista.sum()"
      ],
      "execution_count": null,
      "outputs": [
        {
          "output_type": "error",
          "ename": "AttributeError",
          "evalue": "ignored",
          "traceback": [
            "\u001b[0;31m---------------------------------------------------------------------------\u001b[0m",
            "\u001b[0;31mAttributeError\u001b[0m                            Traceback (most recent call last)",
            "\u001b[0;32m<ipython-input-5-8aeca298dcba>\u001b[0m in \u001b[0;36m<module>\u001b[0;34m()\u001b[0m\n\u001b[0;32m----> 1\u001b[0;31m \u001b[0mlista\u001b[0m\u001b[0;34m.\u001b[0m\u001b[0msum\u001b[0m\u001b[0;34m(\u001b[0m\u001b[0;34m)\u001b[0m\u001b[0;34m\u001b[0m\u001b[0;34m\u001b[0m\u001b[0m\n\u001b[0m",
            "\u001b[0;31mAttributeError\u001b[0m: 'list' object has no attribute 'sum'"
          ]
        }
      ]
    },
    {
      "cell_type": "code",
      "metadata": {
        "id": "fWHgU9oJnn2K",
        "colab": {
          "base_uri": "https://localhost:8080/"
        },
        "outputId": "03d2225c-2766-41a8-8f7e-ea2c49c85002"
      },
      "source": [
        "import numpy as np\n",
        "np.array(lista).sum()"
      ],
      "execution_count": null,
      "outputs": [
        {
          "output_type": "execute_result",
          "data": {
            "text/plain": [
              "11"
            ]
          },
          "metadata": {},
          "execution_count": 6
        }
      ]
    },
    {
      "cell_type": "markdown",
      "metadata": {
        "id": "fPUAsfsonjUq"
      },
      "source": [
        "# Exercícios 2 - dicionários\n",
        "\n",
        "Crie um dicionário para armazenar o nome e a nota de 3 alunos, fazendo a leitura dos valores por meio de uma estrutura de repetição. Depois, crie uma nova estrutura de repetição para somar todas as notas e retornar a média"
      ]
    },
    {
      "cell_type": "code",
      "metadata": {
        "id": "1l72uOv1oCZR",
        "colab": {
          "base_uri": "https://localhost:8080/"
        },
        "outputId": "516c3861-1a72-450a-c421-6f7abddb3546"
      },
      "source": [
        "alunos = {}\n",
        "for _ in range(1, 4):\n",
        "  nome = input('Digite o nome: ')\n",
        "  nota = float(input('Digite a nota: '))\n",
        "  alunos[nome] = nota "
      ],
      "execution_count": null,
      "outputs": [
        {
          "name": "stdout",
          "output_type": "stream",
          "text": [
            "Digite o nome: Maria\n",
            "Digite a nota: 10\n",
            "Digite o nome: Mary\n",
            "Digite a nota: 5\n",
            "Digite o nome: Mari\n",
            "Digite a nota: 3\n"
          ]
        }
      ]
    },
    {
      "cell_type": "code",
      "metadata": {
        "id": "G2P6lolZobRW",
        "colab": {
          "base_uri": "https://localhost:8080/"
        },
        "outputId": "c33eeba2-5f39-4340-c6f6-c9497dedfd60"
      },
      "source": [
        "alunos"
      ],
      "execution_count": null,
      "outputs": [
        {
          "output_type": "execute_result",
          "data": {
            "text/plain": [
              "{'Mari': 3.0, 'Maria': 10.0, 'Mary': 5.0}"
            ]
          },
          "metadata": {},
          "execution_count": 8
        }
      ]
    },
    {
      "cell_type": "code",
      "metadata": {
        "id": "uS4j6fZYpByn",
        "colab": {
          "base_uri": "https://localhost:8080/"
        },
        "outputId": "0c6d8dd1-0f51-49b3-ec13-0d7a34164d1d"
      },
      "source": [
        "alunos['Maria']"
      ],
      "execution_count": null,
      "outputs": [
        {
          "output_type": "execute_result",
          "data": {
            "text/plain": [
              "10.0"
            ]
          },
          "metadata": {},
          "execution_count": 10
        }
      ]
    },
    {
      "cell_type": "code",
      "metadata": {
        "id": "4HBJVAuEodmI",
        "colab": {
          "base_uri": "https://localhost:8080/"
        },
        "outputId": "03b99a5f-8cba-40d7-ac44-53161f813e8d"
      },
      "source": [
        "alunos.values()"
      ],
      "execution_count": null,
      "outputs": [
        {
          "output_type": "execute_result",
          "data": {
            "text/plain": [
              "dict_values([10.0, 5.0, 3.0])"
            ]
          },
          "metadata": {},
          "execution_count": 11
        }
      ]
    },
    {
      "cell_type": "code",
      "metadata": {
        "id": "WqpxxH5GpUgW",
        "colab": {
          "base_uri": "https://localhost:8080/"
        },
        "outputId": "9bd7bdbc-e88c-4f11-df07-d466368be053"
      },
      "source": [
        "soma = 0\n",
        "for nota in alunos.values():\n",
        "  #print(nota)\n",
        "  soma += nota\n",
        "print('Média: ', soma / 3)"
      ],
      "execution_count": null,
      "outputs": [
        {
          "output_type": "stream",
          "name": "stdout",
          "text": [
            "Média:  6.0\n"
          ]
        }
      ]
    },
    {
      "cell_type": "markdown",
      "metadata": {
        "id": "9CJi3c3zprrp"
      },
      "source": [
        "# Exercício 3: Matriz\n",
        "\n",
        "Dada a matriz abaixo, construa uma estrutura de repetição para percorrer e somar todos os elementos da matriz"
      ]
    },
    {
      "cell_type": "code",
      "metadata": {
        "id": "-NkeiH0Ap0zT",
        "colab": {
          "base_uri": "https://localhost:8080/"
        },
        "outputId": "6b68eebc-c8ae-42ca-c952-a19f7a21dc8f"
      },
      "source": [
        "matriz = np.array([[3, 4, 1],\n",
        "                   [3, 1, 5]])\n",
        "matriz"
      ],
      "execution_count": null,
      "outputs": [
        {
          "output_type": "execute_result",
          "data": {
            "text/plain": [
              "array([[3, 4, 1],\n",
              "       [3, 1, 5]])"
            ]
          },
          "metadata": {},
          "execution_count": 13
        }
      ]
    },
    {
      "cell_type": "code",
      "metadata": {
        "id": "clrFxS5tqCb-",
        "colab": {
          "base_uri": "https://localhost:8080/"
        },
        "outputId": "b7bea6d3-8b3b-41d7-faf3-faa7e6fec3d7"
      },
      "source": [
        "matriz.shape"
      ],
      "execution_count": null,
      "outputs": [
        {
          "output_type": "execute_result",
          "data": {
            "text/plain": [
              "(2, 3)"
            ]
          },
          "metadata": {},
          "execution_count": 14
        }
      ]
    },
    {
      "cell_type": "code",
      "metadata": {
        "id": "DGlq3rtvp9Km",
        "colab": {
          "base_uri": "https://localhost:8080/"
        },
        "outputId": "198d4f81-6752-4ad5-c252-9b94e73c1f16"
      },
      "source": [
        "soma = 0\n",
        "for i in range(matriz.shape[0]):\n",
        "  for j in range(matriz.shape[1]):\n",
        "    #print(matriz[i][j])\n",
        "    soma += matriz[i][j]\n",
        "print('Soma: ', soma)"
      ],
      "execution_count": null,
      "outputs": [
        {
          "output_type": "stream",
          "name": "stdout",
          "text": [
            "Soma:  17\n"
          ]
        }
      ]
    }
  ]
}