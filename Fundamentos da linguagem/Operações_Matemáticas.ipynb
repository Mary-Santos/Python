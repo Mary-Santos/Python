{
  "nbformat": 4,
  "nbformat_minor": 0,
  "metadata": {
    "colab": {
      "name": "Operações Matemáticas.ipynb",
      "provenance": [],
      "collapsed_sections": []
    },
    "kernelspec": {
      "name": "python3",
      "display_name": "Python 3"
    }
  },
  "cells": [
    {
      "cell_type": "markdown",
      "metadata": {
        "id": "Pqg-faI0Yfph"
      },
      "source": [
        "# Operações matemáticas"
      ]
    },
    {
      "cell_type": "markdown",
      "metadata": {
        "id": "OdCqxB8wZkNZ"
      },
      "source": [
        "## Operações matemáticas"
      ]
    },
    {
      "cell_type": "code",
      "metadata": {
        "id": "GjbDk0zuvZya",
        "colab": {
          "base_uri": "https://localhost:8080/"
        },
        "outputId": "f4ce3de9-9a6c-45d4-b47f-5554c399efd8"
      },
      "source": [
        "a = 5\n",
        "b = 3\n",
        "print(a, b)"
      ],
      "execution_count": null,
      "outputs": [
        {
          "output_type": "stream",
          "name": "stdout",
          "text": [
            "5 3\n"
          ]
        }
      ]
    },
    {
      "cell_type": "code",
      "metadata": {
        "id": "f-FunDS2vey-",
        "colab": {
          "base_uri": "https://localhost:8080/"
        },
        "outputId": "54df21fc-baf9-4ff0-961f-7642a2b84744"
      },
      "source": [
        "a + b"
      ],
      "execution_count": null,
      "outputs": [
        {
          "output_type": "execute_result",
          "data": {
            "text/plain": [
              "8"
            ]
          },
          "metadata": {},
          "execution_count": 2
        }
      ]
    },
    {
      "cell_type": "code",
      "metadata": {
        "id": "goI2V927vhKY",
        "colab": {
          "base_uri": "https://localhost:8080/"
        },
        "outputId": "6d640dec-b256-421d-b0e4-39988c2bcf01"
      },
      "source": [
        "print('A soma é', a + b)"
      ],
      "execution_count": null,
      "outputs": [
        {
          "output_type": "stream",
          "name": "stdout",
          "text": [
            "A soma é 8\n"
          ]
        }
      ]
    },
    {
      "cell_type": "code",
      "metadata": {
        "id": "yZk9zH7xvnA3",
        "colab": {
          "base_uri": "https://localhost:8080/"
        },
        "outputId": "7fa9423d-0088-49f5-8245-e7d84550e964"
      },
      "source": [
        "print('A subtração é', a - b)"
      ],
      "execution_count": null,
      "outputs": [
        {
          "output_type": "stream",
          "name": "stdout",
          "text": [
            "A subtração é 2\n"
          ]
        }
      ]
    },
    {
      "cell_type": "code",
      "metadata": {
        "id": "fKFlQDMvvsFF",
        "colab": {
          "base_uri": "https://localhost:8080/"
        },
        "outputId": "13870eb3-57ab-4b2a-99b4-9d1b20518b1e"
      },
      "source": [
        "print('A divisão é', a / b)"
      ],
      "execution_count": null,
      "outputs": [
        {
          "output_type": "stream",
          "name": "stdout",
          "text": [
            "A divisão é 1.6666666666666667\n"
          ]
        }
      ]
    },
    {
      "cell_type": "code",
      "metadata": {
        "id": "imRDwh3UvwPT",
        "colab": {
          "base_uri": "https://localhost:8080/"
        },
        "outputId": "28f88646-2f67-4288-ad4e-b7ab0cbcce52"
      },
      "source": [
        "print('A multiplicação é', a * b)"
      ],
      "execution_count": null,
      "outputs": [
        {
          "output_type": "stream",
          "name": "stdout",
          "text": [
            "A multiplicação é 15\n"
          ]
        }
      ]
    },
    {
      "cell_type": "code",
      "metadata": {
        "id": "OE3QUcJSv1Lg",
        "colab": {
          "base_uri": "https://localhost:8080/"
        },
        "outputId": "c1e73a88-b346-4029-cebc-0d35249ab191"
      },
      "source": [
        "print('O resto da divisão é', 10 % 3)"
      ],
      "execution_count": null,
      "outputs": [
        {
          "output_type": "stream",
          "name": "stdout",
          "text": [
            "O resto da divisão é 1\n"
          ]
        }
      ]
    },
    {
      "cell_type": "code",
      "metadata": {
        "id": "qO0vvLZvwMKx",
        "colab": {
          "base_uri": "https://localhost:8080/"
        },
        "outputId": "e7585390-2465-41de-821a-458de5291b0c"
      },
      "source": [
        "5 * 5 * 5 * 5"
      ],
      "execution_count": null,
      "outputs": [
        {
          "output_type": "execute_result",
          "data": {
            "text/plain": [
              "625"
            ]
          },
          "metadata": {},
          "execution_count": 8
        }
      ]
    },
    {
      "cell_type": "code",
      "metadata": {
        "id": "8njb8NSXwEO2",
        "colab": {
          "base_uri": "https://localhost:8080/"
        },
        "outputId": "7de225d7-8829-4521-f6b5-811d047634ec"
      },
      "source": [
        "print('5 elevado a 4 é', 5**4)"
      ],
      "execution_count": null,
      "outputs": [
        {
          "output_type": "stream",
          "name": "stdout",
          "text": [
            "5 elevado a 4 é 625\n"
          ]
        }
      ]
    },
    {
      "cell_type": "code",
      "metadata": {
        "id": "eL3w6bgmwYdy",
        "colab": {
          "base_uri": "https://localhost:8080/"
        },
        "outputId": "10dc32dc-252f-4b96-d7e4-a8df992f1dc4"
      },
      "source": [
        "import math\n",
        "math.sqrt(81)"
      ],
      "execution_count": null,
      "outputs": [
        {
          "output_type": "execute_result",
          "data": {
            "text/plain": [
              "9.0"
            ]
          },
          "metadata": {},
          "execution_count": 10
        }
      ]
    },
    {
      "cell_type": "markdown",
      "metadata": {
        "id": "qGlWtUpyZijE"
      },
      "source": [
        "## Arredondamento"
      ]
    },
    {
      "cell_type": "code",
      "metadata": {
        "id": "k_X9_e0lwq--",
        "colab": {
          "base_uri": "https://localhost:8080/"
        },
        "outputId": "9d6f3c98-cf33-4144-e7cc-f7dbeaec5077"
      },
      "source": [
        "casos_doenca = 134\n",
        "numero_habitantes = 34432\n",
        "casos_por_habitante = casos_doenca / numero_habitantes\n",
        "print(casos_por_habitante)"
      ],
      "execution_count": null,
      "outputs": [
        {
          "output_type": "stream",
          "name": "stdout",
          "text": [
            "0.003891728624535316\n"
          ]
        }
      ]
    },
    {
      "cell_type": "code",
      "metadata": {
        "id": "DZrPZvK7w5op",
        "colab": {
          "base_uri": "https://localhost:8080/"
        },
        "outputId": "012f4e5a-10e8-408f-9f35-4a8b49e11bcd"
      },
      "source": [
        "round(casos_por_habitante, 6)"
      ],
      "execution_count": null,
      "outputs": [
        {
          "output_type": "execute_result",
          "data": {
            "text/plain": [
              "0.003892"
            ]
          },
          "metadata": {},
          "execution_count": 13
        }
      ]
    },
    {
      "cell_type": "code",
      "metadata": {
        "id": "LD--ZG0VxBPA",
        "colab": {
          "base_uri": "https://localhost:8080/"
        },
        "outputId": "1974250f-6b89-4e3d-cd7e-8e2fd5beba00"
      },
      "source": [
        "print('O número de casos por habitante é de', round(casos_por_habitante, 4))"
      ],
      "execution_count": null,
      "outputs": [
        {
          "output_type": "stream",
          "name": "stdout",
          "text": [
            "O número de casos por habitante é de 0.0039\n"
          ]
        }
      ]
    }
  ]
}