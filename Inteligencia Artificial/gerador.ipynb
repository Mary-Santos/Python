{
  "cells": [
    {
      "cell_type": "markdown",
      "metadata": {},
      "source": [
        "###Prof. Fernando Amaral https://www.eia.ai/"
      ]
    },
    {
      "cell_type": "code",
      "execution_count": null,
      "metadata": {
        "id": "bDDlAm3ztp3T"
      },
      "outputs": [],
      "source": [
        "!pip install transformers"
      ]
    },
    {
      "cell_type": "code",
      "execution_count": 2,
      "metadata": {
        "id": "i_kgTxNOt-Ow"
      },
      "outputs": [],
      "source": [
        "import transformers\n",
        "from transformers import pipeline"
      ]
    },
    {
      "cell_type": "code",
      "execution_count": null,
      "metadata": {
        "id": "rO9G1ZJJ2b90"
      },
      "outputs": [],
      "source": [
        "gerador = pipeline(\"text-generation\", model=\"pierreguillou/gpt2-small-portuguese\")"
      ]
    },
    {
      "cell_type": "code",
      "execution_count": 5,
      "metadata": {
        "colab": {
          "base_uri": "https://localhost:8080/"
        },
        "id": "KuwKNHsa5sTy",
        "outputId": "a1e8169e-4260-43d1-fb69-260c50358a50"
      },
      "outputs": [
        {
          "name": "stderr",
          "output_type": "stream",
          "text": [
            "Setting `pad_token_id` to `eos_token_id`:50256 for open-end generation.\n"
          ]
        },
        {
          "name": "stdout",
          "output_type": "stream",
          "text": [
            "[{'generated_text': 'Em sentido estrito, ciência refere-se ao sistema de adquirir conhecimento baseado no método científico. Entretanto, não é somente um tipo de conhecimento, como também é o conhecimento das relações entre entidades sociais. É também o desenvolvimento da cultura, incluindo, por parte dos autores, em especial o italiano Eger U'}]\n"
          ]
        }
      ],
      "source": [
        "texto = \"Em sentido estrito, ciência refere-se ao sistema de adquirir conhecimento baseado no método científico.\"\n",
        "resultado = gerador(texto, max_length=60, do_sample=True)\n",
        "print(resultado)"
      ]
    },
    {
      "cell_type": "code",
      "execution_count": null,
      "metadata": {
        "id": "NGWM_yfI6Cgh"
      },
      "outputs": [],
      "source": []
    }
  ],
  "metadata": {
    "colab": {
      "name": "gerador.ipynb",
      "provenance": []
    },
    "kernelspec": {
      "display_name": "Python 3",
      "name": "python3"
    },
    "language_info": {
      "name": "python"
    }
  },
  "nbformat": 4,
  "nbformat_minor": 0
}
