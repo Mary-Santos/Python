{
  "cells": [
    {
      "cell_type": "markdown",
      "metadata": {},
      "source": [
        "###Prof. Fernando Amaral https://www.eia.ai/"
      ]
    },
    {
      "cell_type": "code",
      "execution_count": null,
      "metadata": {
        "id": "bDDlAm3ztp3T"
      },
      "outputs": [],
      "source": [
        "!pip install transformers"
      ]
    },
    {
      "cell_type": "code",
      "execution_count": 2,
      "metadata": {
        "id": "i_kgTxNOt-Ow"
      },
      "outputs": [],
      "source": [
        "import transformers\n",
        "from transformers import pipeline"
      ]
    },
    {
      "cell_type": "code",
      "execution_count": null,
      "metadata": {
        "id": "ACzD8vVjuKrq"
      },
      "outputs": [],
      "source": [
        "qea = pipeline(\"question-answering\", model=\"pierreguillou/bert-base-cased-squad-v1.1-portuguese\")"
      ]
    },
    {
      "cell_type": "code",
      "execution_count": 6,
      "metadata": {
        "colab": {
          "base_uri": "https://localhost:8080/"
        },
        "id": "8cdEl6q7u88Y",
        "outputId": "06c8cdbb-0ba5-4c42-f102-237087345cbc"
      },
      "outputs": [
        {
          "name": "stdout",
          "output_type": "stream",
          "text": [
            "Pergunta:  Quantas publicações cientificas Carl Sagan tem publicado?\n",
            "Resposta:  mais de 600\n",
            "Score:  0.7415891885757446\n"
          ]
        }
      ],
      "source": [
        "texto = \"Carl Sagan foi um cientista norte-americano. Sagan é autor de mais de 600 publicações científicas e também de mais de vinte livros de ciência e ficção científica.\"\n",
        "#pergunta = \"Quantos livros Carl Sagan tem publicado?\"\n",
        "#pergunta = \"Quem é Carl Sagan?\"\n",
        "pergunta = \"Quantas publicações cientificas Carl Sagan tem publicado?\"\n",
        "resposta = qea(question=pergunta, context=texto)\n",
        "print(\"Pergunta: \", pergunta)\n",
        "print(\"Resposta: \", resposta['answer'])\n",
        "print(\"Score: \", resposta['score'])"
      ]
    },
    {
      "cell_type": "code",
      "execution_count": null,
      "metadata": {
        "id": "Nq4OI4Rtv5Bg"
      },
      "outputs": [],
      "source": []
    }
  ],
  "metadata": {
    "colab": {
      "name": "perguntaserespostas.ipynb",
      "provenance": []
    },
    "kernelspec": {
      "display_name": "Python 3",
      "name": "python3"
    },
    "language_info": {
      "name": "python"
    }
  },
  "nbformat": 4,
  "nbformat_minor": 0
}
