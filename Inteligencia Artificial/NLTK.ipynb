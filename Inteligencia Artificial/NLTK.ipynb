{
 "cells": [
  {
   "cell_type": "markdown",
   "metadata": {},
   "source": [
    "###Prof. Fernando Amaral https://www.eia.ai/"
   ]
  },
  {
   "cell_type": "code",
   "execution_count": 2,
   "metadata": {
    "colab": {
     "base_uri": "https://localhost:8080/"
    },
    "id": "GdWdN47aYibS",
    "outputId": "fa09accd-2ecc-431a-f694-9f24186b146a"
   },
   "outputs": [
    {
     "name": "stdout",
     "output_type": "stream",
     "text": [
      "[nltk_data] Downloading package stopwords to /root/nltk_data...\n",
      "[nltk_data]   Package stopwords is already up-to-date!\n",
      "[nltk_data] Downloading package punkt to /root/nltk_data...\n",
      "[nltk_data]   Package punkt is already up-to-date!\n",
      "[nltk_data] Downloading package tagsets to /root/nltk_data...\n",
      "[nltk_data]   Package tagsets is already up-to-date!\n",
      "[nltk_data] Downloading package wordnet to /root/nltk_data...\n",
      "[nltk_data]   Package wordnet is already up-to-date!\n",
      "[nltk_data] Downloading package averaged_perceptron_tagger to\n",
      "[nltk_data]     /root/nltk_data...\n",
      "[nltk_data]   Unzipping taggers/averaged_perceptron_tagger.zip.\n",
      "[nltk_data] Downloading package maxent_ne_chunker to\n",
      "[nltk_data]     /root/nltk_data...\n",
      "[nltk_data]   Package maxent_ne_chunker is already up-to-date!\n",
      "[nltk_data] Downloading package words to /root/nltk_data...\n",
      "[nltk_data]   Package words is already up-to-date!\n"
     ]
    },
    {
     "data": {
      "text/plain": [
       "True"
      ]
     },
     "execution_count": 2,
     "metadata": {},
     "output_type": "execute_result"
    }
   ],
   "source": [
    "import nltk\n",
    "from nltk.corpus import stopwords\n",
    "from nltk.stem import PorterStemmer, WordNetLemmatizer, SnowballStemmer, LancasterStemmer\n",
    "from nltk.tokenize import word_tokenize, sent_tokenize\n",
    "from nltk.tag import pos_tag, pos_tag_sents\n",
    "import string\n",
    "nltk.download(\"stopwords\")\n",
    "nltk.download(\"punkt\")\n",
    "nltk.download(\"tagsets\")\n",
    "nltk.download(\"wordnet\")\n",
    "nltk.download(\"averaged_perceptron_tagger\")\n",
    "nltk.download(\"maxent_ne_chunker\")\n",
    "nltk.download(\"words\")"
   ]
  },
  {
   "cell_type": "code",
   "execution_count": 3,
   "metadata": {
    "colab": {
     "base_uri": "https://localhost:8080/"
    },
    "id": "dLmV7yW0mfw3",
    "outputId": "2ffbcee0-e9d1-4b46-da15-cb5eace50edb"
   },
   "outputs": [
    {
     "name": "stdout",
     "output_type": "stream",
     "text": [
      "Nós somos feitos de poeira de estrelas. Nós somos uma maneira de o cosmos se autoconhecer. A imaginação nos leva a mundos que nunca sequer existiram. Mas sem ela não vamos a lugar algum.  \n"
     ]
    }
   ],
   "source": [
    "Texto = \"Nós somos feitos de poeira de estrelas. Nós somos uma maneira de o cosmos se autoconhecer. A imaginação nos leva a mundos que nunca sequer existiram. Mas sem ela não vamos a lugar algum.  \"\n",
    "print(Texto)"
   ]
  },
  {
   "cell_type": "code",
   "execution_count": null,
   "metadata": {
    "id": "SW2rk8ecnF7Y"
   },
   "outputs": [],
   "source": [
    "nltk.download()"
   ]
  },
  {
   "cell_type": "code",
   "execution_count": 5,
   "metadata": {
    "colab": {
     "base_uri": "https://localhost:8080/"
    },
    "id": "wxwjS4VPpOlO",
    "outputId": "577705e8-bcdb-40db-9cb9-4806c13ebd78"
   },
   "outputs": [
    {
     "name": "stdout",
     "output_type": "stream",
     "text": [
      "<class 'list'>\n",
      "['Nós somos feitos de poeira de estrelas.', 'Nós somos uma maneira de o cosmos se autoconhecer.', 'A imaginação nos leva a mundos que nunca sequer existiram.', 'Mas sem ela não vamos a lugar algum.']\n"
     ]
    }
   ],
   "source": [
    "sentencas = sent_tokenize(Texto, language=\"portuguese\")\n",
    "print(type(sentencas))\n",
    "print(sentencas)"
   ]
  },
  {
   "cell_type": "code",
   "execution_count": 6,
   "metadata": {
    "colab": {
     "base_uri": "https://localhost:8080/"
    },
    "id": "KRsFHriHqBRD",
    "outputId": "e8c11131-d276-43bf-fa03-f55b2f47a33d"
   },
   "outputs": [
    {
     "name": "stdout",
     "output_type": "stream",
     "text": [
      "4\n"
     ]
    }
   ],
   "source": [
    "print(len(sentencas))"
   ]
  },
  {
   "cell_type": "code",
   "execution_count": 7,
   "metadata": {
    "colab": {
     "base_uri": "https://localhost:8080/"
    },
    "id": "oNmP9Hf_qMgF",
    "outputId": "22eb4ff3-e422-4ec7-b7d3-31b7119b016a"
   },
   "outputs": [
    {
     "name": "stdout",
     "output_type": "stream",
     "text": [
      "['Nós', 'somos', 'feitos', 'de', 'poeira', 'de', 'estrelas', '.', 'Nós', 'somos', 'uma', 'maneira', 'de', 'o', 'cosmos', 'se', 'autoconhecer', '.', 'A', 'imaginação', 'nos', 'leva', 'a', 'mundos', 'que', 'nunca', 'sequer', 'existiram', '.', 'Mas', 'sem', 'ela', 'não', 'vamos', 'a', 'lugar', 'algum', '.']\n",
      "38\n"
     ]
    }
   ],
   "source": [
    "tokens = word_tokenize(Texto, language=\"portuguese\")\n",
    "print(tokens)\n",
    "print(len(tokens))"
   ]
  },
  {
   "cell_type": "code",
   "execution_count": 9,
   "metadata": {
    "colab": {
     "base_uri": "https://localhost:8080/"
    },
    "id": "7xBaogsiqZUJ",
    "outputId": "787d2910-145c-46d6-921e-f0bb11ce8ba5"
   },
   "outputs": [
    {
     "name": "stdout",
     "output_type": "stream",
     "text": [
      "204\n",
      "['de', 'a', 'o', 'que', 'e', 'é', 'do', 'da', 'em', 'um', 'para', 'com', 'não', 'uma', 'os', 'no', 'se', 'na', 'por', 'mais', 'as', 'dos', 'como', 'mas', 'ao', 'ele', 'das', 'à', 'seu', 'sua', 'ou', 'quando', 'muito', 'nos', 'já', 'eu', 'também', 'só', 'pelo', 'pela', 'até', 'isso', 'ela', 'entre', 'depois', 'sem', 'mesmo', 'aos', 'seus', 'quem', 'nas', 'me', 'esse', 'eles', 'você', 'essa', 'num', 'nem', 'suas', 'meu', 'às', 'minha', 'numa', 'pelos', 'elas', 'qual', 'nós', 'lhe', 'deles', 'essas', 'esses', 'pelas', 'este', 'dele', 'tu', 'te', 'vocês', 'vos', 'lhes', 'meus', 'minhas', 'teu', 'tua', 'teus', 'tuas', 'nosso', 'nossa', 'nossos', 'nossas', 'dela', 'delas', 'esta', 'estes', 'estas', 'aquele', 'aquela', 'aqueles', 'aquelas', 'isto', 'aquilo', 'estou', 'está', 'estamos', 'estão', 'estive', 'esteve', 'estivemos', 'estiveram', 'estava', 'estávamos', 'estavam', 'estivera', 'estivéramos', 'esteja', 'estejamos', 'estejam', 'estivesse', 'estivéssemos', 'estivessem', 'estiver', 'estivermos', 'estiverem', 'hei', 'há', 'havemos', 'hão', 'houve', 'houvemos', 'houveram', 'houvera', 'houvéramos', 'haja', 'hajamos', 'hajam', 'houvesse', 'houvéssemos', 'houvessem', 'houver', 'houvermos', 'houverem', 'houverei', 'houverá', 'houveremos', 'houverão', 'houveria', 'houveríamos', 'houveriam', 'sou', 'somos', 'são', 'era', 'éramos', 'eram', 'fui', 'foi', 'fomos', 'foram', 'fora', 'fôramos', 'seja', 'sejamos', 'sejam', 'fosse', 'fôssemos', 'fossem', 'for', 'formos', 'forem', 'serei', 'será', 'seremos', 'serão', 'seria', 'seríamos', 'seriam', 'tenho', 'tem', 'temos', 'tém', 'tinha', 'tínhamos', 'tinham', 'tive', 'teve', 'tivemos', 'tiveram', 'tivera', 'tivéramos', 'tenha', 'tenhamos', 'tenham', 'tivesse', 'tivéssemos', 'tivessem', 'tiver', 'tivermos', 'tiverem', 'terei', 'terá', 'teremos', 'terão', 'teria', 'teríamos', 'teriam']\n"
     ]
    }
   ],
   "source": [
    "stops = stopwords.words(\"portuguese\")\n",
    "print(len(stops))\n",
    "print(stops)"
   ]
  },
  {
   "cell_type": "code",
   "execution_count": 10,
   "metadata": {
    "colab": {
     "base_uri": "https://localhost:8080/"
    },
    "id": "d-P20qDvrEB6",
    "outputId": "812a7841-6bf8-4cf8-a82b-2671ecc49386"
   },
   "outputs": [
    {
     "name": "stdout",
     "output_type": "stream",
     "text": [
      "23\n",
      "Nós somos feitos de poeira de estrelas. Nós somos uma maneira de o cosmos se autoconhecer. A imaginação nos leva a mundos que nunca sequer existiram. Mas sem ela não vamos a lugar algum.  \n",
      "['Nós', 'feitos', 'poeira', 'estrelas', '.', 'Nós', 'maneira', 'cosmos', 'autoconhecer', '.', 'A', 'imaginação', 'leva', 'mundos', 'nunca', 'sequer', 'existiram', '.', 'Mas', 'vamos', 'lugar', 'algum', '.']\n"
     ]
    }
   ],
   "source": [
    "palavras_sem_stopwords = [p for p in tokens if p not in stops]\n",
    "print(len(palavras_sem_stopwords))\n",
    "print(Texto)\n",
    "print(palavras_sem_stopwords)    "
   ]
  },
  {
   "cell_type": "code",
   "execution_count": 11,
   "metadata": {
    "colab": {
     "base_uri": "https://localhost:8080/"
    },
    "id": "iM7FMUJNrukz",
    "outputId": "959a462e-737c-4ac9-8678-401a8ad6ce4b"
   },
   "outputs": [
    {
     "name": "stdout",
     "output_type": "stream",
     "text": [
      "!\"#$%&'()*+,-./:;<=>?@[\\]^_`{|}~\n"
     ]
    }
   ],
   "source": [
    "print(string.punctuation)"
   ]
  },
  {
   "cell_type": "code",
   "execution_count": 13,
   "metadata": {
    "colab": {
     "base_uri": "https://localhost:8080/"
    },
    "id": "4DWPRLNosXC8",
    "outputId": "f23da15d-9ad5-4c34-ce98-22090c417e9d"
   },
   "outputs": [
    {
     "name": "stdout",
     "output_type": "stream",
     "text": [
      "19\n",
      "Nós somos feitos de poeira de estrelas. Nós somos uma maneira de o cosmos se autoconhecer. A imaginação nos leva a mundos que nunca sequer existiram. Mas sem ela não vamos a lugar algum.  \n",
      "['Nós', 'feitos', 'poeira', 'estrelas', 'Nós', 'maneira', 'cosmos', 'autoconhecer', 'A', 'imaginação', 'leva', 'mundos', 'nunca', 'sequer', 'existiram', 'Mas', 'vamos', 'lugar', 'algum']\n"
     ]
    }
   ],
   "source": [
    "palavras_sem_pontuacao = [p for p in palavras_sem_stopwords if p not in string.punctuation]\n",
    "print(len(palavras_sem_pontuacao))\n",
    "print(Texto)\n",
    "print(palavras_sem_pontuacao)"
   ]
  },
  {
   "cell_type": "code",
   "execution_count": 15,
   "metadata": {
    "colab": {
     "base_uri": "https://localhost:8080/"
    },
    "id": "wC-vwY5PswL-",
    "outputId": "aa3c3ca3-9211-4606-edee-51acf2f889d1"
   },
   "outputs": [
    {
     "data": {
      "text/plain": [
       "FreqDist({'A': 1,\n",
       "          'Mas': 1,\n",
       "          'Nós': 2,\n",
       "          'algum': 1,\n",
       "          'autoconhecer': 1,\n",
       "          'cosmos': 1,\n",
       "          'estrelas': 1,\n",
       "          'existiram': 1,\n",
       "          'feitos': 1,\n",
       "          'imaginação': 1,\n",
       "          'leva': 1,\n",
       "          'lugar': 1,\n",
       "          'maneira': 1,\n",
       "          'mundos': 1,\n",
       "          'nunca': 1,\n",
       "          'poeira': 1,\n",
       "          'sequer': 1,\n",
       "          'vamos': 1})"
      ]
     },
     "execution_count": 15,
     "metadata": {},
     "output_type": "execute_result"
    }
   ],
   "source": [
    "frequencia = nltk.FreqDist(palavras_sem_pontuacao)\n",
    "frequencia"
   ]
  },
  {
   "cell_type": "code",
   "execution_count": 16,
   "metadata": {
    "colab": {
     "base_uri": "https://localhost:8080/"
    },
    "id": "sDMxMQlTuOt2",
    "outputId": "23ef5bf2-5f77-4fc5-ff02-51f5973c79b5"
   },
   "outputs": [
    {
     "data": {
      "text/plain": [
       "[('Nós', 2), ('feitos', 1), ('poeira', 1), ('estrelas', 1), ('maneira', 1)]"
      ]
     },
     "execution_count": 16,
     "metadata": {},
     "output_type": "execute_result"
    }
   ],
   "source": [
    "mais_comuns = frequencia.most_common(5)\n",
    "mais_comuns"
   ]
  },
  {
   "cell_type": "code",
   "execution_count": 19,
   "metadata": {
    "colab": {
     "base_uri": "https://localhost:8080/"
    },
    "id": "j9bmHOYyubfF",
    "outputId": "704db0f6-b61d-42b5-f010-60d22c8ecbc7"
   },
   "outputs": [
    {
     "name": "stdout",
     "output_type": "stream",
     "text": [
      "['Nós', 'feitos', 'poeira', 'estrelas', 'Nós', 'maneira', 'cosmos', 'autoconhecer', 'A', 'imaginação', 'leva', 'mundos', 'nunca', 'sequer', 'existiram', 'Mas', 'vamos', 'lugar', 'algum']\n",
      "['nó', 'feito', 'poeira', 'estrela', '.', 'nó', 'maneira', 'cosmo', 'autoconhec', '.', 'A', 'imaginação', 'leva', 'mundo', 'nunca', 'sequer', 'existiram', '.', 'ma', 'vamo', 'lugar', 'algum', '.']\n"
     ]
    }
   ],
   "source": [
    "stemmer = PorterStemmer()\n",
    "stem1  = [stemmer.stem(word) for word in palavras_sem_stopwords]\n",
    "print(palavras_sem_pontuacao)\n",
    "print(stem1)"
   ]
  },
  {
   "cell_type": "code",
   "execution_count": 20,
   "metadata": {
    "colab": {
     "base_uri": "https://localhost:8080/"
    },
    "id": "kj2jA9p0xwIH",
    "outputId": "57437924-08ae-49ef-d44c-7690501e65d3"
   },
   "outputs": [
    {
     "name": "stdout",
     "output_type": "stream",
     "text": [
      "['Nós', 'feitos', 'poeira', 'estrelas', 'Nós', 'maneira', 'cosmos', 'autoconhecer', 'A', 'imaginação', 'leva', 'mundos', 'nunca', 'sequer', 'existiram', 'Mas', 'vamos', 'lugar', 'algum']\n",
      "['nós', 'feit', 'poeir', 'estrel', 'nós', 'maneir', 'cosm', 'autoconhec', 'a', 'imagin', 'lev', 'mund', 'nunc', 'sequ', 'exist', 'mas', 'vam', 'lug', 'algum']\n"
     ]
    }
   ],
   "source": [
    "stemmer2 = SnowballStemmer(\"portuguese\")\n",
    "stem2 = [stemmer2.stem(word) for word in palavras_sem_pontuacao]\n",
    "print(palavras_sem_pontuacao)\n",
    "print(stem2)\n"
   ]
  },
  {
   "cell_type": "code",
   "execution_count": 21,
   "metadata": {
    "colab": {
     "base_uri": "https://localhost:8080/"
    },
    "id": "9JiWQPYqye7b",
    "outputId": "888057e6-71cc-4abb-8a11-80b1d7c5760b"
   },
   "outputs": [
    {
     "name": "stdout",
     "output_type": "stream",
     "text": [
      "['Nós', 'feitos', 'poeira', 'estrelas', 'Nós', 'maneira', 'cosmos', 'autoconhecer', 'A', 'imaginação', 'leva', 'mundos', 'nunca', 'sequer', 'existiram', 'Mas', 'vamos', 'lugar', 'algum']\n",
      "['nós', 'feito', 'poeir', 'estrela', 'nós', 'maneir', 'cosmo', 'autoconhec', 'a', 'imaginação', 'lev', 'mundo', 'nunc', 'sequ', 'existiram', 'mas', 'vamo', 'lug', 'alg']\n"
     ]
    }
   ],
   "source": [
    "stemmer3 = LancasterStemmer()\n",
    "stem3 = [stemmer3.stem(word) for word in palavras_sem_pontuacao]\n",
    "print(palavras_sem_pontuacao)\n",
    "print(stem3)"
   ]
  },
  {
   "cell_type": "code",
   "execution_count": 22,
   "metadata": {
    "colab": {
     "base_uri": "https://localhost:8080/"
    },
    "id": "CMA0x3qDy4bW",
    "outputId": "f0c4823c-fedb-4a52-c5a0-3e294c72b671"
   },
   "outputs": [
    {
     "name": "stdout",
     "output_type": "stream",
     "text": [
      "$: dollar\n",
      "    $ -$ --$ A$ C$ HK$ M$ NZ$ S$ U.S.$ US$\n",
      "'': closing quotation mark\n",
      "    ' ''\n",
      "(: opening parenthesis\n",
      "    ( [ {\n",
      "): closing parenthesis\n",
      "    ) ] }\n",
      ",: comma\n",
      "    ,\n",
      "--: dash\n",
      "    --\n",
      ".: sentence terminator\n",
      "    . ! ?\n",
      ":: colon or ellipsis\n",
      "    : ; ...\n",
      "CC: conjunction, coordinating\n",
      "    & 'n and both but either et for less minus neither nor or plus so\n",
      "    therefore times v. versus vs. whether yet\n",
      "CD: numeral, cardinal\n",
      "    mid-1890 nine-thirty forty-two one-tenth ten million 0.5 one forty-\n",
      "    seven 1987 twenty '79 zero two 78-degrees eighty-four IX '60s .025\n",
      "    fifteen 271,124 dozen quintillion DM2,000 ...\n",
      "DT: determiner\n",
      "    all an another any both del each either every half la many much nary\n",
      "    neither no some such that the them these this those\n",
      "EX: existential there\n",
      "    there\n",
      "FW: foreign word\n",
      "    gemeinschaft hund ich jeux habeas Haementeria Herr K'ang-si vous\n",
      "    lutihaw alai je jour objets salutaris fille quibusdam pas trop Monte\n",
      "    terram fiche oui corporis ...\n",
      "IN: preposition or conjunction, subordinating\n",
      "    astride among uppon whether out inside pro despite on by throughout\n",
      "    below within for towards near behind atop around if like until below\n",
      "    next into if beside ...\n",
      "JJ: adjective or numeral, ordinal\n",
      "    third ill-mannered pre-war regrettable oiled calamitous first separable\n",
      "    ectoplasmic battery-powered participatory fourth still-to-be-named\n",
      "    multilingual multi-disciplinary ...\n",
      "JJR: adjective, comparative\n",
      "    bleaker braver breezier briefer brighter brisker broader bumper busier\n",
      "    calmer cheaper choosier cleaner clearer closer colder commoner costlier\n",
      "    cozier creamier crunchier cuter ...\n",
      "JJS: adjective, superlative\n",
      "    calmest cheapest choicest classiest cleanest clearest closest commonest\n",
      "    corniest costliest crassest creepiest crudest cutest darkest deadliest\n",
      "    dearest deepest densest dinkiest ...\n",
      "LS: list item marker\n",
      "    A A. B B. C C. D E F First G H I J K One SP-44001 SP-44002 SP-44005\n",
      "    SP-44007 Second Third Three Two * a b c d first five four one six three\n",
      "    two\n",
      "MD: modal auxiliary\n",
      "    can cannot could couldn't dare may might must need ought shall should\n",
      "    shouldn't will would\n",
      "NN: noun, common, singular or mass\n",
      "    common-carrier cabbage knuckle-duster Casino afghan shed thermostat\n",
      "    investment slide humour falloff slick wind hyena override subhumanity\n",
      "    machinist ...\n",
      "NNP: noun, proper, singular\n",
      "    Motown Venneboerger Czestochwa Ranzer Conchita Trumplane Christos\n",
      "    Oceanside Escobar Kreisler Sawyer Cougar Yvette Ervin ODI Darryl CTCA\n",
      "    Shannon A.K.C. Meltex Liverpool ...\n",
      "NNPS: noun, proper, plural\n",
      "    Americans Americas Amharas Amityvilles Amusements Anarcho-Syndicalists\n",
      "    Andalusians Andes Andruses Angels Animals Anthony Antilles Antiques\n",
      "    Apache Apaches Apocrypha ...\n",
      "NNS: noun, common, plural\n",
      "    undergraduates scotches bric-a-brac products bodyguards facets coasts\n",
      "    divestitures storehouses designs clubs fragrances averages\n",
      "    subjectivists apprehensions muses factory-jobs ...\n",
      "PDT: pre-determiner\n",
      "    all both half many quite such sure this\n",
      "POS: genitive marker\n",
      "    ' 's\n",
      "PRP: pronoun, personal\n",
      "    hers herself him himself hisself it itself me myself one oneself ours\n",
      "    ourselves ownself self she thee theirs them themselves they thou thy us\n",
      "PRP$: pronoun, possessive\n",
      "    her his mine my our ours their thy your\n",
      "RB: adverb\n",
      "    occasionally unabatingly maddeningly adventurously professedly\n",
      "    stirringly prominently technologically magisterially predominately\n",
      "    swiftly fiscally pitilessly ...\n",
      "RBR: adverb, comparative\n",
      "    further gloomier grander graver greater grimmer harder harsher\n",
      "    healthier heavier higher however larger later leaner lengthier less-\n",
      "    perfectly lesser lonelier longer louder lower more ...\n",
      "RBS: adverb, superlative\n",
      "    best biggest bluntest earliest farthest first furthest hardest\n",
      "    heartiest highest largest least less most nearest second tightest worst\n",
      "RP: particle\n",
      "    aboard about across along apart around aside at away back before behind\n",
      "    by crop down ever fast for forth from go high i.e. in into just later\n",
      "    low more off on open out over per pie raising start teeth that through\n",
      "    under unto up up-pp upon whole with you\n",
      "SYM: symbol\n",
      "    % & ' '' ''. ) ). * + ,. < = > @ A[fj] U.S U.S.S.R * ** ***\n",
      "TO: \"to\" as preposition or infinitive marker\n",
      "    to\n",
      "UH: interjection\n",
      "    Goodbye Goody Gosh Wow Jeepers Jee-sus Hubba Hey Kee-reist Oops amen\n",
      "    huh howdy uh dammit whammo shucks heck anyways whodunnit honey golly\n",
      "    man baby diddle hush sonuvabitch ...\n",
      "VB: verb, base form\n",
      "    ask assemble assess assign assume atone attention avoid bake balkanize\n",
      "    bank begin behold believe bend benefit bevel beware bless boil bomb\n",
      "    boost brace break bring broil brush build ...\n",
      "VBD: verb, past tense\n",
      "    dipped pleaded swiped regummed soaked tidied convened halted registered\n",
      "    cushioned exacted snubbed strode aimed adopted belied figgered\n",
      "    speculated wore appreciated contemplated ...\n",
      "VBG: verb, present participle or gerund\n",
      "    telegraphing stirring focusing angering judging stalling lactating\n",
      "    hankerin' alleging veering capping approaching traveling besieging\n",
      "    encrypting interrupting erasing wincing ...\n",
      "VBN: verb, past participle\n",
      "    multihulled dilapidated aerosolized chaired languished panelized used\n",
      "    experimented flourished imitated reunifed factored condensed sheared\n",
      "    unsettled primed dubbed desired ...\n",
      "VBP: verb, present tense, not 3rd person singular\n",
      "    predominate wrap resort sue twist spill cure lengthen brush terminate\n",
      "    appear tend stray glisten obtain comprise detest tease attract\n",
      "    emphasize mold postpone sever return wag ...\n",
      "VBZ: verb, present tense, 3rd person singular\n",
      "    bases reconstructs marks mixes displeases seals carps weaves snatches\n",
      "    slumps stretches authorizes smolders pictures emerges stockpiles\n",
      "    seduces fizzes uses bolsters slaps speaks pleads ...\n",
      "WDT: WH-determiner\n",
      "    that what whatever which whichever\n",
      "WP: WH-pronoun\n",
      "    that what whatever whatsoever which who whom whosoever\n",
      "WP$: WH-pronoun, possessive\n",
      "    whose\n",
      "WRB: Wh-adverb\n",
      "    how however whence whenever where whereby whereever wherein whereof why\n",
      "``: opening quotation mark\n",
      "    ` ``\n"
     ]
    }
   ],
   "source": [
    "nltk.help.upenn_tagset()"
   ]
  },
  {
   "cell_type": "code",
   "execution_count": 23,
   "metadata": {
    "colab": {
     "base_uri": "https://localhost:8080/"
    },
    "id": "xR8pZUpQ0OU2",
    "outputId": "045b9302-e953-416f-80b4-310628304b6c"
   },
   "outputs": [
    {
     "name": "stdout",
     "output_type": "stream",
     "text": [
      "[('Nós', 'NNP'), ('feitos', 'NN'), ('poeira', 'NN'), ('estrelas', 'NNS'), ('Nós', 'NNP'), ('maneira', 'NN'), ('cosmos', 'NN'), ('autoconhecer', 'VBZ'), ('A', 'DT'), ('imaginação', 'JJ'), ('leva', 'NN'), ('mundos', 'NN'), ('nunca', 'JJ'), ('sequer', 'NN'), ('existiram', 'NN'), ('Mas', 'NNP'), ('vamos', 'NN'), ('lugar', 'NN'), ('algum', 'NN')]\n"
     ]
    }
   ],
   "source": [
    "pos = nltk.pos_tag(palavras_sem_pontuacao, lang=\"port\")\n",
    "print(pos)"
   ]
  },
  {
   "cell_type": "code",
   "execution_count": 29,
   "metadata": {
    "colab": {
     "base_uri": "https://localhost:8080/"
    },
    "id": "232cFIJa0x1v",
    "outputId": "38946f8e-d8d6-4d20-f2d7-2429c8cb1c20"
   },
   "outputs": [
    {
     "name": "stdout",
     "output_type": "stream",
     "text": [
      "[['Nós', 'somos', 'feitos', 'de', 'poeira', 'de', 'estrelas', '.'], ['Nós', 'somos', 'uma', 'maneira', 'de', 'o', 'cosmos', 'se', 'autoconhecer', '.'], ['A', 'imaginação', 'nos', 'leva', 'a', 'mundos', 'que', 'nunca', 'sequer', 'existiram', '.'], ['Mas', 'sem', 'ela', 'não', 'vamos', 'a', 'lugar', 'algum', '.']]\n",
      "[[('Nós', 'NNP'), ('somos', 'VBD'), ('feitos', 'NNS'), ('de', 'FW'), ('poeira', 'FW'), ('de', 'FW'), ('estrelas', 'FW'), ('.', '.')], [('Nós', 'NNP'), ('somos', 'NN'), ('uma', 'JJ'), ('maneira', 'NN'), ('de', 'IN'), ('o', 'FW'), ('cosmos', 'NNS'), ('se', 'JJ'), ('autoconhecer', 'NN'), ('.', '.')], [('A', 'DT'), ('imaginação', 'JJ'), ('nos', 'JJ'), ('leva', 'NN'), ('a', 'DT'), ('mundos', 'NN'), ('que', 'NN'), ('nunca', 'JJ'), ('sequer', 'NN'), ('existiram', 'NN'), ('.', '.')], [('Mas', 'NNP'), ('sem', 'NN'), ('ela', 'NN'), ('não', 'JJ'), ('vamos', 'NN'), ('a', 'DT'), ('lugar', 'NN'), ('algum', 'NN'), ('.', '.')]]\n"
     ]
    }
   ],
   "source": [
    "token2 = sent_tokenize(Texto)\n",
    "\n",
    "ntokens = []\n",
    "for tokensentenca in token2:\n",
    "  ntokens.append(word_tokenize(tokensentenca))\n",
    "\n",
    "print(ntokens)\n",
    "\n",
    "possenteca = pos_tag_sents(ntokens)\n",
    "print(possenteca)\n",
    "\n"
   ]
  },
  {
   "cell_type": "code",
   "execution_count": 30,
   "metadata": {
    "colab": {
     "base_uri": "https://localhost:8080/"
    },
    "id": "MRFdRuZc1I4N",
    "outputId": "d7648542-8a33-4147-f735-20a31f4040f4"
   },
   "outputs": [
    {
     "name": "stdout",
     "output_type": "stream",
     "text": [
      "['Nós', 'feitos', 'poeira', 'estrelas', 'Nós', 'maneira', 'cosmos', 'autoconhecer', 'A', 'imaginação', 'leva', 'mundos', 'nunca', 'sequer', 'existiram', 'Mas', 'vamos', 'lugar', 'algum']\n",
      "['Nós', 'feitos', 'poeira', 'estrelas', '.', 'Nós', 'maneira', 'cosmos', 'autoconhecer', '.', 'A', 'imaginação', 'lev', 'mundos', 'nunca', 'sequer', 'existiram', '.', 'Mas', 'vamos', 'lugar', 'algum', '.']\n"
     ]
    }
   ],
   "source": [
    "lemmatizer = WordNetLemmatizer()\n",
    "resultado = [lemmatizer.lemmatize(palavra) for palavra in palavras_sem_stopwords]\n",
    "print(palavras_sem_pontuacao)\n",
    "print(resultado)"
   ]
  },
  {
   "cell_type": "code",
   "execution_count": 31,
   "metadata": {
    "colab": {
     "base_uri": "https://localhost:8080/"
    },
    "id": "Fwasd3Ts5Idm",
    "outputId": "12683ad4-0b2d-4a8f-ba72-34521c3d6059"
   },
   "outputs": [
    {
     "name": "stdout",
     "output_type": "stream",
     "text": [
      "(S\n",
      "  (PERSON Barack/NNP)\n",
      "  (ORGANIZATION Obama/NNP)\n",
      "  foi/NN\n",
      "  um/JJ\n",
      "  presidente/NN\n",
      "  dos/NN\n",
      "  (ORGANIZATION EUA/NNP))\n"
     ]
    }
   ],
   "source": [
    "texto_en = \"Barack Obama foi um presidente dos EUA\"\n",
    "token3 = word_tokenize(texto_en)\n",
    "tags = pos_tag(token3)\n",
    "en = nltk.ne_chunk(tags)\n",
    "print(en)"
   ]
  },
  {
   "cell_type": "code",
   "execution_count": null,
   "metadata": {
    "id": "eaV7RDzH5BYW"
   },
   "outputs": [],
   "source": []
  }
 ],
 "metadata": {
  "colab": {
   "name": "nltk.ipynb",
   "provenance": []
  },
  "kernelspec": {
   "display_name": "Python 3 (ipykernel)",
   "language": "python",
   "name": "python3"
  },
  "language_info": {
   "codemirror_mode": {
    "name": "ipython",
    "version": 3
   },
   "file_extension": ".py",
   "mimetype": "text/x-python",
   "name": "python",
   "nbconvert_exporter": "python",
   "pygments_lexer": "ipython3",
   "version": "3.9.7"
  }
 },
 "nbformat": 4,
 "nbformat_minor": 4
}
