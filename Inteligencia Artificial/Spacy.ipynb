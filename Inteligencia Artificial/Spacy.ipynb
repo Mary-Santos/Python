{
  "cells": [
    {
      "cell_type": "markdown",
      "metadata": {},
      "source": [
        "###Prof. Fernando Amaral https://www.eia.ai/"
      ]
    },
    {
      "cell_type": "code",
      "execution_count": 1,
      "metadata": {
        "colab": {
          "base_uri": "https://localhost:8080/"
        },
        "id": "6UsDmXx5ohyE",
        "outputId": "b0be5695-e610-4241-a4f7-7940a0da0825"
      },
      "outputs": [
        {
          "name": "stdout",
          "output_type": "stream",
          "text": [
            "Collecting spacy==3.2.0\n",
            "  Downloading spacy-3.2.0-cp37-cp37m-manylinux_2_17_x86_64.manylinux2014_x86_64.whl (6.0 MB)\n",
            "\u001b[K     |████████████████████████████████| 6.0 MB 5.8 MB/s \n",
            "\u001b[?25hCollecting srsly<3.0.0,>=2.4.1\n",
            "  Downloading srsly-2.4.2-cp37-cp37m-manylinux_2_17_x86_64.manylinux2014_x86_64.whl (451 kB)\n",
            "\u001b[K     |████████████████████████████████| 451 kB 44.3 MB/s \n",
            "\u001b[?25hRequirement already satisfied: cymem<2.1.0,>=2.0.2 in /usr/local/lib/python3.7/dist-packages (from spacy==3.2.0) (2.0.6)\n",
            "Requirement already satisfied: packaging>=20.0 in /usr/local/lib/python3.7/dist-packages (from spacy==3.2.0) (21.3)\n",
            "Requirement already satisfied: typing-extensions<4.0.0.0,>=3.7.4 in /usr/local/lib/python3.7/dist-packages (from spacy==3.2.0) (3.10.0.2)\n",
            "Requirement already satisfied: setuptools in /usr/local/lib/python3.7/dist-packages (from spacy==3.2.0) (57.4.0)\n",
            "Collecting spacy-legacy<3.1.0,>=3.0.8\n",
            "  Downloading spacy_legacy-3.0.8-py2.py3-none-any.whl (14 kB)\n",
            "Collecting spacy-loggers<2.0.0,>=1.0.0\n",
            "  Downloading spacy_loggers-1.0.1-py3-none-any.whl (7.0 kB)\n",
            "Collecting thinc<8.1.0,>=8.0.12\n",
            "  Downloading thinc-8.0.13-cp37-cp37m-manylinux_2_17_x86_64.manylinux2014_x86_64.whl (628 kB)\n",
            "\u001b[K     |████████████████████████████████| 628 kB 37.0 MB/s \n",
            "\u001b[?25hRequirement already satisfied: preshed<3.1.0,>=3.0.2 in /usr/local/lib/python3.7/dist-packages (from spacy==3.2.0) (3.0.6)\n",
            "Requirement already satisfied: requests<3.0.0,>=2.13.0 in /usr/local/lib/python3.7/dist-packages (from spacy==3.2.0) (2.23.0)\n",
            "Collecting pathy>=0.3.5\n",
            "  Downloading pathy-0.6.1-py3-none-any.whl (42 kB)\n",
            "\u001b[K     |████████████████████████████████| 42 kB 1.0 MB/s \n",
            "\u001b[?25hRequirement already satisfied: murmurhash<1.1.0,>=0.28.0 in /usr/local/lib/python3.7/dist-packages (from spacy==3.2.0) (1.0.6)\n",
            "Requirement already satisfied: tqdm<5.0.0,>=4.38.0 in /usr/local/lib/python3.7/dist-packages (from spacy==3.2.0) (4.62.3)\n",
            "Requirement already satisfied: wasabi<1.1.0,>=0.8.1 in /usr/local/lib/python3.7/dist-packages (from spacy==3.2.0) (0.9.0)\n",
            "Collecting langcodes<4.0.0,>=3.2.0\n",
            "  Downloading langcodes-3.3.0-py3-none-any.whl (181 kB)\n",
            "\u001b[K     |████████████████████████████████| 181 kB 43.0 MB/s \n",
            "\u001b[?25hCollecting pydantic!=1.8,!=1.8.1,<1.9.0,>=1.7.4\n",
            "  Downloading pydantic-1.8.2-cp37-cp37m-manylinux2014_x86_64.whl (10.1 MB)\n",
            "\u001b[K     |████████████████████████████████| 10.1 MB 30.4 MB/s \n",
            "\u001b[?25hRequirement already satisfied: blis<0.8.0,>=0.4.0 in /usr/local/lib/python3.7/dist-packages (from spacy==3.2.0) (0.4.1)\n",
            "Requirement already satisfied: numpy>=1.15.0 in /usr/local/lib/python3.7/dist-packages (from spacy==3.2.0) (1.21.5)\n",
            "Collecting catalogue<2.1.0,>=2.0.6\n",
            "  Downloading catalogue-2.0.6-py3-none-any.whl (17 kB)\n",
            "Requirement already satisfied: jinja2 in /usr/local/lib/python3.7/dist-packages (from spacy==3.2.0) (2.11.3)\n",
            "Collecting typer<0.5.0,>=0.3.0\n",
            "  Downloading typer-0.4.0-py3-none-any.whl (27 kB)\n",
            "Requirement already satisfied: zipp>=0.5 in /usr/local/lib/python3.7/dist-packages (from catalogue<2.1.0,>=2.0.6->spacy==3.2.0) (3.7.0)\n",
            "Requirement already satisfied: pyparsing!=3.0.5,>=2.0.2 in /usr/local/lib/python3.7/dist-packages (from packaging>=20.0->spacy==3.2.0) (3.0.7)\n",
            "Requirement already satisfied: smart-open<6.0.0,>=5.0.0 in /usr/local/lib/python3.7/dist-packages (from pathy>=0.3.5->spacy==3.2.0) (5.2.1)\n",
            "Requirement already satisfied: certifi>=2017.4.17 in /usr/local/lib/python3.7/dist-packages (from requests<3.0.0,>=2.13.0->spacy==3.2.0) (2021.10.8)\n",
            "Requirement already satisfied: idna<3,>=2.5 in /usr/local/lib/python3.7/dist-packages (from requests<3.0.0,>=2.13.0->spacy==3.2.0) (2.10)\n",
            "Requirement already satisfied: urllib3!=1.25.0,!=1.25.1,<1.26,>=1.21.1 in /usr/local/lib/python3.7/dist-packages (from requests<3.0.0,>=2.13.0->spacy==3.2.0) (1.24.3)\n",
            "Requirement already satisfied: chardet<4,>=3.0.2 in /usr/local/lib/python3.7/dist-packages (from requests<3.0.0,>=2.13.0->spacy==3.2.0) (3.0.4)\n",
            "Requirement already satisfied: click<9.0.0,>=7.1.1 in /usr/local/lib/python3.7/dist-packages (from typer<0.5.0,>=0.3.0->spacy==3.2.0) (7.1.2)\n",
            "Requirement already satisfied: MarkupSafe>=0.23 in /usr/local/lib/python3.7/dist-packages (from jinja2->spacy==3.2.0) (2.0.1)\n",
            "Installing collected packages: catalogue, typer, srsly, pydantic, thinc, spacy-loggers, spacy-legacy, pathy, langcodes, spacy\n",
            "  Attempting uninstall: catalogue\n",
            "    Found existing installation: catalogue 1.0.0\n",
            "    Uninstalling catalogue-1.0.0:\n",
            "      Successfully uninstalled catalogue-1.0.0\n",
            "  Attempting uninstall: srsly\n",
            "    Found existing installation: srsly 1.0.5\n",
            "    Uninstalling srsly-1.0.5:\n",
            "      Successfully uninstalled srsly-1.0.5\n",
            "  Attempting uninstall: thinc\n",
            "    Found existing installation: thinc 7.4.0\n",
            "    Uninstalling thinc-7.4.0:\n",
            "      Successfully uninstalled thinc-7.4.0\n",
            "  Attempting uninstall: spacy\n",
            "    Found existing installation: spacy 2.2.4\n",
            "    Uninstalling spacy-2.2.4:\n",
            "      Successfully uninstalled spacy-2.2.4\n",
            "Successfully installed catalogue-2.0.6 langcodes-3.3.0 pathy-0.6.1 pydantic-1.8.2 spacy-3.2.0 spacy-legacy-3.0.8 spacy-loggers-1.0.1 srsly-2.4.2 thinc-8.0.13 typer-0.4.0\n"
          ]
        }
      ],
      "source": [
        "!pip install -U spacy==3.2.0"
      ]
    },
    {
      "cell_type": "code",
      "execution_count": 2,
      "metadata": {
        "colab": {
          "base_uri": "https://localhost:8080/"
        },
        "id": "L6vmPM72tD0B",
        "outputId": "d490671a-fd05-4e58-ee01-1307a2ec3c3d"
      },
      "outputs": [
        {
          "name": "stdout",
          "output_type": "stream",
          "text": [
            "Collecting pt-core-news-lg==3.2.0\n",
            "  Downloading https://github.com/explosion/spacy-models/releases/download/pt_core_news_lg-3.2.0/pt_core_news_lg-3.2.0-py3-none-any.whl (577.4 MB)\n",
            "\u001b[K     |████████████████████████████████| 577.4 MB 5.3 kB/s \n",
            "\u001b[?25hRequirement already satisfied: spacy<3.3.0,>=3.2.0 in /usr/local/lib/python3.7/dist-packages (from pt-core-news-lg==3.2.0) (3.2.0)\n",
            "Requirement already satisfied: requests<3.0.0,>=2.13.0 in /usr/local/lib/python3.7/dist-packages (from spacy<3.3.0,>=3.2.0->pt-core-news-lg==3.2.0) (2.23.0)\n",
            "Requirement already satisfied: wasabi<1.1.0,>=0.8.1 in /usr/local/lib/python3.7/dist-packages (from spacy<3.3.0,>=3.2.0->pt-core-news-lg==3.2.0) (0.9.0)\n",
            "Requirement already satisfied: jinja2 in /usr/local/lib/python3.7/dist-packages (from spacy<3.3.0,>=3.2.0->pt-core-news-lg==3.2.0) (2.11.3)\n",
            "Requirement already satisfied: spacy-loggers<2.0.0,>=1.0.0 in /usr/local/lib/python3.7/dist-packages (from spacy<3.3.0,>=3.2.0->pt-core-news-lg==3.2.0) (1.0.1)\n",
            "Requirement already satisfied: packaging>=20.0 in /usr/local/lib/python3.7/dist-packages (from spacy<3.3.0,>=3.2.0->pt-core-news-lg==3.2.0) (21.3)\n",
            "Requirement already satisfied: murmurhash<1.1.0,>=0.28.0 in /usr/local/lib/python3.7/dist-packages (from spacy<3.3.0,>=3.2.0->pt-core-news-lg==3.2.0) (1.0.6)\n",
            "Requirement already satisfied: pathy>=0.3.5 in /usr/local/lib/python3.7/dist-packages (from spacy<3.3.0,>=3.2.0->pt-core-news-lg==3.2.0) (0.6.1)\n",
            "Requirement already satisfied: spacy-legacy<3.1.0,>=3.0.8 in /usr/local/lib/python3.7/dist-packages (from spacy<3.3.0,>=3.2.0->pt-core-news-lg==3.2.0) (3.0.8)\n",
            "Requirement already satisfied: catalogue<2.1.0,>=2.0.6 in /usr/local/lib/python3.7/dist-packages (from spacy<3.3.0,>=3.2.0->pt-core-news-lg==3.2.0) (2.0.6)\n",
            "Requirement already satisfied: thinc<8.1.0,>=8.0.12 in /usr/local/lib/python3.7/dist-packages (from spacy<3.3.0,>=3.2.0->pt-core-news-lg==3.2.0) (8.0.13)\n",
            "Requirement already satisfied: srsly<3.0.0,>=2.4.1 in /usr/local/lib/python3.7/dist-packages (from spacy<3.3.0,>=3.2.0->pt-core-news-lg==3.2.0) (2.4.2)\n",
            "Requirement already satisfied: pydantic!=1.8,!=1.8.1,<1.9.0,>=1.7.4 in /usr/local/lib/python3.7/dist-packages (from spacy<3.3.0,>=3.2.0->pt-core-news-lg==3.2.0) (1.8.2)\n",
            "Requirement already satisfied: typing-extensions<4.0.0.0,>=3.7.4 in /usr/local/lib/python3.7/dist-packages (from spacy<3.3.0,>=3.2.0->pt-core-news-lg==3.2.0) (3.10.0.2)\n",
            "Requirement already satisfied: preshed<3.1.0,>=3.0.2 in /usr/local/lib/python3.7/dist-packages (from spacy<3.3.0,>=3.2.0->pt-core-news-lg==3.2.0) (3.0.6)\n",
            "Requirement already satisfied: cymem<2.1.0,>=2.0.2 in /usr/local/lib/python3.7/dist-packages (from spacy<3.3.0,>=3.2.0->pt-core-news-lg==3.2.0) (2.0.6)\n",
            "Requirement already satisfied: langcodes<4.0.0,>=3.2.0 in /usr/local/lib/python3.7/dist-packages (from spacy<3.3.0,>=3.2.0->pt-core-news-lg==3.2.0) (3.3.0)\n",
            "Requirement already satisfied: tqdm<5.0.0,>=4.38.0 in /usr/local/lib/python3.7/dist-packages (from spacy<3.3.0,>=3.2.0->pt-core-news-lg==3.2.0) (4.62.3)\n",
            "Requirement already satisfied: blis<0.8.0,>=0.4.0 in /usr/local/lib/python3.7/dist-packages (from spacy<3.3.0,>=3.2.0->pt-core-news-lg==3.2.0) (0.4.1)\n",
            "Requirement already satisfied: setuptools in /usr/local/lib/python3.7/dist-packages (from spacy<3.3.0,>=3.2.0->pt-core-news-lg==3.2.0) (57.4.0)\n",
            "Requirement already satisfied: typer<0.5.0,>=0.3.0 in /usr/local/lib/python3.7/dist-packages (from spacy<3.3.0,>=3.2.0->pt-core-news-lg==3.2.0) (0.4.0)\n",
            "Requirement already satisfied: numpy>=1.15.0 in /usr/local/lib/python3.7/dist-packages (from spacy<3.3.0,>=3.2.0->pt-core-news-lg==3.2.0) (1.21.5)\n",
            "Requirement already satisfied: zipp>=0.5 in /usr/local/lib/python3.7/dist-packages (from catalogue<2.1.0,>=2.0.6->spacy<3.3.0,>=3.2.0->pt-core-news-lg==3.2.0) (3.7.0)\n",
            "Requirement already satisfied: pyparsing!=3.0.5,>=2.0.2 in /usr/local/lib/python3.7/dist-packages (from packaging>=20.0->spacy<3.3.0,>=3.2.0->pt-core-news-lg==3.2.0) (3.0.7)\n",
            "Requirement already satisfied: smart-open<6.0.0,>=5.0.0 in /usr/local/lib/python3.7/dist-packages (from pathy>=0.3.5->spacy<3.3.0,>=3.2.0->pt-core-news-lg==3.2.0) (5.2.1)\n",
            "Requirement already satisfied: chardet<4,>=3.0.2 in /usr/local/lib/python3.7/dist-packages (from requests<3.0.0,>=2.13.0->spacy<3.3.0,>=3.2.0->pt-core-news-lg==3.2.0) (3.0.4)\n",
            "Requirement already satisfied: urllib3!=1.25.0,!=1.25.1,<1.26,>=1.21.1 in /usr/local/lib/python3.7/dist-packages (from requests<3.0.0,>=2.13.0->spacy<3.3.0,>=3.2.0->pt-core-news-lg==3.2.0) (1.24.3)\n",
            "Requirement already satisfied: certifi>=2017.4.17 in /usr/local/lib/python3.7/dist-packages (from requests<3.0.0,>=2.13.0->spacy<3.3.0,>=3.2.0->pt-core-news-lg==3.2.0) (2021.10.8)\n",
            "Requirement already satisfied: idna<3,>=2.5 in /usr/local/lib/python3.7/dist-packages (from requests<3.0.0,>=2.13.0->spacy<3.3.0,>=3.2.0->pt-core-news-lg==3.2.0) (2.10)\n",
            "Requirement already satisfied: click<9.0.0,>=7.1.1 in /usr/local/lib/python3.7/dist-packages (from typer<0.5.0,>=0.3.0->spacy<3.3.0,>=3.2.0->pt-core-news-lg==3.2.0) (7.1.2)\n",
            "Requirement already satisfied: MarkupSafe>=0.23 in /usr/local/lib/python3.7/dist-packages (from jinja2->spacy<3.3.0,>=3.2.0->pt-core-news-lg==3.2.0) (2.0.1)\n",
            "Installing collected packages: pt-core-news-lg\n",
            "Successfully installed pt-core-news-lg-3.2.0\n",
            "\u001b[38;5;2m✔ Download and installation successful\u001b[0m\n",
            "You can now load the package via spacy.load('pt_core_news_lg')\n"
          ]
        }
      ],
      "source": [
        "!python -m spacy download 'pt_core_news_lg'"
      ]
    },
    {
      "cell_type": "code",
      "execution_count": 3,
      "metadata": {
        "id": "fqTxQPtJtmou"
      },
      "outputs": [],
      "source": [
        "import spacy"
      ]
    },
    {
      "cell_type": "code",
      "execution_count": 4,
      "metadata": {
        "id": "3jVn66_0t7jC"
      },
      "outputs": [],
      "source": [
        "nlp = spacy.load('pt_core_news_lg')"
      ]
    },
    {
      "cell_type": "code",
      "execution_count": 5,
      "metadata": {
        "colab": {
          "base_uri": "https://localhost:8080/"
        },
        "id": "V285arCNuNoQ",
        "outputId": "28ef1293-3169-479c-f46e-53c83896502d"
      },
      "outputs": [
        {
          "name": "stdout",
          "output_type": "stream",
          "text": [
            "<class 'spacy.lang.pt.Portuguese'>\n"
          ]
        }
      ],
      "source": [
        "print(type(nlp))"
      ]
    },
    {
      "cell_type": "code",
      "execution_count": 6,
      "metadata": {
        "colab": {
          "base_uri": "https://localhost:8080/"
        },
        "id": "PIm4NiXGuSyJ",
        "outputId": "709b57ef-a070-449f-8710-7dc4a3fa4144"
      },
      "outputs": [
        {
          "name": "stdout",
          "output_type": "stream",
          "text": [
            "['tok2vec', 'morphologizer', 'parser', 'attribute_ruler', 'lemmatizer', 'ner']\n"
          ]
        }
      ],
      "source": [
        "print(nlp.pipe_names)"
      ]
    },
    {
      "cell_type": "code",
      "execution_count": 7,
      "metadata": {
        "id": "j1iIGI73um96"
      },
      "outputs": [],
      "source": [
        "documento = nlp(\"As ações do Magazine Luiza S.A., Franca, Brasil, acumularam baixa de 70% ao ano. Assim já devolveram todos os ganhos do período da pandemeia\")\n",
        "#documento = nlp(\"Alegações extraordinárias requerem evidências extraordinárias. Carl Sagan: 'https://carlsagan.com'\")"
      ]
    },
    {
      "cell_type": "code",
      "execution_count": 8,
      "metadata": {
        "colab": {
          "base_uri": "https://localhost:8080/"
        },
        "id": "IAiEVLdnvKny",
        "outputId": "83b29d20-c203-4142-ef45-3f79b87038c6"
      },
      "outputs": [
        {
          "data": {
            "text/plain": [
              "375"
            ]
          },
          "execution_count": 8,
          "metadata": {},
          "output_type": "execute_result"
        }
      ],
      "source": [
        "len(documento.vocab)"
      ]
    },
    {
      "cell_type": "code",
      "execution_count": 9,
      "metadata": {
        "colab": {
          "base_uri": "https://localhost:8080/"
        },
        "id": "7XFVPACYvPVA",
        "outputId": "a136b37f-acb1-4338-d6b4-328830d9336b"
      },
      "outputs": [
        {
          "name": "stdout",
          "output_type": "stream",
          "text": [
            "<class 'spacy.tokens.doc.Doc'>\n"
          ]
        }
      ],
      "source": [
        "print(type(documento))"
      ]
    },
    {
      "cell_type": "code",
      "execution_count": 10,
      "metadata": {
        "colab": {
          "base_uri": "https://localhost:8080/"
        },
        "id": "-iR0shamvS9o",
        "outputId": "49dafc6f-8638-4319-dedd-b4899037ad0a"
      },
      "outputs": [
        {
          "name": "stdout",
          "output_type": "stream",
          "text": [
            "As\n",
            "ações\n",
            "do\n",
            "Magazine\n",
            "Luiza\n",
            "S.A.\n",
            ",\n",
            "Franca\n",
            ",\n",
            "Brasil\n",
            ",\n",
            "acumularam\n",
            "baixa\n",
            "de\n",
            "70\n",
            "%\n",
            "ao\n",
            "ano\n",
            ".\n",
            "Assim\n",
            "já\n",
            "devolveram\n",
            "todos\n",
            "os\n",
            "ganhos\n",
            "do\n",
            "período\n",
            "da\n",
            "pandemeia\n"
          ]
        }
      ],
      "source": [
        "for token in documento:\n",
        "  print(token.text)"
      ]
    },
    {
      "cell_type": "code",
      "execution_count": 11,
      "metadata": {
        "colab": {
          "base_uri": "https://localhost:8080/"
        },
        "id": "ZSPouLejwC-i",
        "outputId": "027d7962-f870-4352-ebf7-169bf743ecc1"
      },
      "outputs": [
        {
          "name": "stdout",
          "output_type": "stream",
          "text": [
            "Magazine\n"
          ]
        }
      ],
      "source": [
        "print(documento[3])"
      ]
    },
    {
      "cell_type": "code",
      "execution_count": 12,
      "metadata": {
        "colab": {
          "base_uri": "https://localhost:8080/"
        },
        "id": "v2M1EUT0w2ng",
        "outputId": "7fbe99e5-eae8-4f48-ed4c-b2f4d5341f10"
      },
      "outputs": [
        {
          "name": "stdout",
          "output_type": "stream",
          "text": [
            "Magazine Luiza\n"
          ]
        }
      ],
      "source": [
        "print(documento[3:5])"
      ]
    },
    {
      "cell_type": "code",
      "execution_count": 13,
      "metadata": {
        "colab": {
          "base_uri": "https://localhost:8080/"
        },
        "id": "BNID2eTpxU5n",
        "outputId": "f8d1d181-bf18-4955-fb27-e4596217b5e5"
      },
      "outputs": [
        {
          "name": "stdout",
          "output_type": "stream",
          "text": [
            "29\n"
          ]
        }
      ],
      "source": [
        "print(len(documento))"
      ]
    },
    {
      "cell_type": "code",
      "execution_count": 14,
      "metadata": {
        "colab": {
          "base_uri": "https://localhost:8080/"
        },
        "id": "i0ydrXjdxfZo",
        "outputId": "341cbaf4-1991-4e87-9f26-efe8ef7b8312"
      },
      "outputs": [
        {
          "name": "stdout",
          "output_type": "stream",
          "text": [
            "Tokens:  ['As', 'ações', 'do', 'Magazine', 'Luiza', 'S.A.', ',', 'Franca', ',', 'Brasil', ',', 'acumularam', 'baixa', 'de', '70', '%', 'ao', 'ano', '.', 'Assim', 'já', 'devolveram', 'todos', 'os', 'ganhos', 'do', 'período', 'da', 'pandemeia']\n",
            "Stop word:  [True, False, True, False, False, False, False, False, False, False, False, False, False, True, False, False, True, False, False, True, True, False, True, True, False, True, False, True, False]\n",
            "Alfanumérico:  [True, True, True, True, True, False, False, True, False, True, False, True, True, True, False, False, True, True, False, True, True, True, True, True, True, True, True, True, True]\n",
            "Maísculo:  [False, False, False, False, False, True, False, False, False, False, False, False, False, False, False, False, False, False, False, False, False, False, False, False, False, False, False, False, False]\n",
            "Pontuação:  [False, False, False, False, False, False, True, False, True, False, True, False, False, False, False, True, False, False, True, False, False, False, False, False, False, False, False, False, False]\n",
            "Número:  [False, False, False, False, False, False, False, False, False, False, False, False, False, False, True, False, False, False, False, False, False, False, False, False, False, False, False, False, False]\n",
            "Sentença Inicial:  [True, False, False, False, False, False, False, False, False, False, False, False, False, False, False, False, False, False, False, True, False, False, False, False, False, False, False, False, False]\n"
          ]
        }
      ],
      "source": [
        "print(\"Tokens: \", [token.text for token in documento])\n",
        "print(\"Stop word: \", [token.is_stop for token in documento])\n",
        "print(\"Alfanumérico: \", [token.is_alpha for token in documento])\n",
        "print(\"Maísculo: \", [token.is_upper for token in documento])\n",
        "print(\"Pontuação: \", [token.is_punct for token in documento])\n",
        "print(\"Número: \", [token.like_num for token in documento])\n",
        "print(\"Sentença Inicial: \", [token.is_sent_start for token in documento])"
      ]
    },
    {
      "cell_type": "code",
      "execution_count": 15,
      "metadata": {
        "colab": {
          "base_uri": "https://localhost:8080/"
        },
        "id": "qHiVQdSPx2hR",
        "outputId": "1d422461-9e1c-4587-b595-034431a932fb"
      },
      "outputs": [
        {
          "name": "stdout",
          "output_type": "stream",
          "text": [
            "Tokens:  ['As', 'ações', 'do', 'Magazine', 'Luiza', 'S.A.', ',', 'Franca', ',', 'Brasil', ',', 'acumularam', 'baixa', 'de', '70', '%', 'ao', 'ano', '.', 'Assim', 'já', 'devolveram', 'todos', 'os', 'ganhos', 'do', 'período', 'da', 'pandemeia']\n",
            "Formato:  ['Xx', 'xxxx', 'xx', 'Xxxxx', 'Xxxxx', 'X.X.', ',', 'Xxxxx', ',', 'Xxxxx', ',', 'xxxx', 'xxxx', 'xx', 'dd', '%', 'xx', 'xxx', '.', 'Xxxxx', 'xx', 'xxxx', 'xxxx', 'xx', 'xxxx', 'xx', 'xxxx', 'xx', 'xxxx']\n"
          ]
        }
      ],
      "source": [
        "print(\"Tokens: \", [token.text for token in documento])\n",
        "print(\"Formato: \", [token.shape_ for token in documento])"
      ]
    },
    {
      "cell_type": "code",
      "execution_count": 16,
      "metadata": {
        "colab": {
          "base_uri": "https://localhost:8080/"
        },
        "id": "Ckbhb0Xfy-EA",
        "outputId": "3a551ba3-036f-4bc6-d74b-8739c7455a7e"
      },
      "outputs": [
        {
          "name": "stdout",
          "output_type": "stream",
          "text": [
            "Pontuação encontrada;  ,\n",
            "Pontuação encontrada;  ,\n",
            "Pontuação encontrada;  ,\n",
            "Número encontrado:  70\n",
            "Pontuação encontrada;  %\n",
            "Pontuação encontrada;  .\n"
          ]
        }
      ],
      "source": [
        "for token in documento:\n",
        "  if token.like_num:\n",
        "    print(\"Número encontrado: \", token.text)\n",
        "  if token.is_punct:\n",
        "    print(\"Pontuação encontrada; \", token.text)"
      ]
    },
    {
      "cell_type": "code",
      "execution_count": 17,
      "metadata": {
        "colab": {
          "base_uri": "https://localhost:8080/"
        },
        "id": "Aqyp6utOzwH5",
        "outputId": "8ac06a8f-89b1-43cd-c8c6-5a802950439b"
      },
      "outputs": [
        {
          "name": "stdout",
          "output_type": "stream",
          "text": [
            "As  -  DET  -  det  -  As  -  Xx\n",
            "ações  -  NOUN  -  nsubj  -  ações  -  xxxx\n",
            "do  -  ADP  -  case  -  do  -  xx\n",
            "Magazine  -  PROPN  -  nmod  -  Magazine  -  Xxxxx\n",
            "Luiza  -  PROPN  -  appos  -  Luiza  -  Xxxxx\n",
            "S.A.  -  PROPN  -  flat:name  -  S.A.  -  X.X.\n",
            ",  -  PUNCT  -  punct  -  ,  -  ,\n",
            "Franca  -  PROPN  -  conj  -  Franca  -  Xxxxx\n",
            ",  -  PUNCT  -  punct  -  ,  -  ,\n",
            "Brasil  -  PROPN  -  conj  -  Brasil  -  Xxxxx\n",
            ",  -  PUNCT  -  punct  -  ,  -  ,\n",
            "acumularam  -  VERB  -  ROOT  -  acumular  -  xxxx\n",
            "baixa  -  NOUN  -  obj  -  baixo  -  xxxx\n",
            "de  -  ADP  -  case  -  de  -  xx\n",
            "70  -  NUM  -  nummod  -  70  -  dd\n",
            "%  -  SYM  -  nmod  -  %  -  %\n",
            "ao  -  ADP  -  case  -  ao  -  xx\n",
            "ano  -  NOUN  -  obl  -  ano  -  xxx\n",
            ".  -  PUNCT  -  punct  -  .  -  .\n",
            "Assim  -  ADV  -  advmod  -  Assim  -  Xxxxx\n",
            "já  -  ADV  -  advmod  -  já  -  xx\n",
            "devolveram  -  VERB  -  ROOT  -  devolver  -  xxxx\n",
            "todos  -  DET  -  det  -  todo  -  xxxx\n",
            "os  -  DET  -  det  -  o  -  xx\n",
            "ganhos  -  NOUN  -  obj  -  ganho  -  xxxx\n",
            "do  -  ADP  -  case  -  do  -  xx\n",
            "período  -  NOUN  -  nmod  -  período  -  xxxx\n",
            "da  -  ADP  -  case  -  da  -  xx\n",
            "pandemeia  -  NOUN  -  nmod  -  pandemeia  -  xxxx\n"
          ]
        }
      ],
      "source": [
        "for token in documento:\n",
        "  print(token.text, \" - \", token.pos_ , \" - \", token.dep_ , \" - \", token.lemma_ , \" - \", token.shape_)"
      ]
    },
    {
      "cell_type": "code",
      "execution_count": 18,
      "metadata": {
        "colab": {
          "base_uri": "https://localhost:8080/"
        },
        "id": "m-2TEd2I5Rd_",
        "outputId": "3b3281c6-a19b-490e-f08f-5f4f25020929"
      },
      "outputs": [
        {
          "name": "stdout",
          "output_type": "stream",
          "text": [
            "As  -  Definite=Def|Gender=Fem|Number=Plur|PronType=Art\n",
            "ações  -  Gender=Fem|Number=Plur\n",
            "do  -  Definite=Def|Gender=Masc|Number=Sing|PronType=Art\n",
            "Magazine  -  Gender=Masc|Number=Sing\n",
            "Luiza  -  Gender=Fem|Number=Sing\n",
            "S.A.  -  Number=Sing\n",
            ",  -  \n",
            "Franca  -  Gender=Fem|Number=Sing\n",
            ",  -  \n",
            "Brasil  -  Gender=Masc|Number=Sing\n",
            ",  -  \n",
            "acumularam  -  Mood=Ind|Number=Plur|Person=3|Tense=Past|VerbForm=Fin\n",
            "baixa  -  Gender=Fem|Number=Sing\n",
            "de  -  \n",
            "70  -  NumType=Card\n",
            "%  -  \n",
            "ao  -  Definite=Def|Gender=Masc|Number=Sing|PronType=Art\n",
            "ano  -  Gender=Masc|Number=Sing\n",
            ".  -  \n",
            "Assim  -  \n",
            "já  -  \n",
            "devolveram  -  Mood=Ind|Number=Plur|Person=3|Tense=Past|VerbForm=Fin\n",
            "todos  -  Gender=Masc|Number=Plur|PronType=Tot\n",
            "os  -  Definite=Def|Gender=Masc|Number=Plur|PronType=Art\n",
            "ganhos  -  Gender=Masc|Number=Plur\n",
            "do  -  Definite=Def|Gender=Masc|Number=Sing|PronType=Art\n",
            "período  -  Gender=Masc|Number=Sing\n",
            "da  -  Definite=Def|Gender=Fem|Number=Sing|PronType=Art\n",
            "pandemeia  -  Gender=Fem|Number=Sing\n"
          ]
        }
      ],
      "source": [
        "for token in documento:\n",
        "  print(token.text, \" - \", token.morph)"
      ]
    },
    {
      "cell_type": "code",
      "execution_count": 19,
      "metadata": {
        "colab": {
          "base_uri": "https://localhost:8080/"
        },
        "id": "f0C1Mu5J60RS",
        "outputId": "1774f49e-73f9-4983-e2b4-b378588b6a9f"
      },
      "outputs": [
        {
          "name": "stdout",
          "output_type": "stream",
          "text": [
            "As  -  DET\n",
            "ações  -  NOUN\n",
            "do  -  ADP\n",
            "Magazine  -  PROPN\n",
            "Luiza  -  PROPN\n",
            "S.A.  -  PROPN\n",
            ",  -  PUNCT\n",
            "Franca  -  PROPN\n",
            ",  -  PUNCT\n",
            "Brasil  -  PROPN\n",
            ",  -  PUNCT\n",
            "acumularam  -  VERB\n",
            "baixa  -  NOUN\n",
            "de  -  ADP\n",
            "70  -  NUM\n",
            "%  -  SYM\n",
            "ao  -  ADP\n",
            "ano  -  NOUN\n",
            ".  -  PUNCT\n",
            "Assim  -  ADV\n",
            "já  -  ADV\n",
            "devolveram  -  VERB\n",
            "todos  -  DET\n",
            "os  -  DET\n",
            "ganhos  -  NOUN\n",
            "do  -  ADP\n",
            "período  -  NOUN\n",
            "da  -  ADP\n",
            "pandemeia  -  NOUN\n"
          ]
        }
      ],
      "source": [
        "for token in documento:\n",
        "  print(token.text, \" - \", token.tag_)"
      ]
    },
    {
      "cell_type": "code",
      "execution_count": 20,
      "metadata": {
        "colab": {
          "base_uri": "https://localhost:8080/"
        },
        "id": "wUdZfrOP-Z4I",
        "outputId": "ced916ca-de15-47e4-ed3a-f5799da0f688"
      },
      "outputs": [
        {
          "name": "stdout",
          "output_type": "stream",
          "text": [
            "Magazine Luiza S.A.  -  ORG\n",
            "Franca  -  LOC\n",
            "Brasil  -  LOC\n"
          ]
        }
      ],
      "source": [
        "for ent in documento.ents:\n",
        "  print(ent.text, \" - \", ent.label_)"
      ]
    },
    {
      "cell_type": "code",
      "execution_count": null,
      "metadata": {
        "id": "TFkUxcwnAkuW"
      },
      "outputs": [],
      "source": [
        "for token in documento:\n",
        "  if token.is_stop:\n",
        "    print(\"Stop word: \", token.text)"
      ]
    },
    {
      "cell_type": "code",
      "execution_count": null,
      "metadata": {
        "id": "_H0jSxTecIjT"
      },
      "outputs": [],
      "source": [
        "for words in nlp.Defaults.stop_words:\n",
        "  print(words)"
      ]
    },
    {
      "cell_type": "code",
      "execution_count": 24,
      "metadata": {
        "id": "tnmQ-QA0cqSq"
      },
      "outputs": [],
      "source": [
        "nlp.Defaults.stop_words.add(\"eita\")\n",
        "nlp.vocab['eita'].is_stop = True"
      ]
    },
    {
      "cell_type": "code",
      "execution_count": 25,
      "metadata": {
        "colab": {
          "base_uri": "https://localhost:8080/"
        },
        "id": "5Mw4EMs4dAcx",
        "outputId": "2691c2b4-f2e0-403a-bf16-7e5e098e7e4f"
      },
      "outputs": [
        {
          "data": {
            "text/plain": [
              "True"
            ]
          },
          "execution_count": 25,
          "metadata": {},
          "output_type": "execute_result"
        }
      ],
      "source": [
        "nlp.vocab['eita'].is_stop"
      ]
    },
    {
      "cell_type": "code",
      "execution_count": 26,
      "metadata": {
        "colab": {
          "base_uri": "https://localhost:8080/"
        },
        "id": "b_CAPqV5dH5n",
        "outputId": "fcf6e5e2-a740-4d6d-8f18-8a37d3d616b5"
      },
      "outputs": [
        {
          "name": "stdout",
          "output_type": "stream",
          "text": [
            "As ações do Magazine Luiza S.A., Franca, Brasil, acumularam baixa de 70% ao ano. Assim já devolveram todos os ganhos do período da pandemeia\n",
            "['As', 'ações', 'Magazine', 'Luiza', 'S.A.', ',', 'Franca', ',', 'Brasil', ',', 'acumularam', 'baixa', '70', '%', 'ano', '.', 'Assim', 'devolveram', 'ganhos', 'período', 'pandemeia']\n"
          ]
        }
      ],
      "source": [
        "\n",
        "token_lista = []\n",
        "for token in documento:\n",
        "  token_lista.append(token.text)\n",
        "\n",
        "stop_lista = []\n",
        "for words in nlp.Defaults.stop_words:\n",
        "  stop_lista.append(words)\n",
        "\n",
        "semstop = [word for word in token_lista if not word in stop_lista]\n",
        "\n",
        "print(documento.text)\n",
        "print(semstop)\n"
      ]
    },
    {
      "cell_type": "code",
      "execution_count": 40,
      "metadata": {
        "colab": {
          "base_uri": "https://localhost:8080/"
        },
        "id": "amYu8t5oeZAd",
        "outputId": "0a877995-caaf-46bc-afe3-1b0d9702be9c"
      },
      "outputs": [
        {
          "name": "stdout",
          "output_type": "stream",
          "text": [
            "Hash:  6013848609874238634\n",
            "Hash:  6013848609874238634\n",
            "String:  dados\n"
          ]
        }
      ],
      "source": [
        "print(\"Hash: \", nlp.vocab.strings[\"dados\"])\n",
        "print(\"Hash: \", documento.vocab.strings[\"dados\"])\n",
        "print(\"String: \", nlp.vocab.strings[6013848609874238634])"
      ]
    },
    {
      "cell_type": "code",
      "execution_count": 41,
      "metadata": {
        "colab": {
          "base_uri": "https://localhost:8080/"
        },
        "id": "fEgV_h70fUpx",
        "outputId": "f8aae360-7914-414f-8c0c-19d83f20742e"
      },
      "outputs": [
        {
          "name": "stdout",
          "output_type": "stream",
          "text": [
            "dados  -  6013848609874238634  -  True  -  True\n"
          ]
        }
      ],
      "source": [
        "lex = nlp.vocab[\"dados\"]\n",
        "print(lex.text, \" - \", lex.orth, \" - \", lex.is_alpha, \" - \", lex.is_lower)"
      ]
    },
    {
      "cell_type": "code",
      "execution_count": 44,
      "metadata": {
        "colab": {
          "base_uri": "https://localhost:8080/"
        },
        "id": "TOE-WNxfhkB5",
        "outputId": "de66bf9a-a3cf-4928-c739-2b87d7ef9576"
      },
      "outputs": [
        {
          "name": "stdout",
          "output_type": "stream",
          "text": [
            "[ 0.5255733  -1.0520301  -1.0489888   0.22808893 -2.7599888   0.91837215\n",
            " -1.6993556  -0.44524103 -2.209261   -1.2901455   0.9939946  -1.3996754\n",
            "  0.7378708  -1.6957022  -1.382649   -1.1241877   2.503239    1.3766589\n",
            " -0.63682556  2.7080245  -0.6679023   0.7990059  -1.3761922   1.6491444\n",
            " -0.6950322   0.69378555 -0.19840002  1.6926199  -0.3071023   0.71506053\n",
            "  0.03211441  0.27212894 -1.9055911  -1.5586021  -0.9775556   0.7999823\n",
            " -0.9553054   0.5265729  -0.87427455 -1.2073755  -2.117481    1.2241988\n",
            "  1.5149522  -0.79308677 -1.1521667   0.13741441 -1.7882053   0.50415283\n",
            "  1.3089666   0.06542712 -0.6260744  -1.5624356  -0.707184   -1.2425367\n",
            " -0.04237115 -0.5879791   1.7004043  -0.24798778  0.11633212 -0.55506223\n",
            "  2.0148706   0.01965364  0.92778563  2.3571968  -0.49526003  1.0151839\n",
            "  0.57112557  1.3510779  -0.3038622  -0.24523441 -0.42284998 -0.69732666\n",
            "  0.71998227  0.2875956   0.10309222 -0.6866155   2.128672    0.9791889\n",
            " -1.4044011  -0.4600078   0.10599887  0.84635675  1.2420444   0.40497887\n",
            "  0.24567226 -2.4633954   0.30174115 -1.2952554   0.5795323  -1.899822\n",
            " -0.74619776  2.998889    2.0798278  -0.9101444   0.27261782  0.3154811\n",
            "  3.1923532   1.315211   -3.1751957   0.03176559  1.1431444   1.6177245\n",
            " -1.0905743   0.6142689   1.0441045  -1.0070856  -0.6415578  -0.75415665\n",
            "  0.04653723 -0.7180089  -0.09737895  0.02209669 -0.43218002 -0.37869656\n",
            " -1.4787056  -0.8019056   2.2888644  -0.58004665 -0.35054     0.8161524\n",
            "  0.56656885 -3.1986172  -0.13080996 -0.87027764  0.19671117 -0.18788989\n",
            "  2.1433      0.5740978   0.79283893  1.1020746   0.06806201  0.14578162\n",
            " -0.48713335 -0.9247377   0.84602445  1.326062   -0.13929449 -2.2536204\n",
            "  0.8378011   1.8202833  -2.1101756   0.01467665 -0.1241987  -0.28894553\n",
            " -2.689321    0.35465997  1.3067889   0.78942555 -3.1275606  -0.70258003\n",
            "  1.1796956  -0.09419552 -0.39751524 -2.17274     0.00593225  0.11152443\n",
            " -0.40126875 -0.7324776  -1.110687   -1.6154889   1.9177108   0.59479684\n",
            " -0.9205568   1.6399556   2.1313922   0.8705971  -0.4869177  -2.5268655\n",
            " -0.20582779 -1.351448    1.0684322   1.0798033   0.7770678  -0.88195336\n",
            " -0.94633335 -1.6027511   2.097808   -0.44511667 -1.657932    1.3012689\n",
            "  1.4642056   0.07117888 -0.45494658  1.4971966   1.3140267  -0.48212782\n",
            "  1.0694442  -2.269592    1.3391188   1.5931556  -1.7781789  -1.465089\n",
            "  0.23485115 -2.34892     0.940096    0.5333122  -0.74473196 -1.2676699\n",
            " -0.40783006 -0.7384778  -2.09579     2.0488043  -1.182571    0.37707764\n",
            "  1.1301712   0.28928337  1.3739567  -1.0200423   1.2103223   0.04722336\n",
            "  1.3624822  -1.2681168   1.4688356   0.8132446  -1.719049    1.8276443\n",
            "  1.0804734  -0.31434     0.88836336 -0.67704093 -1.0336466  -0.9087268\n",
            "  0.09643783 -2.5777566  -0.08628993 -0.8835056  -0.5007     -2.010551\n",
            "  0.9359345  -1.839522   -0.45124334 -1.67075     0.1972278  -0.69528896\n",
            " -0.8587457  -0.25463215  0.23403136 -1.7613523   0.39325333  2.0033166\n",
            "  0.16394782 -0.5912411   0.4513964   0.38095444  0.9961722  -0.5356072\n",
            " -0.24399893  1.2084801   1.047721   -0.3533555  -0.68883884 -0.05879111\n",
            " -1.0547067  -0.9298345   0.1543278   0.22240782 -0.8161553   2.490319\n",
            " -1.5402923   0.59167856 -1.8444476   0.68242     2.5562222   0.99307674\n",
            "  0.02924996 -0.70853776 -1.0495977   0.13625993  2.1210868   1.4868933\n",
            "  3.163472   -0.43712902 -0.514627    2.9385633  -2.2680051   0.10609888\n",
            "  2.2179537   0.63511777  0.40360793 -1.1280782  -1.7189742  -0.46922117\n",
            "  2.9208887  -0.7004363  -0.36562064  1.1512333  -1.4175044  -0.44106555\n",
            " -0.48883343 -0.5042111   0.28768444  3.4773679  -1.2891389  -0.65457785\n",
            "  0.3968733  -1.9304742   2.1593056  -0.50640225 -1.4050981   1.26994   ]\n"
          ]
        }
      ],
      "source": [
        "#print(nlp(\"dados\").vector.shape)\n",
        "#print(nlp(\"dados\").vector)\n",
        "print(nlp(\"dados são uma nova forma de ver o mundo\").vector)"
      ]
    },
    {
      "cell_type": "code",
      "execution_count": 52,
      "metadata": {
        "colab": {
          "base_uri": "https://localhost:8080/"
        },
        "id": "Rqs6ad6_iDjx",
        "outputId": "b12f0c5b-ad11-4cb7-8fd4-99a15eb77f63"
      },
      "outputs": [
        {
          "name": "stdout",
          "output_type": "stream",
          "text": [
            "0.8941741168014388\n",
            "0.8941741168014388\n"
          ]
        }
      ],
      "source": [
        "documento1 = nlp(\"Ele viaja regularmente de carro\")\n",
        "documento2 = nlp(\"Ela regularmente de avião viaja\")\n",
        "print(documento1.similarity(documento2))\n",
        "print(documento2.similarity(documento1))"
      ]
    },
    {
      "cell_type": "code",
      "execution_count": 54,
      "metadata": {
        "colab": {
          "base_uri": "https://localhost:8080/"
        },
        "id": "INW21UgwkOE2",
        "outputId": "f8e8f797-4b73-46ad-8b06-59faeb9dcdb2"
      },
      "outputs": [
        {
          "name": "stdout",
          "output_type": "stream",
          "text": [
            "comprimento\n",
            "cumprimento\n",
            "0.580434\n"
          ]
        }
      ],
      "source": [
        "documento3 = nlp(\"Devemos dizer comprimento ou cumprimento?\")\n",
        "tokenA = documento3[2]\n",
        "print(tokenA)\n",
        "tokenB = documento3[4]\n",
        "print(tokenB)\n",
        "print(tokenA.similarity(tokenB))"
      ]
    },
    {
      "cell_type": "code",
      "execution_count": 56,
      "metadata": {
        "colab": {
          "base_uri": "https://localhost:8080/"
        },
        "id": "e0gktCSvminm",
        "outputId": "9d0aa8eb-7eb3-4fb3-c0b7-cbc4e582a3e1"
      },
      "outputs": [
        {
          "name": "stdout",
          "output_type": "stream",
          "text": [
            "Ele pede descrição\n",
            "Ele pede discrição\n",
            "0.96300536\n"
          ]
        }
      ],
      "source": [
        "documento4 = nlp(\"Ele pede descrição. Ele pede discrição\")\n",
        "partA = documento4[0:3]\n",
        "print(partA)\n",
        "partB = documento4[4:7]\n",
        "print(partB)\n",
        "print(partA.similarity(partB))"
      ]
    },
    {
      "cell_type": "code",
      "execution_count": 58,
      "metadata": {
        "colab": {
          "base_uri": "https://localhost:8080/"
        },
        "id": "8kiOQQ7etIDj",
        "outputId": "822f200f-03a7-449c-f630-1dcf2af4d849"
      },
      "outputs": [
        {
          "name": "stdout",
          "output_type": "stream",
          "text": [
            "(51) - 9964656570\n",
            "(11) 12344988\n"
          ]
        }
      ],
      "source": [
        "from typing import Match\n",
        "from spacy.matcher import Matcher\n",
        "\n",
        "documento5 = nlp(\"Você pode ligar para (51) - 9964656570 ou (11) 12344988 \")\n",
        "\n",
        "matcher = Matcher(nlp.vocab)\n",
        "padrao = [{\"ORTH\": \"(\"} ,{\"SHAPE\": \"dd\"},{\"ORTH\": \")\"}, {\"ORTH\": \"-\", \"OP\":\"?\"} , {\"IS_DIGIT\": True}]\n",
        "matcher.add(\"telefone\", [padrao])\n",
        "matches = matcher(documento5)\n",
        "for id, inicio, fim in matches:\n",
        "  print(documento5[inicio:fim])\n",
        "\n"
      ]
    },
    {
      "cell_type": "code",
      "execution_count": 59,
      "metadata": {
        "colab": {
          "base_uri": "https://localhost:8080/"
        },
        "id": "cIs-hEvLvbYy",
        "outputId": "4238fe4a-e105-4d6e-c144-5a24155d8293"
      },
      "outputs": [
        {
          "name": "stdout",
          "output_type": "stream",
          "text": [
            "micro organismos\n",
            "MICROORGANISMOS\n",
            "micro-organismos\n"
          ]
        }
      ],
      "source": [
        "documento6 = nlp(\"Estamos infectados com micro organismos. MICROORGANISMOS são perigosos. Não enxergamos micro-organismos\")\n",
        "matcher = Matcher(nlp.vocab)\n",
        "padrao1 = [{\"LOWER\":\"micro-organismos\"}]\n",
        "padrao2 = [{\"LOWER\":\"microorganismos\"}]\n",
        "padrao3 = [{\"LOWER\":\"micro\"}, {\"LOWER\":\"organismos\"}]\n",
        "\n",
        "matcher.add(\"padrao\", [padrao1,padrao2,padrao3])\n",
        "\n",
        "matches = matcher(documento6)\n",
        "for id, inicio, fim in matches:\n",
        "  print(documento6[inicio:fim])\n",
        "\n",
        "\n",
        "\n"
      ]
    },
    {
      "cell_type": "code",
      "execution_count": 69,
      "metadata": {
        "colab": {
          "base_uri": "https://localhost:8080/",
          "height": 113
        },
        "id": "EEstsaIhwqoI",
        "outputId": "f4bed6df-13c9-475f-ad10-0e883b087e15"
      },
      "outputs": [
        {
          "data": {
            "text/html": [
              "<span class=\"tex2jax_ignore\"><h2 style=\"margin: 0\">Exemplo</h2>\n",
              "\n",
              "<div class=\"entities\" style=\"line-height: 2.5; direction: ltr\">As ações do \n",
              "<mark class=\"entity\" style=\"background: #7aecec; padding: 0.45em 0.6em; margin: 0 0.25em; line-height: 1; border-radius: 0.35em;\">\n",
              "    Magazine Luiza S.A.\n",
              "    <span style=\"font-size: 0.8em; font-weight: bold; line-height: 1; border-radius: 0.35em; vertical-align: middle; margin-left: 0.5rem\">ORG</span>\n",
              "</mark>\n",
              ", \n",
              "<mark class=\"entity\" style=\"background: #ff9561; padding: 0.45em 0.6em; margin: 0 0.25em; line-height: 1; border-radius: 0.35em;\">\n",
              "    Franca\n",
              "    <span style=\"font-size: 0.8em; font-weight: bold; line-height: 1; border-radius: 0.35em; vertical-align: middle; margin-left: 0.5rem\">LOC</span>\n",
              "</mark>\n",
              ", \n",
              "<mark class=\"entity\" style=\"background: #ff9561; padding: 0.45em 0.6em; margin: 0 0.25em; line-height: 1; border-radius: 0.35em;\">\n",
              "    Brasil\n",
              "    <span style=\"font-size: 0.8em; font-weight: bold; line-height: 1; border-radius: 0.35em; vertical-align: middle; margin-left: 0.5rem\">LOC</span>\n",
              "</mark>\n",
              ", acumularam baixa de 70% ao ano. Assim já devolveram todos os ganhos do período da pandemeia</div></span>"
            ],
            "text/plain": [
              "<IPython.core.display.HTML object>"
            ]
          },
          "metadata": {},
          "output_type": "display_data"
        }
      ],
      "source": [
        "from spacy import displacy\n",
        "displacy.render(documento,style=\"ent\", jupyter=True)"
      ]
    },
    {
      "cell_type": "code",
      "execution_count": 68,
      "metadata": {
        "colab": {
          "base_uri": "https://localhost:8080/",
          "height": 418
        },
        "id": "W_i-6LiPyNkP",
        "outputId": "d471deea-9140-4cfe-fccd-0e2a1fa4e039"
      },
      "outputs": [
        {
          "data": {
            "text/html": [
              "<span class=\"tex2jax_ignore\"><svg xmlns=\"http://www.w3.org/2000/svg\" xmlns:xlink=\"http://www.w3.org/1999/xlink\" xml:lang=\"pt\" id=\"b7c46c459b82438ab83087bd7dd492f2-0\" class=\"displacy\" width=\"1970\" height=\"377.0\" direction=\"ltr\" style=\"max-width: none; height: 377.0px; color: #FFFFFF; background: #000000; font-family: Arial; direction: ltr\">\n",
              "<text class=\"displacy-token\" fill=\"currentColor\" text-anchor=\"middle\" y=\"287.0\">\n",
              "    <tspan class=\"displacy-word\" fill=\"currentColor\" x=\"50\">As</tspan>\n",
              "    <tspan class=\"displacy-tag\" dy=\"2em\" fill=\"currentColor\" x=\"50\">DET</tspan>\n",
              "</text>\n",
              "\n",
              "<text class=\"displacy-token\" fill=\"currentColor\" text-anchor=\"middle\" y=\"287.0\">\n",
              "    <tspan class=\"displacy-word\" fill=\"currentColor\" x=\"130\">ações</tspan>\n",
              "    <tspan class=\"displacy-tag\" dy=\"2em\" fill=\"currentColor\" x=\"130\">NOUN</tspan>\n",
              "</text>\n",
              "\n",
              "<text class=\"displacy-token\" fill=\"currentColor\" text-anchor=\"middle\" y=\"287.0\">\n",
              "    <tspan class=\"displacy-word\" fill=\"currentColor\" x=\"210\">do</tspan>\n",
              "    <tspan class=\"displacy-tag\" dy=\"2em\" fill=\"currentColor\" x=\"210\">ADP</tspan>\n",
              "</text>\n",
              "\n",
              "<text class=\"displacy-token\" fill=\"currentColor\" text-anchor=\"middle\" y=\"287.0\">\n",
              "    <tspan class=\"displacy-word\" fill=\"currentColor\" x=\"290\">Magazine</tspan>\n",
              "    <tspan class=\"displacy-tag\" dy=\"2em\" fill=\"currentColor\" x=\"290\">PROPN</tspan>\n",
              "</text>\n",
              "\n",
              "<text class=\"displacy-token\" fill=\"currentColor\" text-anchor=\"middle\" y=\"287.0\">\n",
              "    <tspan class=\"displacy-word\" fill=\"currentColor\" x=\"370\">Luiza</tspan>\n",
              "    <tspan class=\"displacy-tag\" dy=\"2em\" fill=\"currentColor\" x=\"370\">PROPN</tspan>\n",
              "</text>\n",
              "\n",
              "<text class=\"displacy-token\" fill=\"currentColor\" text-anchor=\"middle\" y=\"287.0\">\n",
              "    <tspan class=\"displacy-word\" fill=\"currentColor\" x=\"450\">S.A.,</tspan>\n",
              "    <tspan class=\"displacy-tag\" dy=\"2em\" fill=\"currentColor\" x=\"450\">PROPN</tspan>\n",
              "</text>\n",
              "\n",
              "<text class=\"displacy-token\" fill=\"currentColor\" text-anchor=\"middle\" y=\"287.0\">\n",
              "    <tspan class=\"displacy-word\" fill=\"currentColor\" x=\"530\">Franca,</tspan>\n",
              "    <tspan class=\"displacy-tag\" dy=\"2em\" fill=\"currentColor\" x=\"530\">PROPN</tspan>\n",
              "</text>\n",
              "\n",
              "<text class=\"displacy-token\" fill=\"currentColor\" text-anchor=\"middle\" y=\"287.0\">\n",
              "    <tspan class=\"displacy-word\" fill=\"currentColor\" x=\"610\">Brasil,</tspan>\n",
              "    <tspan class=\"displacy-tag\" dy=\"2em\" fill=\"currentColor\" x=\"610\">PROPN</tspan>\n",
              "</text>\n",
              "\n",
              "<text class=\"displacy-token\" fill=\"currentColor\" text-anchor=\"middle\" y=\"287.0\">\n",
              "    <tspan class=\"displacy-word\" fill=\"currentColor\" x=\"690\">acumularam</tspan>\n",
              "    <tspan class=\"displacy-tag\" dy=\"2em\" fill=\"currentColor\" x=\"690\">VERB</tspan>\n",
              "</text>\n",
              "\n",
              "<text class=\"displacy-token\" fill=\"currentColor\" text-anchor=\"middle\" y=\"287.0\">\n",
              "    <tspan class=\"displacy-word\" fill=\"currentColor\" x=\"770\">baixa</tspan>\n",
              "    <tspan class=\"displacy-tag\" dy=\"2em\" fill=\"currentColor\" x=\"770\">NOUN</tspan>\n",
              "</text>\n",
              "\n",
              "<text class=\"displacy-token\" fill=\"currentColor\" text-anchor=\"middle\" y=\"287.0\">\n",
              "    <tspan class=\"displacy-word\" fill=\"currentColor\" x=\"850\">de</tspan>\n",
              "    <tspan class=\"displacy-tag\" dy=\"2em\" fill=\"currentColor\" x=\"850\">ADP</tspan>\n",
              "</text>\n",
              "\n",
              "<text class=\"displacy-token\" fill=\"currentColor\" text-anchor=\"middle\" y=\"287.0\">\n",
              "    <tspan class=\"displacy-word\" fill=\"currentColor\" x=\"930\">70%</tspan>\n",
              "    <tspan class=\"displacy-tag\" dy=\"2em\" fill=\"currentColor\" x=\"930\">SYM</tspan>\n",
              "</text>\n",
              "\n",
              "<text class=\"displacy-token\" fill=\"currentColor\" text-anchor=\"middle\" y=\"287.0\">\n",
              "    <tspan class=\"displacy-word\" fill=\"currentColor\" x=\"1010\">ao</tspan>\n",
              "    <tspan class=\"displacy-tag\" dy=\"2em\" fill=\"currentColor\" x=\"1010\">ADP</tspan>\n",
              "</text>\n",
              "\n",
              "<text class=\"displacy-token\" fill=\"currentColor\" text-anchor=\"middle\" y=\"287.0\">\n",
              "    <tspan class=\"displacy-word\" fill=\"currentColor\" x=\"1090\">ano.</tspan>\n",
              "    <tspan class=\"displacy-tag\" dy=\"2em\" fill=\"currentColor\" x=\"1090\">NOUN</tspan>\n",
              "</text>\n",
              "\n",
              "<text class=\"displacy-token\" fill=\"currentColor\" text-anchor=\"middle\" y=\"287.0\">\n",
              "    <tspan class=\"displacy-word\" fill=\"currentColor\" x=\"1170\">Assim</tspan>\n",
              "    <tspan class=\"displacy-tag\" dy=\"2em\" fill=\"currentColor\" x=\"1170\">ADV</tspan>\n",
              "</text>\n",
              "\n",
              "<text class=\"displacy-token\" fill=\"currentColor\" text-anchor=\"middle\" y=\"287.0\">\n",
              "    <tspan class=\"displacy-word\" fill=\"currentColor\" x=\"1250\">já</tspan>\n",
              "    <tspan class=\"displacy-tag\" dy=\"2em\" fill=\"currentColor\" x=\"1250\">ADV</tspan>\n",
              "</text>\n",
              "\n",
              "<text class=\"displacy-token\" fill=\"currentColor\" text-anchor=\"middle\" y=\"287.0\">\n",
              "    <tspan class=\"displacy-word\" fill=\"currentColor\" x=\"1330\">devolveram</tspan>\n",
              "    <tspan class=\"displacy-tag\" dy=\"2em\" fill=\"currentColor\" x=\"1330\">VERB</tspan>\n",
              "</text>\n",
              "\n",
              "<text class=\"displacy-token\" fill=\"currentColor\" text-anchor=\"middle\" y=\"287.0\">\n",
              "    <tspan class=\"displacy-word\" fill=\"currentColor\" x=\"1410\">todos</tspan>\n",
              "    <tspan class=\"displacy-tag\" dy=\"2em\" fill=\"currentColor\" x=\"1410\">DET</tspan>\n",
              "</text>\n",
              "\n",
              "<text class=\"displacy-token\" fill=\"currentColor\" text-anchor=\"middle\" y=\"287.0\">\n",
              "    <tspan class=\"displacy-word\" fill=\"currentColor\" x=\"1490\">os</tspan>\n",
              "    <tspan class=\"displacy-tag\" dy=\"2em\" fill=\"currentColor\" x=\"1490\">DET</tspan>\n",
              "</text>\n",
              "\n",
              "<text class=\"displacy-token\" fill=\"currentColor\" text-anchor=\"middle\" y=\"287.0\">\n",
              "    <tspan class=\"displacy-word\" fill=\"currentColor\" x=\"1570\">ganhos</tspan>\n",
              "    <tspan class=\"displacy-tag\" dy=\"2em\" fill=\"currentColor\" x=\"1570\">NOUN</tspan>\n",
              "</text>\n",
              "\n",
              "<text class=\"displacy-token\" fill=\"currentColor\" text-anchor=\"middle\" y=\"287.0\">\n",
              "    <tspan class=\"displacy-word\" fill=\"currentColor\" x=\"1650\">do</tspan>\n",
              "    <tspan class=\"displacy-tag\" dy=\"2em\" fill=\"currentColor\" x=\"1650\">ADP</tspan>\n",
              "</text>\n",
              "\n",
              "<text class=\"displacy-token\" fill=\"currentColor\" text-anchor=\"middle\" y=\"287.0\">\n",
              "    <tspan class=\"displacy-word\" fill=\"currentColor\" x=\"1730\">período</tspan>\n",
              "    <tspan class=\"displacy-tag\" dy=\"2em\" fill=\"currentColor\" x=\"1730\">NOUN</tspan>\n",
              "</text>\n",
              "\n",
              "<text class=\"displacy-token\" fill=\"currentColor\" text-anchor=\"middle\" y=\"287.0\">\n",
              "    <tspan class=\"displacy-word\" fill=\"currentColor\" x=\"1810\">da</tspan>\n",
              "    <tspan class=\"displacy-tag\" dy=\"2em\" fill=\"currentColor\" x=\"1810\">ADP</tspan>\n",
              "</text>\n",
              "\n",
              "<text class=\"displacy-token\" fill=\"currentColor\" text-anchor=\"middle\" y=\"287.0\">\n",
              "    <tspan class=\"displacy-word\" fill=\"currentColor\" x=\"1890\">pandemeia</tspan>\n",
              "    <tspan class=\"displacy-tag\" dy=\"2em\" fill=\"currentColor\" x=\"1890\">NOUN</tspan>\n",
              "</text>\n",
              "\n",
              "<g class=\"displacy-arrow\">\n",
              "    <path class=\"displacy-arc\" id=\"arrow-b7c46c459b82438ab83087bd7dd492f2-0-0\" stroke-width=\"2px\" d=\"M62,242.0 62,228.66666666666666 115.0,228.66666666666666 115.0,242.0\" fill=\"none\" stroke=\"currentColor\"/>\n",
              "    <text dy=\"1.25em\" style=\"font-size: 0.8em; letter-spacing: 1px\">\n",
              "        <textPath xlink:href=\"#arrow-b7c46c459b82438ab83087bd7dd492f2-0-0\" class=\"displacy-label\" startOffset=\"50%\" side=\"left\" fill=\"currentColor\" text-anchor=\"middle\">det</textPath>\n",
              "    </text>\n",
              "    <path class=\"displacy-arrowhead\" d=\"M62,244.0 L58,236.0 66,236.0\" fill=\"currentColor\"/>\n",
              "</g>\n",
              "\n",
              "<g class=\"displacy-arrow\">\n",
              "    <path class=\"displacy-arc\" id=\"arrow-b7c46c459b82438ab83087bd7dd492f2-0-1\" stroke-width=\"2px\" d=\"M142,242.0 142,162.0 690.0,162.0 690.0,242.0\" fill=\"none\" stroke=\"currentColor\"/>\n",
              "    <text dy=\"1.25em\" style=\"font-size: 0.8em; letter-spacing: 1px\">\n",
              "        <textPath xlink:href=\"#arrow-b7c46c459b82438ab83087bd7dd492f2-0-1\" class=\"displacy-label\" startOffset=\"50%\" side=\"left\" fill=\"currentColor\" text-anchor=\"middle\">nsubj</textPath>\n",
              "    </text>\n",
              "    <path class=\"displacy-arrowhead\" d=\"M142,244.0 L138,236.0 146,236.0\" fill=\"currentColor\"/>\n",
              "</g>\n",
              "\n",
              "<g class=\"displacy-arrow\">\n",
              "    <path class=\"displacy-arc\" id=\"arrow-b7c46c459b82438ab83087bd7dd492f2-0-2\" stroke-width=\"2px\" d=\"M222,242.0 222,228.66666666666666 275.0,228.66666666666666 275.0,242.0\" fill=\"none\" stroke=\"currentColor\"/>\n",
              "    <text dy=\"1.25em\" style=\"font-size: 0.8em; letter-spacing: 1px\">\n",
              "        <textPath xlink:href=\"#arrow-b7c46c459b82438ab83087bd7dd492f2-0-2\" class=\"displacy-label\" startOffset=\"50%\" side=\"left\" fill=\"currentColor\" text-anchor=\"middle\">case</textPath>\n",
              "    </text>\n",
              "    <path class=\"displacy-arrowhead\" d=\"M222,244.0 L218,236.0 226,236.0\" fill=\"currentColor\"/>\n",
              "</g>\n",
              "\n",
              "<g class=\"displacy-arrow\">\n",
              "    <path class=\"displacy-arc\" id=\"arrow-b7c46c459b82438ab83087bd7dd492f2-0-3\" stroke-width=\"2px\" d=\"M142,242.0 142,215.33333333333334 278.0,215.33333333333334 278.0,242.0\" fill=\"none\" stroke=\"currentColor\"/>\n",
              "    <text dy=\"1.25em\" style=\"font-size: 0.8em; letter-spacing: 1px\">\n",
              "        <textPath xlink:href=\"#arrow-b7c46c459b82438ab83087bd7dd492f2-0-3\" class=\"displacy-label\" startOffset=\"50%\" side=\"left\" fill=\"currentColor\" text-anchor=\"middle\">nmod</textPath>\n",
              "    </text>\n",
              "    <path class=\"displacy-arrowhead\" d=\"M278.0,244.0 L282.0,236.0 274.0,236.0\" fill=\"currentColor\"/>\n",
              "</g>\n",
              "\n",
              "<g class=\"displacy-arrow\">\n",
              "    <path class=\"displacy-arc\" id=\"arrow-b7c46c459b82438ab83087bd7dd492f2-0-4\" stroke-width=\"2px\" d=\"M302,242.0 302,228.66666666666666 355.0,228.66666666666666 355.0,242.0\" fill=\"none\" stroke=\"currentColor\"/>\n",
              "    <text dy=\"1.25em\" style=\"font-size: 0.8em; letter-spacing: 1px\">\n",
              "        <textPath xlink:href=\"#arrow-b7c46c459b82438ab83087bd7dd492f2-0-4\" class=\"displacy-label\" startOffset=\"50%\" side=\"left\" fill=\"currentColor\" text-anchor=\"middle\">appos</textPath>\n",
              "    </text>\n",
              "    <path class=\"displacy-arrowhead\" d=\"M355.0,244.0 L359.0,236.0 351.0,236.0\" fill=\"currentColor\"/>\n",
              "</g>\n",
              "\n",
              "<g class=\"displacy-arrow\">\n",
              "    <path class=\"displacy-arc\" id=\"arrow-b7c46c459b82438ab83087bd7dd492f2-0-5\" stroke-width=\"2px\" d=\"M382,242.0 382,228.66666666666666 435.0,228.66666666666666 435.0,242.0\" fill=\"none\" stroke=\"currentColor\"/>\n",
              "    <text dy=\"1.25em\" style=\"font-size: 0.8em; letter-spacing: 1px\">\n",
              "        <textPath xlink:href=\"#arrow-b7c46c459b82438ab83087bd7dd492f2-0-5\" class=\"displacy-label\" startOffset=\"50%\" side=\"left\" fill=\"currentColor\" text-anchor=\"middle\">flat:name</textPath>\n",
              "    </text>\n",
              "    <path class=\"displacy-arrowhead\" d=\"M435.0,244.0 L439.0,236.0 431.0,236.0\" fill=\"currentColor\"/>\n",
              "</g>\n",
              "\n",
              "<g class=\"displacy-arrow\">\n",
              "    <path class=\"displacy-arc\" id=\"arrow-b7c46c459b82438ab83087bd7dd492f2-0-6\" stroke-width=\"2px\" d=\"M302,242.0 302,202.0 521.0,202.0 521.0,242.0\" fill=\"none\" stroke=\"currentColor\"/>\n",
              "    <text dy=\"1.25em\" style=\"font-size: 0.8em; letter-spacing: 1px\">\n",
              "        <textPath xlink:href=\"#arrow-b7c46c459b82438ab83087bd7dd492f2-0-6\" class=\"displacy-label\" startOffset=\"50%\" side=\"left\" fill=\"currentColor\" text-anchor=\"middle\">conj</textPath>\n",
              "    </text>\n",
              "    <path class=\"displacy-arrowhead\" d=\"M521.0,244.0 L525.0,236.0 517.0,236.0\" fill=\"currentColor\"/>\n",
              "</g>\n",
              "\n",
              "<g class=\"displacy-arrow\">\n",
              "    <path class=\"displacy-arc\" id=\"arrow-b7c46c459b82438ab83087bd7dd492f2-0-7\" stroke-width=\"2px\" d=\"M302,242.0 302,188.66666666666666 604.0,188.66666666666666 604.0,242.0\" fill=\"none\" stroke=\"currentColor\"/>\n",
              "    <text dy=\"1.25em\" style=\"font-size: 0.8em; letter-spacing: 1px\">\n",
              "        <textPath xlink:href=\"#arrow-b7c46c459b82438ab83087bd7dd492f2-0-7\" class=\"displacy-label\" startOffset=\"50%\" side=\"left\" fill=\"currentColor\" text-anchor=\"middle\">conj</textPath>\n",
              "    </text>\n",
              "    <path class=\"displacy-arrowhead\" d=\"M604.0,244.0 L608.0,236.0 600.0,236.0\" fill=\"currentColor\"/>\n",
              "</g>\n",
              "\n",
              "<g class=\"displacy-arrow\">\n",
              "    <path class=\"displacy-arc\" id=\"arrow-b7c46c459b82438ab83087bd7dd492f2-0-8\" stroke-width=\"2px\" d=\"M702,242.0 702,228.66666666666666 755.0,228.66666666666666 755.0,242.0\" fill=\"none\" stroke=\"currentColor\"/>\n",
              "    <text dy=\"1.25em\" style=\"font-size: 0.8em; letter-spacing: 1px\">\n",
              "        <textPath xlink:href=\"#arrow-b7c46c459b82438ab83087bd7dd492f2-0-8\" class=\"displacy-label\" startOffset=\"50%\" side=\"left\" fill=\"currentColor\" text-anchor=\"middle\">obj</textPath>\n",
              "    </text>\n",
              "    <path class=\"displacy-arrowhead\" d=\"M755.0,244.0 L759.0,236.0 751.0,236.0\" fill=\"currentColor\"/>\n",
              "</g>\n",
              "\n",
              "<g class=\"displacy-arrow\">\n",
              "    <path class=\"displacy-arc\" id=\"arrow-b7c46c459b82438ab83087bd7dd492f2-0-9\" stroke-width=\"2px\" d=\"M862,242.0 862,228.66666666666666 915.0,228.66666666666666 915.0,242.0\" fill=\"none\" stroke=\"currentColor\"/>\n",
              "    <text dy=\"1.25em\" style=\"font-size: 0.8em; letter-spacing: 1px\">\n",
              "        <textPath xlink:href=\"#arrow-b7c46c459b82438ab83087bd7dd492f2-0-9\" class=\"displacy-label\" startOffset=\"50%\" side=\"left\" fill=\"currentColor\" text-anchor=\"middle\">case</textPath>\n",
              "    </text>\n",
              "    <path class=\"displacy-arrowhead\" d=\"M862,244.0 L858,236.0 866,236.0\" fill=\"currentColor\"/>\n",
              "</g>\n",
              "\n",
              "<g class=\"displacy-arrow\">\n",
              "    <path class=\"displacy-arc\" id=\"arrow-b7c46c459b82438ab83087bd7dd492f2-0-10\" stroke-width=\"2px\" d=\"M782,242.0 782,215.33333333333334 918.0,215.33333333333334 918.0,242.0\" fill=\"none\" stroke=\"currentColor\"/>\n",
              "    <text dy=\"1.25em\" style=\"font-size: 0.8em; letter-spacing: 1px\">\n",
              "        <textPath xlink:href=\"#arrow-b7c46c459b82438ab83087bd7dd492f2-0-10\" class=\"displacy-label\" startOffset=\"50%\" side=\"left\" fill=\"currentColor\" text-anchor=\"middle\">nmod</textPath>\n",
              "    </text>\n",
              "    <path class=\"displacy-arrowhead\" d=\"M918.0,244.0 L922.0,236.0 914.0,236.0\" fill=\"currentColor\"/>\n",
              "</g>\n",
              "\n",
              "<g class=\"displacy-arrow\">\n",
              "    <path class=\"displacy-arc\" id=\"arrow-b7c46c459b82438ab83087bd7dd492f2-0-11\" stroke-width=\"2px\" d=\"M1022,242.0 1022,228.66666666666666 1075.0,228.66666666666666 1075.0,242.0\" fill=\"none\" stroke=\"currentColor\"/>\n",
              "    <text dy=\"1.25em\" style=\"font-size: 0.8em; letter-spacing: 1px\">\n",
              "        <textPath xlink:href=\"#arrow-b7c46c459b82438ab83087bd7dd492f2-0-11\" class=\"displacy-label\" startOffset=\"50%\" side=\"left\" fill=\"currentColor\" text-anchor=\"middle\">case</textPath>\n",
              "    </text>\n",
              "    <path class=\"displacy-arrowhead\" d=\"M1022,244.0 L1018,236.0 1026,236.0\" fill=\"currentColor\"/>\n",
              "</g>\n",
              "\n",
              "<g class=\"displacy-arrow\">\n",
              "    <path class=\"displacy-arc\" id=\"arrow-b7c46c459b82438ab83087bd7dd492f2-0-12\" stroke-width=\"2px\" d=\"M702,242.0 702,175.33333333333331 1087.0,175.33333333333331 1087.0,242.0\" fill=\"none\" stroke=\"currentColor\"/>\n",
              "    <text dy=\"1.25em\" style=\"font-size: 0.8em; letter-spacing: 1px\">\n",
              "        <textPath xlink:href=\"#arrow-b7c46c459b82438ab83087bd7dd492f2-0-12\" class=\"displacy-label\" startOffset=\"50%\" side=\"left\" fill=\"currentColor\" text-anchor=\"middle\">obl</textPath>\n",
              "    </text>\n",
              "    <path class=\"displacy-arrowhead\" d=\"M1087.0,244.0 L1091.0,236.0 1083.0,236.0\" fill=\"currentColor\"/>\n",
              "</g>\n",
              "\n",
              "<g class=\"displacy-arrow\">\n",
              "    <path class=\"displacy-arc\" id=\"arrow-b7c46c459b82438ab83087bd7dd492f2-0-13\" stroke-width=\"2px\" d=\"M1182,242.0 1182,215.33333333333334 1318.0,215.33333333333334 1318.0,242.0\" fill=\"none\" stroke=\"currentColor\"/>\n",
              "    <text dy=\"1.25em\" style=\"font-size: 0.8em; letter-spacing: 1px\">\n",
              "        <textPath xlink:href=\"#arrow-b7c46c459b82438ab83087bd7dd492f2-0-13\" class=\"displacy-label\" startOffset=\"50%\" side=\"left\" fill=\"currentColor\" text-anchor=\"middle\">advmod</textPath>\n",
              "    </text>\n",
              "    <path class=\"displacy-arrowhead\" d=\"M1182,244.0 L1178,236.0 1186,236.0\" fill=\"currentColor\"/>\n",
              "</g>\n",
              "\n",
              "<g class=\"displacy-arrow\">\n",
              "    <path class=\"displacy-arc\" id=\"arrow-b7c46c459b82438ab83087bd7dd492f2-0-14\" stroke-width=\"2px\" d=\"M1262,242.0 1262,228.66666666666666 1315.0,228.66666666666666 1315.0,242.0\" fill=\"none\" stroke=\"currentColor\"/>\n",
              "    <text dy=\"1.25em\" style=\"font-size: 0.8em; letter-spacing: 1px\">\n",
              "        <textPath xlink:href=\"#arrow-b7c46c459b82438ab83087bd7dd492f2-0-14\" class=\"displacy-label\" startOffset=\"50%\" side=\"left\" fill=\"currentColor\" text-anchor=\"middle\">advmod</textPath>\n",
              "    </text>\n",
              "    <path class=\"displacy-arrowhead\" d=\"M1262,244.0 L1258,236.0 1266,236.0\" fill=\"currentColor\"/>\n",
              "</g>\n",
              "\n",
              "<g class=\"displacy-arrow\">\n",
              "    <path class=\"displacy-arc\" id=\"arrow-b7c46c459b82438ab83087bd7dd492f2-0-15\" stroke-width=\"2px\" d=\"M1422,242.0 1422,215.33333333333334 1558.0,215.33333333333334 1558.0,242.0\" fill=\"none\" stroke=\"currentColor\"/>\n",
              "    <text dy=\"1.25em\" style=\"font-size: 0.8em; letter-spacing: 1px\">\n",
              "        <textPath xlink:href=\"#arrow-b7c46c459b82438ab83087bd7dd492f2-0-15\" class=\"displacy-label\" startOffset=\"50%\" side=\"left\" fill=\"currentColor\" text-anchor=\"middle\">det</textPath>\n",
              "    </text>\n",
              "    <path class=\"displacy-arrowhead\" d=\"M1422,244.0 L1418,236.0 1426,236.0\" fill=\"currentColor\"/>\n",
              "</g>\n",
              "\n",
              "<g class=\"displacy-arrow\">\n",
              "    <path class=\"displacy-arc\" id=\"arrow-b7c46c459b82438ab83087bd7dd492f2-0-16\" stroke-width=\"2px\" d=\"M1502,242.0 1502,228.66666666666666 1555.0,228.66666666666666 1555.0,242.0\" fill=\"none\" stroke=\"currentColor\"/>\n",
              "    <text dy=\"1.25em\" style=\"font-size: 0.8em; letter-spacing: 1px\">\n",
              "        <textPath xlink:href=\"#arrow-b7c46c459b82438ab83087bd7dd492f2-0-16\" class=\"displacy-label\" startOffset=\"50%\" side=\"left\" fill=\"currentColor\" text-anchor=\"middle\">det</textPath>\n",
              "    </text>\n",
              "    <path class=\"displacy-arrowhead\" d=\"M1502,244.0 L1498,236.0 1506,236.0\" fill=\"currentColor\"/>\n",
              "</g>\n",
              "\n",
              "<g class=\"displacy-arrow\">\n",
              "    <path class=\"displacy-arc\" id=\"arrow-b7c46c459b82438ab83087bd7dd492f2-0-17\" stroke-width=\"2px\" d=\"M1342,242.0 1342,202.0 1561.0,202.0 1561.0,242.0\" fill=\"none\" stroke=\"currentColor\"/>\n",
              "    <text dy=\"1.25em\" style=\"font-size: 0.8em; letter-spacing: 1px\">\n",
              "        <textPath xlink:href=\"#arrow-b7c46c459b82438ab83087bd7dd492f2-0-17\" class=\"displacy-label\" startOffset=\"50%\" side=\"left\" fill=\"currentColor\" text-anchor=\"middle\">obj</textPath>\n",
              "    </text>\n",
              "    <path class=\"displacy-arrowhead\" d=\"M1561.0,244.0 L1565.0,236.0 1557.0,236.0\" fill=\"currentColor\"/>\n",
              "</g>\n",
              "\n",
              "<g class=\"displacy-arrow\">\n",
              "    <path class=\"displacy-arc\" id=\"arrow-b7c46c459b82438ab83087bd7dd492f2-0-18\" stroke-width=\"2px\" d=\"M1662,242.0 1662,228.66666666666666 1715.0,228.66666666666666 1715.0,242.0\" fill=\"none\" stroke=\"currentColor\"/>\n",
              "    <text dy=\"1.25em\" style=\"font-size: 0.8em; letter-spacing: 1px\">\n",
              "        <textPath xlink:href=\"#arrow-b7c46c459b82438ab83087bd7dd492f2-0-18\" class=\"displacy-label\" startOffset=\"50%\" side=\"left\" fill=\"currentColor\" text-anchor=\"middle\">case</textPath>\n",
              "    </text>\n",
              "    <path class=\"displacy-arrowhead\" d=\"M1662,244.0 L1658,236.0 1666,236.0\" fill=\"currentColor\"/>\n",
              "</g>\n",
              "\n",
              "<g class=\"displacy-arrow\">\n",
              "    <path class=\"displacy-arc\" id=\"arrow-b7c46c459b82438ab83087bd7dd492f2-0-19\" stroke-width=\"2px\" d=\"M1582,242.0 1582,215.33333333333334 1718.0,215.33333333333334 1718.0,242.0\" fill=\"none\" stroke=\"currentColor\"/>\n",
              "    <text dy=\"1.25em\" style=\"font-size: 0.8em; letter-spacing: 1px\">\n",
              "        <textPath xlink:href=\"#arrow-b7c46c459b82438ab83087bd7dd492f2-0-19\" class=\"displacy-label\" startOffset=\"50%\" side=\"left\" fill=\"currentColor\" text-anchor=\"middle\">nmod</textPath>\n",
              "    </text>\n",
              "    <path class=\"displacy-arrowhead\" d=\"M1718.0,244.0 L1722.0,236.0 1714.0,236.0\" fill=\"currentColor\"/>\n",
              "</g>\n",
              "\n",
              "<g class=\"displacy-arrow\">\n",
              "    <path class=\"displacy-arc\" id=\"arrow-b7c46c459b82438ab83087bd7dd492f2-0-20\" stroke-width=\"2px\" d=\"M1822,242.0 1822,228.66666666666666 1875.0,228.66666666666666 1875.0,242.0\" fill=\"none\" stroke=\"currentColor\"/>\n",
              "    <text dy=\"1.25em\" style=\"font-size: 0.8em; letter-spacing: 1px\">\n",
              "        <textPath xlink:href=\"#arrow-b7c46c459b82438ab83087bd7dd492f2-0-20\" class=\"displacy-label\" startOffset=\"50%\" side=\"left\" fill=\"currentColor\" text-anchor=\"middle\">case</textPath>\n",
              "    </text>\n",
              "    <path class=\"displacy-arrowhead\" d=\"M1822,244.0 L1818,236.0 1826,236.0\" fill=\"currentColor\"/>\n",
              "</g>\n",
              "\n",
              "<g class=\"displacy-arrow\">\n",
              "    <path class=\"displacy-arc\" id=\"arrow-b7c46c459b82438ab83087bd7dd492f2-0-21\" stroke-width=\"2px\" d=\"M1742,242.0 1742,215.33333333333334 1878.0,215.33333333333334 1878.0,242.0\" fill=\"none\" stroke=\"currentColor\"/>\n",
              "    <text dy=\"1.25em\" style=\"font-size: 0.8em; letter-spacing: 1px\">\n",
              "        <textPath xlink:href=\"#arrow-b7c46c459b82438ab83087bd7dd492f2-0-21\" class=\"displacy-label\" startOffset=\"50%\" side=\"left\" fill=\"currentColor\" text-anchor=\"middle\">nmod</textPath>\n",
              "    </text>\n",
              "    <path class=\"displacy-arrowhead\" d=\"M1878.0,244.0 L1882.0,236.0 1874.0,236.0\" fill=\"currentColor\"/>\n",
              "</g>\n",
              "</svg></span>"
            ],
            "text/plain": [
              "<IPython.core.display.HTML object>"
            ]
          },
          "metadata": {},
          "output_type": "display_data"
        }
      ],
      "source": [
        "documento.user_data['title'] = \"Exemplo\"\n",
        "displacy.render(documento,style=\"dep\", jupyter=True,\n",
        "                options={'compact': True, 'distance' : 80, 'color': '#FFFFFF', 'bg': '#000000', 'font': 'Arial' })"
      ]
    },
    {
      "cell_type": "code",
      "execution_count": 70,
      "metadata": {
        "colab": {
          "base_uri": "https://localhost:8080/"
        },
        "id": "w5wsSoBKyWnZ",
        "outputId": "09a5b680-addd-4e7e-92da-15d33a1b239a"
      },
      "outputs": [
        {
          "name": "stdout",
          "output_type": "stream",
          "text": [
            "Pipeline Normal:  ['tok2vec', 'morphologizer', 'parser', 'attribute_ruler', 'lemmatizer', 'ner']\n"
          ]
        }
      ],
      "source": [
        "print(\"Pipeline Normal: \", nlp.pipe_names)"
      ]
    },
    {
      "cell_type": "code",
      "execution_count": 71,
      "metadata": {
        "colab": {
          "base_uri": "https://localhost:8080/"
        },
        "id": "yZHqUMeT0wHi",
        "outputId": "0bd299b8-b916-4059-caa6-4fdbb20a87da"
      },
      "outputs": [
        {
          "name": "stdout",
          "output_type": "stream",
          "text": [
            "Pipeline sem tok2vec:  ['morphologizer', 'parser', 'attribute_ruler', 'lemmatizer', 'ner']\n"
          ]
        }
      ],
      "source": [
        "nlp.remove_pipe('tok2vec')\n",
        "print(\"Pipeline sem tok2vec: \", nlp.pipe_names)"
      ]
    },
    {
      "cell_type": "code",
      "execution_count": 72,
      "metadata": {
        "colab": {
          "base_uri": "https://localhost:8080/"
        },
        "id": "vhLT7Mng0-iJ",
        "outputId": "824d957e-17f3-41bd-d24b-7a54898d43cd"
      },
      "outputs": [
        {
          "name": "stdout",
          "output_type": "stream",
          "text": [
            "Pipeline Normal:  ['morphologizer', 'tok2vec', 'parser', 'attribute_ruler', 'lemmatizer', 'ner']\n"
          ]
        }
      ],
      "source": [
        "nlp.add_pipe('tok2vec', after='morphologizer')\n",
        "print(\"Pipeline Normal: \", nlp.pipe_names)"
      ]
    },
    {
      "cell_type": "code",
      "execution_count": null,
      "metadata": {
        "id": "jl-b4HYf2LD2"
      },
      "outputs": [],
      "source": []
    }
  ],
  "metadata": {
    "colab": {
      "name": "spacy.ipynb",
      "provenance": []
    },
    "kernelspec": {
      "display_name": "Python 3",
      "name": "python3"
    },
    "language_info": {
      "name": "python"
    }
  },
  "nbformat": 4,
  "nbformat_minor": 0
}
