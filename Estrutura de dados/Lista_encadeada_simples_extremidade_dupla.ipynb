{
  "nbformat": 4,
  "nbformat_minor": 0,
  "metadata": {
    "colab": {
      "name": "Lista encadeada simples extremidade dupla.ipynb",
      "provenance": [],
      "collapsed_sections": []
    },
    "kernelspec": {
      "name": "python3",
      "display_name": "Python 3"
    }
  },
  "cells": [
    {
      "cell_type": "markdown",
      "metadata": {
        "id": "-FVr0W4SMhwg"
      },
      "source": [
        "# Lista encadeada simples com extremidade dupla"
      ]
    },
    {
      "cell_type": "code",
      "metadata": {
        "id": "85G8hbnEMdYd"
      },
      "source": [
        "class No: \n",
        "  \n",
        "  def __init__(self, valor):\n",
        "    self.valor = valor\n",
        "    self.proximo = None\n",
        "\n",
        "  def mostra_no(self):\n",
        "    print(self.valor)"
      ],
      "execution_count": null,
      "outputs": []
    },
    {
      "cell_type": "code",
      "metadata": {
        "id": "2hlQCZiXOSGK"
      },
      "source": [
        "class ListaEncadeadaExtremidadeDupla:\n",
        "\n",
        "  def __init__(self):\n",
        "    self.primeiro = None\n",
        "    self.ultimo = None\n",
        "  \n",
        "  def __lista_vazia(self):\n",
        "    return self.primeiro == None\n",
        "\n",
        "  def insere_inicio(self, valor):\n",
        "    novo = No(valor)\n",
        "    if self.__lista_vazia():\n",
        "      self.ultimo = novo\n",
        "    novo.proximo = self.primeiro\n",
        "    self.primeiro = novo\n",
        "\n",
        "  def insere_final(self, valor):\n",
        "    novo = No(valor)\n",
        "    if self.__lista_vazia():\n",
        "      self.primeiro = novo\n",
        "    else:\n",
        "      self.ultimo.proximo = novo\n",
        "    self.ultimo = novo\n",
        "\n",
        "  def excluir_inicio(self):\n",
        "    if self.__lista_vazia():\n",
        "      print('A lista está vazia')\n",
        "      return\n",
        "\n",
        "    temp = self.primeiro\n",
        "    if self.primeiro.proximo == None:\n",
        "      self.ultimo = None\n",
        "    self.primeiro = self.primeiro.proximo\n",
        "    return temp\n",
        "\n",
        "  def mostrar(self):\n",
        "    if self.__lista_vazia():\n",
        "      print('A lista está vazia')\n",
        "      return\n",
        "    atual = self.primeiro\n",
        "    while atual != None:\n",
        "      atual.mostra_no()\n",
        "      atual = atual.proximo   "
      ],
      "execution_count": null,
      "outputs": []
    },
    {
      "cell_type": "markdown",
      "metadata": {
        "id": "PaVY-2lwxMCw"
      },
      "source": [
        "### Insere no início e mostrar"
      ]
    },
    {
      "cell_type": "code",
      "metadata": {
        "id": "1RGaq-U3ea5T"
      },
      "source": [
        "lista = ListaEncadeadaExtremidadeDupla()"
      ],
      "execution_count": null,
      "outputs": []
    },
    {
      "cell_type": "code",
      "metadata": {
        "id": "2A2qVC-Teee9"
      },
      "source": [
        "lista.insere_inicio(1)"
      ],
      "execution_count": null,
      "outputs": []
    },
    {
      "cell_type": "code",
      "metadata": {
        "id": "fFWF0EK4ehNq",
        "colab": {
          "base_uri": "https://localhost:8080/",
          "height": 55
        },
        "outputId": "a8c8e580-eb19-42e3-e98e-58e189e06f65"
      },
      "source": [
        "lista.primeiro, lista.ultimo"
      ],
      "execution_count": null,
      "outputs": [
        {
          "output_type": "execute_result",
          "data": {
            "text/plain": [
              "(<__main__.No at 0x7f8128106668>, <__main__.No at 0x7f8128106668>)"
            ]
          },
          "metadata": {
            "tags": []
          },
          "execution_count": 5
        }
      ]
    },
    {
      "cell_type": "code",
      "metadata": {
        "id": "bUBQH3Ogenho"
      },
      "source": [
        "lista.insere_inicio(2)\n",
        "lista.insere_inicio(3)\n",
        "lista.insere_inicio(4)\n",
        "lista.insere_inicio(5)"
      ],
      "execution_count": null,
      "outputs": []
    },
    {
      "cell_type": "code",
      "metadata": {
        "id": "orqG755serBl",
        "colab": {
          "base_uri": "https://localhost:8080/",
          "height": 125
        },
        "outputId": "7680b8d7-d7fd-473d-e90c-5d223f63777e"
      },
      "source": [
        "lista.mostrar()"
      ],
      "execution_count": null,
      "outputs": [
        {
          "output_type": "stream",
          "text": [
            "5\n",
            "4\n",
            "3\n",
            "2\n",
            "1\n"
          ],
          "name": "stdout"
        }
      ]
    },
    {
      "cell_type": "code",
      "metadata": {
        "id": "L15F3y6Qewa9",
        "colab": {
          "base_uri": "https://localhost:8080/",
          "height": 55
        },
        "outputId": "ef87e50f-f92a-433e-800a-fd53ead55b1d"
      },
      "source": [
        "lista.primeiro, lista.ultimo"
      ],
      "execution_count": null,
      "outputs": [
        {
          "output_type": "execute_result",
          "data": {
            "text/plain": [
              "(<__main__.No at 0x7f8128106550>, <__main__.No at 0x7f8128106668>)"
            ]
          },
          "metadata": {
            "tags": []
          },
          "execution_count": 8
        }
      ]
    },
    {
      "cell_type": "markdown",
      "metadata": {
        "id": "cqq_0jtVxQ_M"
      },
      "source": [
        "### Insere no final"
      ]
    },
    {
      "cell_type": "code",
      "metadata": {
        "id": "vC2d9-Zafz1C"
      },
      "source": [
        "lista = ListaEncadeadaExtremidadeDupla()"
      ],
      "execution_count": null,
      "outputs": []
    },
    {
      "cell_type": "code",
      "metadata": {
        "id": "15HTpENVf4NS"
      },
      "source": [
        "lista.insere_final(1)"
      ],
      "execution_count": null,
      "outputs": []
    },
    {
      "cell_type": "code",
      "metadata": {
        "id": "s1h10PCef690",
        "colab": {
          "base_uri": "https://localhost:8080/",
          "height": 55
        },
        "outputId": "fb924563-7559-4f9d-a396-40428cb5c3d8"
      },
      "source": [
        "lista.primeiro, lista.ultimo"
      ],
      "execution_count": null,
      "outputs": [
        {
          "output_type": "execute_result",
          "data": {
            "text/plain": [
              "(<__main__.No at 0x7f81280fc5c0>, <__main__.No at 0x7f81280fc5c0>)"
            ]
          },
          "metadata": {
            "tags": []
          },
          "execution_count": 12
        }
      ]
    },
    {
      "cell_type": "code",
      "metadata": {
        "id": "gAkGioYpf-1P"
      },
      "source": [
        "lista.insere_final(2)\n",
        "lista.insere_final(3)"
      ],
      "execution_count": null,
      "outputs": []
    },
    {
      "cell_type": "code",
      "metadata": {
        "id": "-7STolX4gCYK",
        "colab": {
          "base_uri": "https://localhost:8080/",
          "height": 90
        },
        "outputId": "a35e5453-4515-42a0-9df8-88c1563c8f61"
      },
      "source": [
        "lista.mostrar()"
      ],
      "execution_count": null,
      "outputs": [
        {
          "output_type": "stream",
          "text": [
            "1\n",
            "2\n",
            "3\n"
          ],
          "name": "stdout"
        }
      ]
    },
    {
      "cell_type": "code",
      "metadata": {
        "id": "TxfD5yAbgLK2",
        "colab": {
          "base_uri": "https://localhost:8080/",
          "height": 125
        },
        "outputId": "bff7c0f4-26d3-4e75-80d3-8585abef01a2"
      },
      "source": [
        "lista.insere_inicio(0)\n",
        "lista.insere_final(4)\n",
        "lista.mostrar()"
      ],
      "execution_count": null,
      "outputs": [
        {
          "output_type": "stream",
          "text": [
            "0\n",
            "1\n",
            "2\n",
            "3\n",
            "4\n"
          ],
          "name": "stdout"
        }
      ]
    },
    {
      "cell_type": "markdown",
      "metadata": {
        "id": "TDgAXy1WxUCk"
      },
      "source": [
        "### Excluir do início"
      ]
    },
    {
      "cell_type": "code",
      "metadata": {
        "id": "Lzxs3xA4hJ8w"
      },
      "source": [
        "lista = ListaEncadeadaExtremidadeDupla()"
      ],
      "execution_count": null,
      "outputs": []
    },
    {
      "cell_type": "code",
      "metadata": {
        "id": "_r7GQSDJhNgE",
        "colab": {
          "base_uri": "https://localhost:8080/",
          "height": 72
        },
        "outputId": "4020087c-d753-41cf-b276-f102e04a659d"
      },
      "source": [
        "lista.insere_inicio(1)\n",
        "lista.insere_final(3)\n",
        "lista.mostrar()"
      ],
      "execution_count": null,
      "outputs": [
        {
          "output_type": "stream",
          "text": [
            "1\n",
            "3\n"
          ],
          "name": "stdout"
        }
      ]
    },
    {
      "cell_type": "code",
      "metadata": {
        "id": "OuRlBn75hS1o",
        "colab": {
          "base_uri": "https://localhost:8080/",
          "height": 55
        },
        "outputId": "6c64ef17-8ec4-4a33-c8ad-9295f1310382"
      },
      "source": [
        "lista.excluir_inicio()\n",
        "lista.mostrar()"
      ],
      "execution_count": null,
      "outputs": [
        {
          "output_type": "stream",
          "text": [
            "3\n"
          ],
          "name": "stdout"
        }
      ]
    },
    {
      "cell_type": "code",
      "metadata": {
        "id": "SnQNbxC9hX84",
        "colab": {
          "base_uri": "https://localhost:8080/",
          "height": 55
        },
        "outputId": "c3cb199e-92ae-4afa-e318-f16124da3096"
      },
      "source": [
        "lista.excluir_inicio()\n",
        "lista.excluir_inicio()"
      ],
      "execution_count": null,
      "outputs": [
        {
          "output_type": "stream",
          "text": [
            "A lista está vazia\n"
          ],
          "name": "stdout"
        }
      ]
    },
    {
      "cell_type": "code",
      "metadata": {
        "id": "J8Qy8SJMhbr7",
        "colab": {
          "base_uri": "https://localhost:8080/",
          "height": 55
        },
        "outputId": "22d192ab-05f7-4be8-b666-67d761138e1c"
      },
      "source": [
        "lista.mostrar()"
      ],
      "execution_count": null,
      "outputs": [
        {
          "output_type": "stream",
          "text": [
            "A lista está vazia\n"
          ],
          "name": "stdout"
        }
      ]
    }
  ]
}