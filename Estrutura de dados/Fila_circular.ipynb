{
  "nbformat": 4,
  "nbformat_minor": 0,
  "metadata": {
    "colab": {
      "name": "Fila circular.ipynb",
      "provenance": [],
      "collapsed_sections": []
    },
    "kernelspec": {
      "name": "python3",
      "display_name": "Python 3"
    }
  },
  "cells": [
    {
      "cell_type": "markdown",
      "metadata": {
        "id": "3L3hMZxPloS9"
      },
      "source": [
        "# Fila circular"
      ]
    },
    {
      "cell_type": "code",
      "metadata": {
        "id": "2IUgpxk2pQW1"
      },
      "source": [
        "import numpy as np"
      ],
      "execution_count": null,
      "outputs": []
    },
    {
      "cell_type": "code",
      "metadata": {
        "id": "If-o0mg7HVWQ"
      },
      "source": [
        "class FilaCircular:\n",
        "  \n",
        "  def __init__(self, capacidade):\n",
        "    self.capacidade = capacidade\n",
        "    self.inicio = 0\n",
        "    self.final = -1\n",
        "    self.numero_elementos = 0\n",
        "    self.valores = np.empty(self.capacidade, dtype=int)\n",
        "\n",
        "  def __fila_vazia(self):\n",
        "    return self.numero_elementos == 0\n",
        "\n",
        "  def __fila_cheia(self):\n",
        "    return self.numero_elementos == self.capacidade\n",
        "\n",
        "  def enfileirar(self, valor):\n",
        "    if self.__fila_cheia():\n",
        "      print('A fila está cheia')\n",
        "      return\n",
        "    \n",
        "    if self.final == self.capacidade - 1:\n",
        "      self.final = -1\n",
        "    self.final += 1\n",
        "    self.valores[self.final] = valor\n",
        "    self.numero_elementos += 1\n",
        "\n",
        "  def desenfileirar(self):\n",
        "    if self.__fila_vazia():\n",
        "      print('A fila já está vazia')\n",
        "      return\n",
        "\n",
        "    temp = self.valores[self.inicio]\n",
        "    self.inicio += 1\n",
        "    #if self.inicio == self.capacidade - 1: Corrigido em 05/05/2022\n",
        "    if self.inicio == self.capacidade:\n",
        "      self.inicio = 0\n",
        "    self.numero_elementos -= 1\n",
        "    return temp\n",
        "\n",
        "  def primeiro(self):\n",
        "    if self.__fila_vazia():\n",
        "      return -1\n",
        "    return self.valores[self.inicio]\n"
      ],
      "execution_count": null,
      "outputs": []
    },
    {
      "cell_type": "code",
      "metadata": {
        "id": "HiqlbuXKJmwi"
      },
      "source": [
        "fila = FilaCircular(5)"
      ],
      "execution_count": null,
      "outputs": []
    },
    {
      "cell_type": "code",
      "metadata": {
        "id": "GmSAoCYXJqcL",
        "colab": {
          "base_uri": "https://localhost:8080/"
        },
        "outputId": "96cc41d6-b9ac-4cac-efe7-a28dc21541f5"
      },
      "source": [
        "fila.primeiro()"
      ],
      "execution_count": null,
      "outputs": [
        {
          "output_type": "execute_result",
          "data": {
            "text/plain": [
              "-1"
            ]
          },
          "metadata": {},
          "execution_count": 4
        }
      ]
    },
    {
      "cell_type": "code",
      "metadata": {
        "id": "pKkqDfz4Js-9",
        "colab": {
          "base_uri": "https://localhost:8080/"
        },
        "outputId": "c7bef7de-636a-42cf-aeb4-4d4c465e643c"
      },
      "source": [
        "# 1\n",
        "fila.enfileirar(1)\n",
        "fila.primeiro()"
      ],
      "execution_count": null,
      "outputs": [
        {
          "output_type": "execute_result",
          "data": {
            "text/plain": [
              "1"
            ]
          },
          "metadata": {},
          "execution_count": 5
        }
      ]
    },
    {
      "cell_type": "code",
      "metadata": {
        "id": "uKUBWPjKJ1bs",
        "colab": {
          "base_uri": "https://localhost:8080/"
        },
        "outputId": "9f622f31-bf1d-461f-ca2f-b5fb4c5da282"
      },
      "source": [
        "# 2 1\n",
        "fila.enfileirar(2)\n",
        "fila.primeiro()"
      ],
      "execution_count": null,
      "outputs": [
        {
          "output_type": "execute_result",
          "data": {
            "text/plain": [
              "1"
            ]
          },
          "metadata": {},
          "execution_count": 6
        }
      ]
    },
    {
      "cell_type": "code",
      "metadata": {
        "id": "qtHrnRv7J-HH"
      },
      "source": [
        "# 5 4 3 2 1\n",
        "fila.enfileirar(3)\n",
        "fila.enfileirar(4)\n",
        "fila.enfileirar(5)"
      ],
      "execution_count": null,
      "outputs": []
    },
    {
      "cell_type": "code",
      "metadata": {
        "id": "YAaDA05xKXWU",
        "colab": {
          "base_uri": "https://localhost:8080/"
        },
        "outputId": "7316be2f-f805-463e-bd41-d64eff4f471c"
      },
      "source": [
        "fila.enfileirar(6)"
      ],
      "execution_count": null,
      "outputs": [
        {
          "output_type": "stream",
          "name": "stdout",
          "text": [
            "A fila está cheia\n"
          ]
        }
      ]
    },
    {
      "cell_type": "code",
      "metadata": {
        "id": "xbZ2VaffKaiD",
        "colab": {
          "base_uri": "https://localhost:8080/"
        },
        "outputId": "58dbcc11-901e-4e96-fad1-3b1e2cb4199b"
      },
      "source": [
        "# 5 4 3\n",
        "fila.desenfileirar()\n",
        "fila.desenfileirar()\n",
        "fila.primeiro()"
      ],
      "execution_count": null,
      "outputs": [
        {
          "output_type": "execute_result",
          "data": {
            "text/plain": [
              "3"
            ]
          },
          "metadata": {},
          "execution_count": 9
        }
      ]
    },
    {
      "cell_type": "code",
      "metadata": {
        "id": "aE7Xb5RlKth2"
      },
      "source": [
        "# 7 6 5 4 3\n",
        "fila.enfileirar(6)\n",
        "fila.enfileirar(7)"
      ],
      "execution_count": null,
      "outputs": []
    },
    {
      "cell_type": "code",
      "metadata": {
        "id": "_bCtDyitK0YE",
        "colab": {
          "base_uri": "https://localhost:8080/"
        },
        "outputId": "03d6f1d7-f97d-4cb3-e07a-26e42a03a4c4"
      },
      "source": [
        "fila.primeiro()"
      ],
      "execution_count": null,
      "outputs": [
        {
          "output_type": "execute_result",
          "data": {
            "text/plain": [
              "3"
            ]
          },
          "metadata": {},
          "execution_count": 11
        }
      ]
    },
    {
      "cell_type": "code",
      "metadata": {
        "id": "EDxcQvYSK4_P",
        "colab": {
          "base_uri": "https://localhost:8080/"
        },
        "outputId": "ef5bce39-a2ff-46c3-ef6d-a46a94614fc0"
      },
      "source": [
        "fila.valores"
      ],
      "execution_count": null,
      "outputs": [
        {
          "output_type": "execute_result",
          "data": {
            "text/plain": [
              "array([6, 7, 3, 4, 5])"
            ]
          },
          "metadata": {},
          "execution_count": 12
        }
      ]
    },
    {
      "cell_type": "code",
      "metadata": {
        "id": "K2cWewV-LDGf",
        "colab": {
          "base_uri": "https://localhost:8080/"
        },
        "outputId": "f8629516-681d-471b-84af-1b3553595c1c"
      },
      "source": [
        "fila.inicio, fila.final"
      ],
      "execution_count": null,
      "outputs": [
        {
          "output_type": "execute_result",
          "data": {
            "text/plain": [
              "(2, 1)"
            ]
          },
          "metadata": {},
          "execution_count": 13
        }
      ]
    },
    {
      "cell_type": "code",
      "metadata": {
        "id": "hMdGkgf1LZhD",
        "colab": {
          "base_uri": "https://localhost:8080/"
        },
        "outputId": "bf8c8591-f9ad-4cb7-e31e-925cf1a5caa5"
      },
      "source": [
        "fila.valores[fila.final]"
      ],
      "execution_count": null,
      "outputs": [
        {
          "output_type": "execute_result",
          "data": {
            "text/plain": [
              "7"
            ]
          },
          "metadata": {},
          "execution_count": 14
        }
      ]
    },
    {
      "cell_type": "code",
      "metadata": {
        "id": "ONTy1yoJLdPj",
        "colab": {
          "base_uri": "https://localhost:8080/"
        },
        "outputId": "27e7be63-5cf1-4ab9-988e-b2c9680252bb"
      },
      "source": [
        "fila.valores[fila.inicio]"
      ],
      "execution_count": null,
      "outputs": [
        {
          "output_type": "execute_result",
          "data": {
            "text/plain": [
              "3"
            ]
          },
          "metadata": {},
          "execution_count": 15
        }
      ]
    }
  ]
}