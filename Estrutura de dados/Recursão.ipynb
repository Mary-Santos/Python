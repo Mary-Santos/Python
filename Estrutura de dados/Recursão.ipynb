{
  "nbformat": 4,
  "nbformat_minor": 0,
  "metadata": {
    "colab": {
      "name": "Recursão.ipynb",
      "provenance": []
    },
    "kernelspec": {
      "name": "python3",
      "display_name": "Python 3"
    }
  },
  "cells": [
    {
      "cell_type": "markdown",
      "metadata": {
        "id": "vN5dGU1I7nNg"
      },
      "source": [
        "# Recursão"
      ]
    },
    {
      "cell_type": "markdown",
      "metadata": {
        "id": "Tqg0Orl18B49"
      },
      "source": [
        "## Mostrar mensagens"
      ]
    },
    {
      "cell_type": "code",
      "metadata": {
        "id": "wVgOQ8ZR_Jkp",
        "colab": {
          "base_uri": "https://localhost:8080/",
          "height": 125
        },
        "outputId": "df36ce26-e239-443a-b0f2-f452a9b98434"
      },
      "source": [
        "for _ in range(5):\n",
        "  print('Recursão')"
      ],
      "execution_count": null,
      "outputs": [
        {
          "output_type": "stream",
          "text": [
            "Recursão\n",
            "Recursão\n",
            "Recursão\n",
            "Recursão\n",
            "Recursão\n"
          ],
          "name": "stdout"
        }
      ]
    },
    {
      "cell_type": "code",
      "metadata": {
        "id": "Rgs9ln20_cTk"
      },
      "source": [
        "def recursao(i):\n",
        "  print('Recursão')\n",
        "  i += 1\n",
        "  if i == 5:\n",
        "    return\n",
        "  else:\n",
        "    recursao(i)"
      ],
      "execution_count": null,
      "outputs": []
    },
    {
      "cell_type": "code",
      "metadata": {
        "id": "qNXqEuSg_hYJ",
        "colab": {
          "base_uri": "https://localhost:8080/",
          "height": 125
        },
        "outputId": "c69c72f8-cd1a-4138-b664-c5f9bb8bf476"
      },
      "source": [
        "recursao(0)"
      ],
      "execution_count": null,
      "outputs": [
        {
          "output_type": "stream",
          "text": [
            "Recursão\n",
            "Recursão\n",
            "Recursão\n",
            "Recursão\n",
            "Recursão\n"
          ],
          "name": "stdout"
        }
      ]
    },
    {
      "cell_type": "markdown",
      "metadata": {
        "id": "TUD8Y4wkPPZ_"
      },
      "source": [
        "## Somar valores"
      ]
    },
    {
      "cell_type": "code",
      "metadata": {
        "id": "3fnG2UZcI0m2"
      },
      "source": [
        "def soma1(n):\n",
        "  soma = 0\n",
        "  for i in range(n + 1):\n",
        "    soma += i\n",
        "  return soma"
      ],
      "execution_count": null,
      "outputs": []
    },
    {
      "cell_type": "code",
      "metadata": {
        "id": "5c8qin57JD2r",
        "colab": {
          "base_uri": "https://localhost:8080/",
          "height": 55
        },
        "outputId": "837fe56c-13bc-40ae-be43-57d5f9f957ff"
      },
      "source": [
        "soma1(5)"
      ],
      "execution_count": null,
      "outputs": [
        {
          "output_type": "execute_result",
          "data": {
            "text/plain": [
              "15"
            ]
          },
          "metadata": {
            "tags": []
          },
          "execution_count": 11
        }
      ]
    },
    {
      "cell_type": "code",
      "metadata": {
        "id": "DCxZidZXJH7O"
      },
      "source": [
        "def soma2(n):\n",
        "  if n == 0:\n",
        "    return 0\n",
        "\n",
        "  return n + soma2(n - 1)"
      ],
      "execution_count": null,
      "outputs": []
    },
    {
      "cell_type": "code",
      "metadata": {
        "id": "r7VtUCruJX6h",
        "colab": {
          "base_uri": "https://localhost:8080/",
          "height": 55
        },
        "outputId": "70ff7f6c-1cab-4df0-8a15-4e43d9a7972b"
      },
      "source": [
        "soma2(5)"
      ],
      "execution_count": null,
      "outputs": [
        {
          "output_type": "execute_result",
          "data": {
            "text/plain": [
              "15"
            ]
          },
          "metadata": {
            "tags": []
          },
          "execution_count": 13
        }
      ]
    },
    {
      "cell_type": "code",
      "metadata": {
        "id": "uUgeSIbSJcwh",
        "colab": {
          "base_uri": "https://localhost:8080/",
          "height": 55
        },
        "outputId": "b2d4bf13-d153-41f7-da3a-7d2a9615d3d1"
      },
      "source": [
        "%timeit soma1(100)"
      ],
      "execution_count": null,
      "outputs": [
        {
          "output_type": "stream",
          "text": [
            "100000 loops, best of 3: 4.28 µs per loop\n"
          ],
          "name": "stdout"
        }
      ]
    },
    {
      "cell_type": "code",
      "metadata": {
        "id": "agSmbyzjJmJ9",
        "colab": {
          "base_uri": "https://localhost:8080/",
          "height": 55
        },
        "outputId": "9d3c2715-8144-4fa3-b945-3cd2345b2c1e"
      },
      "source": [
        "%timeit soma2(100)"
      ],
      "execution_count": null,
      "outputs": [
        {
          "output_type": "stream",
          "text": [
            "100000 loops, best of 3: 13.2 µs per loop\n"
          ],
          "name": "stdout"
        }
      ]
    }
  ]
}