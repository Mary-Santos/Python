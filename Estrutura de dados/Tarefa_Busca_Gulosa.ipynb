{
  "nbformat": 4,
  "nbformat_minor": 0,
  "metadata": {
    "colab": {
      "name": "Tarefa Busca Gulosa.ipynb",
      "provenance": [],
      "collapsed_sections": []
    },
    "kernelspec": {
      "name": "python3",
      "display_name": "Python 3"
    }
  },
  "cells": [
    {
      "cell_type": "markdown",
      "metadata": {
        "id": "r2ZZwVzmSD9w"
      },
      "source": [
        "# Tarefa Busca gulosa"
      ]
    },
    {
      "cell_type": "markdown",
      "metadata": {
        "id": "PgOWgXWsNWEr"
      },
      "source": [
        "## Grafo"
      ]
    },
    {
      "cell_type": "code",
      "metadata": {
        "id": "37JdH3P_R-pL"
      },
      "source": [
        "class Vertice:\n",
        "\n",
        "  def __init__(self, rotulo, distancia_objetivo):\n",
        "    self.rotulo = rotulo\n",
        "    self.visitado = False\n",
        "    self.distancia_objetivo = distancia_objetivo\n",
        "    self.adjacentes = []\n",
        "\n",
        "  def adiciona_adjacente(self, adjacente):\n",
        "    self.adjacentes.append(adjacente)\n",
        "\n",
        "  def mostra_adjacentes(self):\n",
        "    for i in self.adjacentes:\n",
        "      print(i.vertice.rotulo, i.custo)"
      ],
      "execution_count": null,
      "outputs": []
    },
    {
      "cell_type": "code",
      "metadata": {
        "id": "Hj4-etBV6eYP"
      },
      "source": [
        "class Adjacente:\n",
        "  def __init__(self, vertice, custo):\n",
        "    self.vertice = vertice\n",
        "    self.custo = custo"
      ],
      "execution_count": null,
      "outputs": []
    },
    {
      "cell_type": "code",
      "metadata": {
        "id": "42axhC-b6r-L"
      },
      "source": [
        "class Grafo:\n",
        "  portoUniao = Vertice(\"Porto União\", 203)\n",
        "  pauloFrontin = Vertice(\"Paulo Frontin\", 172)\n",
        "  canoinhas = Vertice(\"Canoinhas\", 141)\n",
        "  irati = Vertice(\"Irati\", 139)\n",
        "  palmeira = Vertice(\"Palmeira\", 59)\n",
        "  campoLargo = Vertice(\"Campo Largo\", 27)\n",
        "  curitiba = Vertice(\"Curitiba\", 0)\n",
        "  balsaNova = Vertice(\"Balsa Nova\", 41)\n",
        "  araucaria = Vertice(\"Araucária\", 23)\n",
        "  saoJose = Vertice(\"São José dos Pinhais\", 13)\n",
        "  contenda = Vertice(\"Contenda\", 39)\n",
        "  mafra = Vertice(\"Mafra\", 94)\n",
        "  tijucas = Vertice(\"Tijucas do Sul\", 56)\n",
        "  lapa = Vertice(\"Lapa\", 74)\n",
        "  saoMateus = Vertice(\"São Mateus do Sul\", 123)\n",
        "  tresBarras = Vertice(\"Três Barras\", 131)\n",
        "\n",
        "\n",
        "  portoUniao.adiciona_adjacente(Adjacente(pauloFrontin, 46))  \n",
        "  portoUniao.adiciona_adjacente(Adjacente(canoinhas, 78))\n",
        "  portoUniao.adiciona_adjacente(Adjacente(saoMateus, 87))\n",
        "       \n",
        "  pauloFrontin.adiciona_adjacente(Adjacente(portoUniao, 46))\n",
        "  pauloFrontin.adiciona_adjacente(Adjacente(irati, 75))\n",
        "    \n",
        "  canoinhas.adiciona_adjacente(Adjacente(portoUniao, 78))\n",
        "  canoinhas.adiciona_adjacente(Adjacente(tresBarras, 12))\n",
        "  canoinhas.adiciona_adjacente(Adjacente(mafra, 66))\n",
        "    \n",
        "  irati.adiciona_adjacente(Adjacente(pauloFrontin, 75))\n",
        "  irati.adiciona_adjacente(Adjacente(palmeira, 75))\n",
        "  irati.adiciona_adjacente(Adjacente(saoMateus, 57))\n",
        "    \n",
        "  palmeira.adiciona_adjacente(Adjacente(irati, 75))\n",
        "  palmeira.adiciona_adjacente(Adjacente(saoMateus, 77))\n",
        "  palmeira.adiciona_adjacente(Adjacente(campoLargo, 55))\n",
        "    \n",
        "  campoLargo.adiciona_adjacente(Adjacente(palmeira, 55))\n",
        "  campoLargo.adiciona_adjacente(Adjacente(balsaNova, 22))\n",
        "  campoLargo.adiciona_adjacente(Adjacente(curitiba, 29))\n",
        "    \n",
        "  curitiba.adiciona_adjacente(Adjacente(campoLargo, 29))\n",
        "  curitiba.adiciona_adjacente(Adjacente(balsaNova, 51))\n",
        "  curitiba.adiciona_adjacente(Adjacente(araucaria, 37))\n",
        "  curitiba.adiciona_adjacente(Adjacente(saoJose, 15))\n",
        "    \n",
        "  balsaNova.adiciona_adjacente(Adjacente(curitiba, 51))\n",
        "  balsaNova.adiciona_adjacente(Adjacente(campoLargo, 22))\n",
        "  balsaNova.adiciona_adjacente(Adjacente(contenda, 19))\n",
        "    \n",
        "  araucaria.adiciona_adjacente(Adjacente(curitiba, 37))\n",
        "  araucaria.adiciona_adjacente(Adjacente(contenda, 18))\n",
        "    \n",
        "  saoJose.adiciona_adjacente(Adjacente(curitiba, 15))\n",
        "  saoJose.adiciona_adjacente(Adjacente(tijucas, 49))\n",
        "    \n",
        "  contenda.adiciona_adjacente(Adjacente(balsaNova, 19))\n",
        "  contenda.adiciona_adjacente(Adjacente(araucaria, 18))\n",
        "  contenda.adiciona_adjacente(Adjacente(lapa, 26))\n",
        "\n",
        "  mafra.adiciona_adjacente(Adjacente(tijucas, 99))\n",
        "  mafra.adiciona_adjacente(Adjacente(lapa, 57))\n",
        "  mafra.adiciona_adjacente(Adjacente(canoinhas, 66))\n",
        "    \n",
        "  tijucas.adiciona_adjacente(Adjacente(mafra, 99))\n",
        "  tijucas.adiciona_adjacente(Adjacente(saoJose, 49))\n",
        "\n",
        "  lapa.adiciona_adjacente(Adjacente(contenda, 26))\n",
        "  lapa.adiciona_adjacente(Adjacente(saoMateus, 60))\n",
        "  lapa.adiciona_adjacente(Adjacente(mafra, 57))\n",
        "    \n",
        "  saoMateus.adiciona_adjacente(Adjacente(palmeira, 77))\n",
        "  saoMateus.adiciona_adjacente(Adjacente(irati, 57))\n",
        "  saoMateus.adiciona_adjacente(Adjacente(lapa, 60))\n",
        "  saoMateus.adiciona_adjacente(Adjacente(tresBarras, 43))\n",
        "  saoMateus.adiciona_adjacente(Adjacente(portoUniao, 87))\n",
        "    \n",
        "  tresBarras.adiciona_adjacente(Adjacente(saoMateus, 43))\n",
        "  tresBarras.adiciona_adjacente(Adjacente(canoinhas, 12))"
      ],
      "execution_count": null,
      "outputs": []
    },
    {
      "cell_type": "code",
      "metadata": {
        "id": "qBYjaInI-N4c"
      },
      "source": [
        "grafo = Grafo()"
      ],
      "execution_count": null,
      "outputs": []
    },
    {
      "cell_type": "markdown",
      "metadata": {
        "id": "aIjre2EzLXB0"
      },
      "source": [
        "## Vetor ordenado"
      ]
    },
    {
      "cell_type": "code",
      "metadata": {
        "id": "bHnGlmCQLYoH"
      },
      "source": [
        "import numpy as np\n",
        "class VetorOrdenado:\n",
        "  \n",
        "  def __init__(self, capacidade):\n",
        "    self.capacidade = capacidade\n",
        "    self.ultima_posicao = -1\n",
        "    # Mudança no tipo de dados\n",
        "    self.valores = np.empty(self.capacidade, dtype=object)\n",
        "\n",
        "  # Referência para o vértice e comparação com a distância para o objetivo\n",
        "  def insere(self, vertice):\n",
        "    if self.ultima_posicao == self.capacidade - 1:\n",
        "      print('Capacidade máxima atingida')\n",
        "      return\n",
        "    posicao = 0\n",
        "    for i in range(self.ultima_posicao + 1):\n",
        "      posicao = i\n",
        "      if self.valores[i].distancia_objetivo > vertice.distancia_objetivo:\n",
        "        break\n",
        "      if i == self.ultima_posicao:\n",
        "        posicao = i + 1\n",
        "    x = self.ultima_posicao\n",
        "    while x >= posicao:\n",
        "      self.valores[x + 1] = self.valores[x]\n",
        "      x -= 1\n",
        "    self.valores[posicao] = vertice\n",
        "    self.ultima_posicao += 1\n",
        "\n",
        "  def imprime(self):\n",
        "    if self.ultima_posicao == -1:\n",
        "      print('O vetor está vazio')\n",
        "    else:\n",
        "      for i in range(self.ultima_posicao + 1):\n",
        "        print(i, ' - ', self.valores[i].rotulo, ' - ', self.valores[i].distancia_objetivo)  "
      ],
      "execution_count": null,
      "outputs": []
    },
    {
      "cell_type": "code",
      "metadata": {
        "id": "62HkTyWlhU42"
      },
      "source": [
        "vetor = VetorOrdenado(5)\n",
        "vetor.insere(grafo.palmeira)\n",
        "vetor.insere(grafo.lapa)\n",
        "vetor.insere(grafo.campoLargo)\n",
        "vetor.insere(grafo.curitiba)"
      ],
      "execution_count": null,
      "outputs": []
    },
    {
      "cell_type": "code",
      "metadata": {
        "id": "NmIa--Shhi6D",
        "colab": {
          "base_uri": "https://localhost:8080/",
          "height": 108
        },
        "outputId": "837cc32b-2841-44ab-c933-227aec26a485"
      },
      "source": [
        "vetor.imprime()"
      ],
      "execution_count": null,
      "outputs": [
        {
          "output_type": "stream",
          "text": [
            "0  -  Curitiba  -  0\n",
            "1  -  Campo Largo  -  27\n",
            "2  -  Palmeira  -  59\n",
            "3  -  Lapa  -  74\n"
          ],
          "name": "stdout"
        }
      ]
    },
    {
      "cell_type": "code",
      "metadata": {
        "id": "0Ffi3HY6hokf",
        "colab": {
          "base_uri": "https://localhost:8080/",
          "height": 125
        },
        "outputId": "edb1a938-7b8a-47cf-de90-f487e26c2487"
      },
      "source": [
        "vetor.insere(grafo.contenda)\n",
        "vetor.imprime()"
      ],
      "execution_count": null,
      "outputs": [
        {
          "output_type": "stream",
          "text": [
            "0  -  Curitiba  -  0\n",
            "1  -  Campo Largo  -  27\n",
            "2  -  Contenda  -  39\n",
            "3  -  Palmeira  -  59\n",
            "4  -  Lapa  -  74\n"
          ],
          "name": "stdout"
        }
      ]
    },
    {
      "cell_type": "code",
      "metadata": {
        "id": "qfqtB9CNh0gB",
        "colab": {
          "base_uri": "https://localhost:8080/",
          "height": 55
        },
        "outputId": "272d7ddc-4c75-4cbe-f9c2-87a97aa85405"
      },
      "source": [
        "vetor.valores[0], vetor.valores[0].rotulo"
      ],
      "execution_count": null,
      "outputs": [
        {
          "output_type": "execute_result",
          "data": {
            "text/plain": [
              "(<__main__.Vertice at 0x7f716c7795c0>, 'Curitiba')"
            ]
          },
          "metadata": {
            "tags": []
          },
          "execution_count": 9
        }
      ]
    },
    {
      "cell_type": "markdown",
      "metadata": {
        "id": "Lmvbw_KeNYvX"
      },
      "source": [
        "## Busca gulosa"
      ]
    },
    {
      "cell_type": "code",
      "metadata": {
        "id": "dZPo4FQOh_ab"
      },
      "source": [
        "class Gulosa:\n",
        "  def __init__(self, objetivo):\n",
        "    self.objetivo = objetivo\n",
        "    self.encontrado = False\n",
        "\n",
        "  def buscar(self, atual):\n",
        "    print('-------')\n",
        "    print('Atual: {}'.format(atual.rotulo))\n",
        "    atual.visitado = True\n",
        "\n",
        "    if atual == self.objetivo:\n",
        "      self.encontrado = True\n",
        "    else:\n",
        "      vetor_ordenado = VetorOrdenado(len(atual.adjacentes))\n",
        "      for adjacente in atual.adjacentes:\n",
        "        if adjacente.vertice.visitado == False:\n",
        "          adjacente.vertice.visitado == True\n",
        "          vetor_ordenado.insere(adjacente.vertice)\n",
        "      vetor_ordenado.imprime()\n",
        "\n",
        "      if vetor_ordenado.valores[0] != None:\n",
        "        self.buscar(vetor_ordenado.valores[0])  "
      ],
      "execution_count": null,
      "outputs": []
    },
    {
      "cell_type": "code",
      "metadata": {
        "id": "2q06aV39jXKy",
        "colab": {
          "base_uri": "https://localhost:8080/",
          "height": 407
        },
        "outputId": "99915bfb-5fd9-43f7-e541-f71c902052e2"
      },
      "source": [
        "busca_gulosa = Gulosa(grafo.curitiba)\n",
        "busca_gulosa.buscar(grafo.portoUniao)"
      ],
      "execution_count": null,
      "outputs": [
        {
          "output_type": "stream",
          "text": [
            "-------\n",
            "Atual: Porto União\n",
            "0  -  São Mateus do Sul  -  123\n",
            "1  -  Canoinhas  -  141\n",
            "2  -  Paulo Frontin  -  172\n",
            "-------\n",
            "Atual: São Mateus do Sul\n",
            "0  -  Palmeira  -  59\n",
            "1  -  Lapa  -  74\n",
            "2  -  Três Barras  -  131\n",
            "3  -  Irati  -  139\n",
            "-------\n",
            "Atual: Palmeira\n",
            "0  -  Campo Largo  -  27\n",
            "1  -  Irati  -  139\n",
            "-------\n",
            "Atual: Campo Largo\n",
            "0  -  Curitiba  -  0\n",
            "1  -  Balsa Nova  -  41\n",
            "-------\n",
            "Atual: Curitiba\n"
          ],
          "name": "stdout"
        }
      ]
    }
  ]
}