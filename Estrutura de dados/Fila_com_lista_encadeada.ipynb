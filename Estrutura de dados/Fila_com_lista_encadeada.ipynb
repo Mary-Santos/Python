{
  "nbformat": 4,
  "nbformat_minor": 0,
  "metadata": {
    "colab": {
      "name": "Fila com lista encadeada.ipynb",
      "provenance": [],
      "collapsed_sections": []
    },
    "kernelspec": {
      "name": "python3",
      "display_name": "Python 3"
    }
  },
  "cells": [
    {
      "cell_type": "markdown",
      "metadata": {
        "id": "-FVr0W4SMhwg"
      },
      "source": [
        "# Fila com lista encadeada"
      ]
    },
    {
      "cell_type": "code",
      "metadata": {
        "id": "DoZHUPLmFG2G"
      },
      "source": [
        "class No:\n",
        "  def __init__(self, valor):\n",
        "    self.valor = valor\n",
        "    self.proximo = None\n",
        "  \n",
        "  def mostra_no(self):\n",
        "    print(self.valor)"
      ],
      "execution_count": null,
      "outputs": []
    },
    {
      "cell_type": "code",
      "metadata": {
        "id": "xbBH0udDFz6n"
      },
      "source": [
        "class ListaEncadeadaExtremidadeDupla:\n",
        "\n",
        "  def __init__(self):\n",
        "    self.primeiro = None\n",
        "    self.ultimo = None\n",
        "  \n",
        "  def __lista_vazia(self):\n",
        "    return self.primeiro == None\n",
        "\n",
        "  def insere_final(self, valor):\n",
        "    novo = No(valor)\n",
        "    if self.__lista_vazia():\n",
        "      self.primeiro = novo\n",
        "    else:\n",
        "      self.ultimo.proximo = novo\n",
        "    self.ultimo = novo\n",
        "  \n",
        "  def excluir_inicio(self):\n",
        "    if self.__lista_vazia():\n",
        "      print('A lista está vazia')\n",
        "      return\n",
        "    temp = self.primeiro\n",
        "    if self.primeiro.proximo == None:\n",
        "      self.ultimo = None\n",
        "    self.primeiro = self.primeiro.proximo\n",
        "    return temp"
      ],
      "execution_count": null,
      "outputs": []
    },
    {
      "cell_type": "code",
      "metadata": {
        "id": "w1xGeLcm9frn"
      },
      "source": [
        "class FilaListaEncadeada:\n",
        "  def __init__(self):\n",
        "    self.lista = ListaEncadeadaExtremidadeDupla()\n",
        "\n",
        "  def fila_vazia(self):\n",
        "    return self.lista.lista_vazia()\n",
        "  \n",
        "  def enfileirar(self, valor):\n",
        "    self.lista.insere_final(valor)\n",
        "\n",
        "  def desenfileirar(self):\n",
        "    return self.lista.excluir_inicio()\n",
        "\n",
        "  def ver_inicio(self):\n",
        "    if self.lista.primeiro == None:\n",
        "      return -1\n",
        "    return self.lista.primeiro.valor"
      ],
      "execution_count": null,
      "outputs": []
    },
    {
      "cell_type": "code",
      "metadata": {
        "id": "ytRBey4aCKKf"
      },
      "source": [
        "fila = FilaListaEncadeada()"
      ],
      "execution_count": null,
      "outputs": []
    },
    {
      "cell_type": "code",
      "metadata": {
        "id": "PxyEGj3LCR1O"
      },
      "source": [
        "# 40 20\n",
        "fila.enfileirar(20)\n",
        "fila.enfileirar(40)"
      ],
      "execution_count": null,
      "outputs": []
    },
    {
      "cell_type": "code",
      "metadata": {
        "id": "SEnV1LkhCZ_k",
        "colab": {
          "base_uri": "https://localhost:8080/",
          "height": 55
        },
        "outputId": "2f3a726c-54a4-473d-b1e0-978fda17114e"
      },
      "source": [
        "fila.ver_inicio()"
      ],
      "execution_count": null,
      "outputs": [
        {
          "output_type": "execute_result",
          "data": {
            "text/plain": [
              "20"
            ]
          },
          "metadata": {
            "tags": []
          },
          "execution_count": 6
        }
      ]
    },
    {
      "cell_type": "code",
      "metadata": {
        "id": "UWRAT2DSCd3B"
      },
      "source": [
        "# 80 60 40 20\n",
        "fila.enfileirar(60)\n",
        "fila.enfileirar(80)"
      ],
      "execution_count": null,
      "outputs": []
    },
    {
      "cell_type": "code",
      "metadata": {
        "id": "PdI54yQtCjdx",
        "colab": {
          "base_uri": "https://localhost:8080/",
          "height": 55
        },
        "outputId": "ffc128ee-f402-49ef-e6ba-1fce7e4f9775"
      },
      "source": [
        "fila.ver_inicio()"
      ],
      "execution_count": null,
      "outputs": [
        {
          "output_type": "execute_result",
          "data": {
            "text/plain": [
              "20"
            ]
          },
          "metadata": {
            "tags": []
          },
          "execution_count": 8
        }
      ]
    },
    {
      "cell_type": "code",
      "metadata": {
        "id": "AHFzVfScCmP7",
        "colab": {
          "base_uri": "https://localhost:8080/",
          "height": 55
        },
        "outputId": "9e947854-8538-4ce4-baad-587dd994260a"
      },
      "source": [
        "# 80 60 40\n",
        "fila.desenfileirar()\n",
        "fila.ver_inicio()"
      ],
      "execution_count": null,
      "outputs": [
        {
          "output_type": "execute_result",
          "data": {
            "text/plain": [
              "40"
            ]
          },
          "metadata": {
            "tags": []
          },
          "execution_count": 9
        }
      ]
    },
    {
      "cell_type": "code",
      "metadata": {
        "id": "SfgIGz3jCslY",
        "colab": {
          "base_uri": "https://localhost:8080/",
          "height": 55
        },
        "outputId": "084f40d4-cb14-46e5-9065-e964ec565376"
      },
      "source": [
        "fila.desenfileirar()\n",
        "fila.desenfileirar()\n",
        "fila.desenfileirar()\n",
        "fila.ver_inicio()"
      ],
      "execution_count": null,
      "outputs": [
        {
          "output_type": "execute_result",
          "data": {
            "text/plain": [
              "-1"
            ]
          },
          "metadata": {
            "tags": []
          },
          "execution_count": 10
        }
      ]
    }
  ]
}