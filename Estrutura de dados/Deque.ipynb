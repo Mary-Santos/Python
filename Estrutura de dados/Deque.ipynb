{
  "nbformat": 4,
  "nbformat_minor": 0,
  "metadata": {
    "colab": {
      "name": "Deque.ipynb",
      "provenance": [],
      "collapsed_sections": []
    },
    "kernelspec": {
      "name": "python3",
      "display_name": "Python 3"
    }
  },
  "cells": [
    {
      "cell_type": "markdown",
      "metadata": {
        "id": "3L3hMZxPloS9"
      },
      "source": [
        "# Deque"
      ]
    },
    {
      "cell_type": "code",
      "metadata": {
        "id": "2IUgpxk2pQW1"
      },
      "source": [
        "import numpy as np"
      ],
      "execution_count": null,
      "outputs": []
    },
    {
      "cell_type": "code",
      "metadata": {
        "id": "P7m0dnXelSKq"
      },
      "source": [
        "class Deque:\n",
        "  \n",
        "  def __init__(self, capacidade):\n",
        "    self.capacidade = capacidade\n",
        "    self.inicio = -1\n",
        "    self.final = 0\n",
        "    self.numero_elementos = 0\n",
        "    self.valores = np.empty(self.capacidade, dtype=int)\n",
        "\n",
        "  def __deque_cheio(self):\n",
        "    return (self.inicio == 0 and self.final == self.capacidade - 1) or (self.inicio == self.final + 1)\n",
        "\n",
        "  def __deque_vazio(self):\n",
        "    return self.inicio == -1\n",
        "\n",
        "  def insere_inicio(self, valor):\n",
        "    if self.__deque_cheio():\n",
        "      print('O deque está cheio')\n",
        "      return\n",
        "\n",
        "    # Se estiver vazio\n",
        "    if self.inicio == -1:\n",
        "      self.inicio = 0\n",
        "      self.final = 0\n",
        "    # Início estiver na primeira posição\n",
        "    elif self.inicio == 0:\n",
        "      self.inicio = self.capacidade - 1\n",
        "    else:\n",
        "      self.inicio -= 1\n",
        "    \n",
        "    self.valores[self.inicio] = valor\n",
        "\n",
        "  def insere_final(self, valor):\n",
        "    if self.__deque_cheio():\n",
        "      print('O deque está cheio')\n",
        "      return\n",
        "\n",
        "    # Se estiver vazio\n",
        "    if self.inicio == -1:\n",
        "      self.inicio = 0\n",
        "      self.final = 0\n",
        "    # Final estiver na última posição\n",
        "    elif self.final == self.capacidade - 1:\n",
        "      self.final = 0\n",
        "    else:\n",
        "      self.final += 1\n",
        "\n",
        "    self.valores[self.final] = valor\n",
        "\n",
        "  def excluir_inicio(self):\n",
        "    if self.__deque_vazio():\n",
        "      print('O deque já está vazio')\n",
        "      return\n",
        "\n",
        "    # Possui somente um elemento\n",
        "    if self.inicio == self.final:\n",
        "      self.inicio = -1\n",
        "      self.final = -1\n",
        "    else:\n",
        "      # Volta para a posição inicial\n",
        "      if self.inicio == self.capacidade - 1:\n",
        "        self.inicio = 0\n",
        "      else:\n",
        "        # Incrementar início para remover o início atual\n",
        "        self.inicio += 1\n",
        "\n",
        "  def excluir_final(self):\n",
        "    if self.__deque_vazio():\n",
        "      print('O deque já está vazio')\n",
        "      return\n",
        "    \n",
        "    if self.inicio == self.final:\n",
        "      self.inicio = -1\n",
        "      self.final = -1\n",
        "    elif self.inicio == 0:\n",
        "      self.final = self.capacidade - 1\n",
        "    else:\n",
        "      self.final -= 1\n",
        "\n",
        "  def get_inicio(self):\n",
        "    if self.__deque_vazio():\n",
        "      print('O deque já está vazio')\n",
        "      return\n",
        "    \n",
        "    return self.valores[self.inicio]\n",
        "\n",
        "  def get_final(self):\n",
        "    if self.__deque_vazio() or self.final < 0:\n",
        "      print('O deque já está vazio')\n",
        "      return\n",
        "    \n",
        "    return self.valores[self.final]"
      ],
      "execution_count": null,
      "outputs": []
    },
    {
      "cell_type": "code",
      "metadata": {
        "id": "RdRgD72-fZIS"
      },
      "source": [
        "deque = Deque(5)"
      ],
      "execution_count": null,
      "outputs": []
    },
    {
      "cell_type": "code",
      "metadata": {
        "id": "-RTa51_BffSX"
      },
      "source": [
        "deque.insere_final(5)"
      ],
      "execution_count": null,
      "outputs": []
    },
    {
      "cell_type": "code",
      "metadata": {
        "id": "CmkR-bCnfina",
        "colab": {
          "base_uri": "https://localhost:8080/",
          "height": 55
        },
        "outputId": "72a4bdf7-879f-47bf-ce8e-bc9f9e705ce5"
      },
      "source": [
        "deque.get_inicio(), deque.get_final()"
      ],
      "execution_count": null,
      "outputs": [
        {
          "output_type": "execute_result",
          "data": {
            "text/plain": [
              "(5, 5)"
            ]
          },
          "metadata": {
            "tags": []
          },
          "execution_count": 10
        }
      ]
    },
    {
      "cell_type": "code",
      "metadata": {
        "id": "1OddEhFBf0Ik"
      },
      "source": [
        "# 5 10\n",
        "deque.insere_final(10)"
      ],
      "execution_count": null,
      "outputs": []
    },
    {
      "cell_type": "code",
      "metadata": {
        "id": "LyHpJWNvf6RC",
        "colab": {
          "base_uri": "https://localhost:8080/",
          "height": 55
        },
        "outputId": "15075f78-7f74-4c46-a041-7c10bdd0f6c8"
      },
      "source": [
        "deque.get_inicio(), deque.get_final()"
      ],
      "execution_count": null,
      "outputs": [
        {
          "output_type": "execute_result",
          "data": {
            "text/plain": [
              "(5, 10)"
            ]
          },
          "metadata": {
            "tags": []
          },
          "execution_count": 12
        }
      ]
    },
    {
      "cell_type": "code",
      "metadata": {
        "id": "fDPKNKntf8vm"
      },
      "source": [
        "# 3 5 10\n",
        "deque.insere_inicio(3)"
      ],
      "execution_count": null,
      "outputs": []
    },
    {
      "cell_type": "code",
      "metadata": {
        "id": "H1o4MV4OgBkN",
        "colab": {
          "base_uri": "https://localhost:8080/",
          "height": 55
        },
        "outputId": "730689af-5ee7-4d2c-d392-31c6bbc4f1e6"
      },
      "source": [
        "deque.get_inicio(), deque.get_final()"
      ],
      "execution_count": null,
      "outputs": [
        {
          "output_type": "execute_result",
          "data": {
            "text/plain": [
              "(3, 10)"
            ]
          },
          "metadata": {
            "tags": []
          },
          "execution_count": 14
        }
      ]
    },
    {
      "cell_type": "code",
      "metadata": {
        "id": "X8Q9fSg3gE6F"
      },
      "source": [
        "# 2 3 5 10 11\n",
        "deque.insere_inicio(2)\n",
        "deque.insere_final(11)"
      ],
      "execution_count": null,
      "outputs": []
    },
    {
      "cell_type": "code",
      "metadata": {
        "id": "SxjSCUhRgM5w",
        "colab": {
          "base_uri": "https://localhost:8080/",
          "height": 55
        },
        "outputId": "4fcb8bb5-4af3-4a43-d4ff-57fc3fdc1e6d"
      },
      "source": [
        "deque.get_inicio(), deque.get_final()"
      ],
      "execution_count": null,
      "outputs": [
        {
          "output_type": "execute_result",
          "data": {
            "text/plain": [
              "(2, 11)"
            ]
          },
          "metadata": {
            "tags": []
          },
          "execution_count": 16
        }
      ]
    },
    {
      "cell_type": "code",
      "metadata": {
        "id": "M-E6cTMFgQyF"
      },
      "source": [
        "# 3 5 10\n",
        "deque.excluir_inicio()\n",
        "deque.excluir_final()"
      ],
      "execution_count": null,
      "outputs": []
    },
    {
      "cell_type": "code",
      "metadata": {
        "id": "cXtI4ZAigXAA",
        "colab": {
          "base_uri": "https://localhost:8080/",
          "height": 55
        },
        "outputId": "4eba8e43-510e-4f69-88ad-e11cf1eed51c"
      },
      "source": [
        "deque.get_inicio(), deque.get_final()"
      ],
      "execution_count": null,
      "outputs": [
        {
          "output_type": "execute_result",
          "data": {
            "text/plain": [
              "(3, 10)"
            ]
          },
          "metadata": {
            "tags": []
          },
          "execution_count": 18
        }
      ]
    },
    {
      "cell_type": "code",
      "metadata": {
        "id": "GUrMMqi2gaDN",
        "colab": {
          "base_uri": "https://localhost:8080/",
          "height": 55
        },
        "outputId": "393a6fdd-a73c-4748-cdb9-d72376d3f1ee"
      },
      "source": [
        "deque.valores"
      ],
      "execution_count": null,
      "outputs": [
        {
          "output_type": "execute_result",
          "data": {
            "text/plain": [
              "array([ 5, 10, 11,  2,  3])"
            ]
          },
          "metadata": {
            "tags": []
          },
          "execution_count": 19
        }
      ]
    },
    {
      "cell_type": "code",
      "metadata": {
        "id": "S4PFLGxjgeZU",
        "colab": {
          "base_uri": "https://localhost:8080/",
          "height": 55
        },
        "outputId": "7b03b717-0274-47bf-9349-862f563dd32f"
      },
      "source": [
        "deque.inicio"
      ],
      "execution_count": null,
      "outputs": [
        {
          "output_type": "execute_result",
          "data": {
            "text/plain": [
              "4"
            ]
          },
          "metadata": {
            "tags": []
          },
          "execution_count": 20
        }
      ]
    },
    {
      "cell_type": "code",
      "metadata": {
        "id": "V5FsTrkKgkNR",
        "colab": {
          "base_uri": "https://localhost:8080/",
          "height": 55
        },
        "outputId": "46105eea-95f0-4036-80eb-38589f1473b7"
      },
      "source": [
        "deque.final"
      ],
      "execution_count": null,
      "outputs": [
        {
          "output_type": "execute_result",
          "data": {
            "text/plain": [
              "1"
            ]
          },
          "metadata": {
            "tags": []
          },
          "execution_count": 22
        }
      ]
    },
    {
      "cell_type": "code",
      "metadata": {
        "id": "r8uXcpDq9rAk"
      },
      "source": [
        "a = np.array([[1,2],[3,4]])\n",
        "b = np.array([[4,5], [8,9]])"
      ],
      "execution_count": null,
      "outputs": []
    },
    {
      "cell_type": "code",
      "metadata": {
        "id": "FJPbqBBU96qu",
        "colab": {
          "base_uri": "https://localhost:8080/",
          "height": 72
        },
        "outputId": "59809eee-dcfb-43f3-eae1-d172797da532"
      },
      "source": [
        "a.dot(b)"
      ],
      "execution_count": null,
      "outputs": [
        {
          "output_type": "execute_result",
          "data": {
            "text/plain": [
              "array([[20, 23],\n",
              "       [44, 51]])"
            ]
          },
          "metadata": {
            "tags": []
          },
          "execution_count": 24
        }
      ]
    },
    {
      "cell_type": "code",
      "metadata": {
        "id": "wtyaYYvP-Gd5",
        "colab": {
          "base_uri": "https://localhost:8080/",
          "height": 72
        },
        "outputId": "fa5eae76-fca0-4b61-fc4f-65814361ca68"
      },
      "source": [
        "b.dot(a)"
      ],
      "execution_count": null,
      "outputs": [
        {
          "output_type": "execute_result",
          "data": {
            "text/plain": [
              "array([[19, 28],\n",
              "       [35, 52]])"
            ]
          },
          "metadata": {
            "tags": []
          },
          "execution_count": 25
        }
      ]
    }
  ]
}