{
  "nbformat": 4,
  "nbformat_minor": 0,
  "metadata": {
    "colab": {
      "name": "Tarefa Busca A Estrela.ipynb",
      "provenance": []
    },
    "kernelspec": {
      "name": "python3",
      "display_name": "Python 3"
    }
  },
  "cells": [
    {
      "cell_type": "markdown",
      "metadata": {
        "id": "r2ZZwVzmSD9w"
      },
      "source": [
        "# Tarefa Busca A Estrela (A*)"
      ]
    },
    {
      "cell_type": "markdown",
      "metadata": {
        "id": "PgOWgXWsNWEr"
      },
      "source": [
        "## Grafo"
      ]
    },
    {
      "cell_type": "code",
      "metadata": {
        "id": "37JdH3P_R-pL"
      },
      "source": [
        "class Vertice:\n",
        "\n",
        "  def __init__(self, rotulo, distancia_objetivo):\n",
        "    self.rotulo = rotulo\n",
        "    self.visitado = False\n",
        "    self.distancia_objetivo = distancia_objetivo\n",
        "    self.adjacentes = []\n",
        "\n",
        "  def adiciona_adjacente(self, adjacente):\n",
        "    self.adjacentes.append(adjacente)\n",
        "\n",
        "  def mostra_adjacentes(self):\n",
        "    for i in self.adjacentes:\n",
        "      print(i.vertice.rotulo, i.custo)"
      ],
      "execution_count": null,
      "outputs": []
    },
    {
      "cell_type": "code",
      "metadata": {
        "id": "Hj4-etBV6eYP"
      },
      "source": [
        "class Adjacente:\n",
        "  def __init__(self, vertice, custo):\n",
        "    self.vertice = vertice\n",
        "    self.custo = custo\n",
        "    self.distancia_aestrela = vertice.distancia_objetivo + self.custo"
      ],
      "execution_count": null,
      "outputs": []
    },
    {
      "cell_type": "code",
      "metadata": {
        "id": "42axhC-b6r-L"
      },
      "source": [
        "class Grafo:\n",
        "  portoUniao = Vertice(\"Porto União\", 203)\n",
        "  pauloFrontin = Vertice(\"Paulo Frontin\", 172)\n",
        "  canoinhas = Vertice(\"Canoinhas\", 141)\n",
        "  irati = Vertice(\"Irati\", 139)\n",
        "  palmeira = Vertice(\"Palmeira\", 59)\n",
        "  campoLargo = Vertice(\"Campo Largo\", 27)\n",
        "  curitiba = Vertice(\"Curitiba\", 0)\n",
        "  balsaNova = Vertice(\"Balsa Nova\", 41)\n",
        "  araucaria = Vertice(\"Araucária\", 23)\n",
        "  saoJose = Vertice(\"São José dos Pinhais\", 13)\n",
        "  contenda = Vertice(\"Contenda\", 39)\n",
        "  mafra = Vertice(\"Mafra\", 94)\n",
        "  tijucas = Vertice(\"Tijucas do Sul\", 56)\n",
        "  lapa = Vertice(\"Lapa\", 74)\n",
        "  saoMateus = Vertice(\"São Mateus do Sul\", 123)\n",
        "  tresBarras = Vertice(\"Três Barras\", 131)\n",
        "\n",
        "\n",
        "  portoUniao.adiciona_adjacente(Adjacente(pauloFrontin, 46))  \n",
        "  portoUniao.adiciona_adjacente(Adjacente(canoinhas, 78))\n",
        "  portoUniao.adiciona_adjacente(Adjacente(saoMateus, 87))\n",
        "       \n",
        "  pauloFrontin.adiciona_adjacente(Adjacente(portoUniao, 46))\n",
        "  pauloFrontin.adiciona_adjacente(Adjacente(irati, 75))\n",
        "    \n",
        "  canoinhas.adiciona_adjacente(Adjacente(portoUniao, 78))\n",
        "  canoinhas.adiciona_adjacente(Adjacente(tresBarras, 12))\n",
        "  canoinhas.adiciona_adjacente(Adjacente(mafra, 66))\n",
        "    \n",
        "  irati.adiciona_adjacente(Adjacente(pauloFrontin, 75))\n",
        "  irati.adiciona_adjacente(Adjacente(palmeira, 75))\n",
        "  irati.adiciona_adjacente(Adjacente(saoMateus, 57))\n",
        "    \n",
        "  palmeira.adiciona_adjacente(Adjacente(irati, 75))\n",
        "  palmeira.adiciona_adjacente(Adjacente(saoMateus, 77))\n",
        "  palmeira.adiciona_adjacente(Adjacente(campoLargo, 55))\n",
        "    \n",
        "  campoLargo.adiciona_adjacente(Adjacente(palmeira, 55))\n",
        "  campoLargo.adiciona_adjacente(Adjacente(balsaNova, 22))\n",
        "  campoLargo.adiciona_adjacente(Adjacente(curitiba, 29))\n",
        "    \n",
        "  curitiba.adiciona_adjacente(Adjacente(campoLargo, 29))\n",
        "  curitiba.adiciona_adjacente(Adjacente(balsaNova, 51))\n",
        "  curitiba.adiciona_adjacente(Adjacente(araucaria, 37))\n",
        "  curitiba.adiciona_adjacente(Adjacente(saoJose, 15))\n",
        "    \n",
        "  balsaNova.adiciona_adjacente(Adjacente(curitiba, 51))\n",
        "  balsaNova.adiciona_adjacente(Adjacente(campoLargo, 22))\n",
        "  balsaNova.adiciona_adjacente(Adjacente(contenda, 19))\n",
        "    \n",
        "  araucaria.adiciona_adjacente(Adjacente(curitiba, 37))\n",
        "  araucaria.adiciona_adjacente(Adjacente(contenda, 18))\n",
        "    \n",
        "  saoJose.adiciona_adjacente(Adjacente(curitiba, 15))\n",
        "  saoJose.adiciona_adjacente(Adjacente(tijucas, 49))\n",
        "    \n",
        "  contenda.adiciona_adjacente(Adjacente(balsaNova, 19))\n",
        "  contenda.adiciona_adjacente(Adjacente(araucaria, 18))\n",
        "  contenda.adiciona_adjacente(Adjacente(lapa, 26))\n",
        "\n",
        "  mafra.adiciona_adjacente(Adjacente(tijucas, 99))\n",
        "  mafra.adiciona_adjacente(Adjacente(lapa, 57))\n",
        "  mafra.adiciona_adjacente(Adjacente(canoinhas, 66))\n",
        "    \n",
        "  tijucas.adiciona_adjacente(Adjacente(mafra, 99))\n",
        "  tijucas.adiciona_adjacente(Adjacente(saoJose, 49))\n",
        "\n",
        "  lapa.adiciona_adjacente(Adjacente(contenda, 26))\n",
        "  lapa.adiciona_adjacente(Adjacente(saoMateus, 60))\n",
        "  lapa.adiciona_adjacente(Adjacente(mafra, 57))\n",
        "    \n",
        "  saoMateus.adiciona_adjacente(Adjacente(palmeira, 77))\n",
        "  saoMateus.adiciona_adjacente(Adjacente(irati, 57))\n",
        "  saoMateus.adiciona_adjacente(Adjacente(lapa, 60))\n",
        "  saoMateus.adiciona_adjacente(Adjacente(tresBarras, 43))\n",
        "  saoMateus.adiciona_adjacente(Adjacente(portoUniao, 87))\n",
        "    \n",
        "  tresBarras.adiciona_adjacente(Adjacente(saoMateus, 43))\n",
        "  tresBarras.adiciona_adjacente(Adjacente(canoinhas, 12))"
      ],
      "execution_count": null,
      "outputs": []
    },
    {
      "cell_type": "code",
      "metadata": {
        "id": "qBYjaInI-N4c"
      },
      "source": [
        "grafo = Grafo()"
      ],
      "execution_count": null,
      "outputs": []
    },
    {
      "cell_type": "markdown",
      "metadata": {
        "id": "aIjre2EzLXB0"
      },
      "source": [
        "## Vetor ordenado (adjacente)"
      ]
    },
    {
      "cell_type": "code",
      "metadata": {
        "id": "bHnGlmCQLYoH"
      },
      "source": [
        "import numpy as np\n",
        "class VetorOrdenado:\n",
        "  \n",
        "  def __init__(self, capacidade):\n",
        "    self.capacidade = capacidade\n",
        "    self.ultima_posicao = -1\n",
        "    # Mudança no tipo de dados\n",
        "    self.valores = np.empty(self.capacidade, dtype=object)\n",
        "\n",
        "  # Referência para o vértice e comparação com a distância A*\n",
        "  def insere(self, adjacente):\n",
        "    if self.ultima_posicao == self.capacidade - 1:\n",
        "      print('Capacidade máxima atingida')\n",
        "      return\n",
        "    posicao = 0\n",
        "    for i in range(self.ultima_posicao + 1):\n",
        "      posicao = i\n",
        "      if self.valores[i].distancia_aestrela > adjacente.distancia_aestrela:\n",
        "        break\n",
        "      if i == self.ultima_posicao:\n",
        "        posicao = i + 1\n",
        "    x = self.ultima_posicao\n",
        "    while x >= posicao:\n",
        "      self.valores[x + 1] = self.valores[x]\n",
        "      x -= 1\n",
        "    self.valores[posicao] = adjacente\n",
        "    self.ultima_posicao += 1\n",
        "\n",
        "  def imprime(self):\n",
        "    if self.ultima_posicao == -1:\n",
        "      print('O vetor está vazio')\n",
        "    else:\n",
        "      for i in range(self.ultima_posicao + 1):\n",
        "        print(i, ' - ', self.valores[i].vertice.rotulo, ' - ', \n",
        "              self.valores[i].custo, ' - ', \n",
        "              self.valores[i].vertice.distancia_objetivo, ' - ',\n",
        "              self.valores[i].distancia_aestrela)  "
      ],
      "execution_count": null,
      "outputs": []
    },
    {
      "cell_type": "code",
      "metadata": {
        "id": "m_K9kw3_rKcg",
        "colab": {
          "base_uri": "https://localhost:8080/",
          "height": 90
        },
        "outputId": "34461b68-fb5a-492b-b6ba-708dad0e3cc3"
      },
      "source": [
        "grafo.portoUniao.adjacentes"
      ],
      "execution_count": null,
      "outputs": [
        {
          "output_type": "execute_result",
          "data": {
            "text/plain": [
              "[<__main__.Adjacente at 0x7fe56026c7b8>,\n",
              " <__main__.Adjacente at 0x7fe56026c7f0>,\n",
              " <__main__.Adjacente at 0x7fe56026c828>]"
            ]
          },
          "metadata": {
            "tags": []
          },
          "execution_count": 6
        }
      ]
    },
    {
      "cell_type": "code",
      "metadata": {
        "id": "FzDISnNjrRUg",
        "colab": {
          "base_uri": "https://localhost:8080/",
          "height": 55
        },
        "outputId": "024f6f71-fa1b-4597-b2dc-8b4661dbf4c4"
      },
      "source": [
        "grafo.portoUniao.adjacentes[0].vertice.rotulo, grafo.portoUniao.adjacentes[0].vertice.distancia_objetivo"
      ],
      "execution_count": null,
      "outputs": [
        {
          "output_type": "execute_result",
          "data": {
            "text/plain": [
              "('Paulo Frontin', 172)"
            ]
          },
          "metadata": {
            "tags": []
          },
          "execution_count": 7
        }
      ]
    },
    {
      "cell_type": "code",
      "metadata": {
        "id": "TDc0Ve_yreva",
        "colab": {
          "base_uri": "https://localhost:8080/",
          "height": 55
        },
        "outputId": "a9f59ff0-0081-4330-a641-cb13efadaf6b"
      },
      "source": [
        "grafo.portoUniao.adjacentes[0].distancia_aestrela, grafo.portoUniao.adjacentes[0].custo"
      ],
      "execution_count": null,
      "outputs": [
        {
          "output_type": "execute_result",
          "data": {
            "text/plain": [
              "(218, 46)"
            ]
          },
          "metadata": {
            "tags": []
          },
          "execution_count": 8
        }
      ]
    },
    {
      "cell_type": "code",
      "metadata": {
        "id": "GuRwgXbyrsQG"
      },
      "source": [
        "vetor = VetorOrdenado(3)\n",
        "vetor.insere(grafo.portoUniao.adjacentes[0])\n",
        "vetor.insere(grafo.portoUniao.adjacentes[1])\n",
        "vetor.insere(grafo.portoUniao.adjacentes[2])"
      ],
      "execution_count": null,
      "outputs": []
    },
    {
      "cell_type": "code",
      "metadata": {
        "id": "pkZOClJJr0U6",
        "colab": {
          "base_uri": "https://localhost:8080/",
          "height": 90
        },
        "outputId": "dbc07daf-d7bc-45df-ca2f-253479785457"
      },
      "source": [
        "vetor.imprime()"
      ],
      "execution_count": null,
      "outputs": [
        {
          "output_type": "stream",
          "text": [
            "0  -  São Mateus do Sul  -  87  -  123  -  210\n",
            "1  -  Paulo Frontin  -  46  -  172  -  218\n",
            "2  -  Canoinhas  -  78  -  141  -  219\n"
          ],
          "name": "stdout"
        }
      ]
    },
    {
      "cell_type": "markdown",
      "metadata": {
        "id": "Lmvbw_KeNYvX"
      },
      "source": [
        "## Busca AEstrela"
      ]
    },
    {
      "cell_type": "code",
      "metadata": {
        "id": "QyHEt5oUr8Dy"
      },
      "source": [
        "class AEstrela:\n",
        "  def __init__(self, objetivo):\n",
        "    self.objetivo = objetivo\n",
        "    self.encontrado = False\n",
        "\n",
        "  def buscar(self, atual):\n",
        "    print('----------')\n",
        "    print('Atual: {}'.format(atual.rotulo))\n",
        "    atual.visitado = True\n",
        "\n",
        "    if atual == self.objetivo:\n",
        "      self.encontrado = True\n",
        "    else:\n",
        "      vetor_ordenado = VetorOrdenado(len(atual.adjacentes))\n",
        "      for adjacente in atual.adjacentes:\n",
        "        if adjacente.vertice.visitado == False:\n",
        "          adjacente.vertice.visitado = True\n",
        "          vetor_ordenado.insere(adjacente)\n",
        "      vetor_ordenado.imprime()\n",
        "\n",
        "      if vetor_ordenado.valores[0] != None:\n",
        "        self.buscar(vetor_ordenado.valores[0].vertice)"
      ],
      "execution_count": null,
      "outputs": []
    },
    {
      "cell_type": "code",
      "metadata": {
        "id": "KAKnCTtssz9Y",
        "colab": {
          "base_uri": "https://localhost:8080/",
          "height": 460
        },
        "outputId": "68e374b0-bd31-45e6-c3a1-3e7477237a2f"
      },
      "source": [
        "busca_aestrela = AEstrela(grafo.curitiba)\n",
        "busca_aestrela.buscar(grafo.portoUniao)"
      ],
      "execution_count": null,
      "outputs": [
        {
          "output_type": "stream",
          "text": [
            "----------\n",
            "Atual: Porto União\n",
            "0  -  São Mateus do Sul  -  87  -  123  -  210\n",
            "1  -  Paulo Frontin  -  46  -  172  -  218\n",
            "2  -  Canoinhas  -  78  -  141  -  219\n",
            "----------\n",
            "Atual: São Mateus do Sul\n",
            "0  -  Lapa  -  60  -  74  -  134\n",
            "1  -  Palmeira  -  77  -  59  -  136\n",
            "2  -  Três Barras  -  43  -  131  -  174\n",
            "3  -  Irati  -  57  -  139  -  196\n",
            "----------\n",
            "Atual: Lapa\n",
            "0  -  Contenda  -  26  -  39  -  65\n",
            "1  -  Mafra  -  57  -  94  -  151\n",
            "----------\n",
            "Atual: Contenda\n",
            "0  -  Araucária  -  18  -  23  -  41\n",
            "1  -  Balsa Nova  -  19  -  41  -  60\n",
            "----------\n",
            "Atual: Araucária\n",
            "0  -  Curitiba  -  37  -  0  -  37\n",
            "----------\n",
            "Atual: Curitiba\n"
          ],
          "name": "stdout"
        }
      ]
    }
  ]
}