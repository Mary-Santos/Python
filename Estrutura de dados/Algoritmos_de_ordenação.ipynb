{
  "nbformat": 4,
  "nbformat_minor": 0,
  "metadata": {
    "colab": {
      "name": "Algoritmos de ordenação.ipynb",
      "provenance": [],
      "collapsed_sections": [
        "BhUyWEsc0cz0",
        "QQB0s2WA0fIx",
        "6bxYy8yd93TS",
        "1JPOYagK9y4x",
        "BfJGGiLz4YUz",
        "yJP1BYSdODHN"
      ]
    },
    "kernelspec": {
      "name": "python3",
      "display_name": "Python 3"
    }
  },
  "cells": [
    {
      "cell_type": "markdown",
      "metadata": {
        "id": "1IKlRd5flk0w"
      },
      "source": [
        "# Algoritmos de ordenação"
      ]
    },
    {
      "cell_type": "markdown",
      "metadata": {
        "id": "BhUyWEsc0cz0"
      },
      "source": [
        "## Bubble sort"
      ]
    },
    {
      "cell_type": "code",
      "metadata": {
        "id": "lRMwFY0oOSnH"
      },
      "source": [
        "import numpy as np"
      ],
      "execution_count": null,
      "outputs": []
    },
    {
      "cell_type": "code",
      "metadata": {
        "id": "shY2E3PiOfm1"
      },
      "source": [
        "def bubble_sort(vetor):\n",
        "  n = len(vetor)\n",
        "\n",
        "  for i in range(n):\n",
        "    for j in range(0, n - i - 1):\n",
        "      if vetor[j] > vetor[j + 1]:\n",
        "        temp = vetor[j]\n",
        "        vetor[j] = vetor[j + 1]\n",
        "        vetor[j + 1] = temp\n",
        "  return vetor"
      ],
      "execution_count": null,
      "outputs": []
    },
    {
      "cell_type": "code",
      "metadata": {
        "id": "0Gq9G-NhPqr1",
        "colab": {
          "base_uri": "https://localhost:8080/",
          "height": 55
        },
        "outputId": "0dac3202-27ed-4558-d5aa-8fe31a06c51a"
      },
      "source": [
        "bubble_sort(np.array([15, 34, 8, 3]))"
      ],
      "execution_count": null,
      "outputs": [
        {
          "output_type": "execute_result",
          "data": {
            "text/plain": [
              "array([ 3,  8, 15, 34])"
            ]
          },
          "metadata": {
            "tags": []
          },
          "execution_count": 3
        }
      ]
    },
    {
      "cell_type": "code",
      "metadata": {
        "id": "8QayOISgP0D1",
        "colab": {
          "base_uri": "https://localhost:8080/",
          "height": 55
        },
        "outputId": "532c8d45-e936-4706-ea73-0e7f82e1e74f"
      },
      "source": [
        "bubble_sort(np.array([10, 9, 8, 7, 6, 5, 4, 3, 2, 1]))"
      ],
      "execution_count": null,
      "outputs": [
        {
          "output_type": "execute_result",
          "data": {
            "text/plain": [
              "array([ 1,  2,  3,  4,  5,  6,  7,  8,  9, 10])"
            ]
          },
          "metadata": {
            "tags": []
          },
          "execution_count": 5
        }
      ]
    },
    {
      "cell_type": "markdown",
      "metadata": {
        "id": "QQB0s2WA0fIx"
      },
      "source": [
        "## Selection sort"
      ]
    },
    {
      "cell_type": "code",
      "metadata": {
        "id": "qavnRe4rbtJp"
      },
      "source": [
        "def selection_sort(vetor):\n",
        "  n = len(vetor)\n",
        "\n",
        "  for i in range(n):\n",
        "    id_minimo = i\n",
        "    for j in range(i + 1, n):\n",
        "      if vetor[id_minimo] > vetor[j]:\n",
        "        id_minimo = j\n",
        "    temp = vetor[i]\n",
        "    vetor[i] = vetor[id_minimo]\n",
        "    vetor[id_minimo] = temp\n",
        "  \n",
        "  return vetor"
      ],
      "execution_count": null,
      "outputs": []
    },
    {
      "cell_type": "code",
      "metadata": {
        "id": "t7OP9mk0cnTw",
        "colab": {
          "base_uri": "https://localhost:8080/",
          "height": 55
        },
        "outputId": "1ce6a17f-8c49-4c07-aa1a-b9f8c5bd29e3"
      },
      "source": [
        "selection_sort(np.array([15, 34, 8, 3]))"
      ],
      "execution_count": null,
      "outputs": [
        {
          "output_type": "execute_result",
          "data": {
            "text/plain": [
              "array([ 3,  8, 15, 34])"
            ]
          },
          "metadata": {
            "tags": []
          },
          "execution_count": 7
        }
      ]
    },
    {
      "cell_type": "code",
      "metadata": {
        "id": "XEdhjhuTcp3o",
        "colab": {
          "base_uri": "https://localhost:8080/",
          "height": 55
        },
        "outputId": "f0a0cd29-826d-4d2c-86a6-cc1ad28cd070"
      },
      "source": [
        "selection_sort(np.array([10, 9, 8, 7, 6, 5, 4, 3, 2, 1]))"
      ],
      "execution_count": null,
      "outputs": [
        {
          "output_type": "execute_result",
          "data": {
            "text/plain": [
              "array([ 1,  2,  3,  4,  5,  6,  7,  8,  9, 10])"
            ]
          },
          "metadata": {
            "tags": []
          },
          "execution_count": 9
        }
      ]
    },
    {
      "cell_type": "markdown",
      "metadata": {
        "id": "6bxYy8yd93TS"
      },
      "source": [
        "## Insertion sort"
      ]
    },
    {
      "cell_type": "code",
      "metadata": {
        "id": "-ebbVIoMi6Yv"
      },
      "source": [
        "def insertion_sort(vetor):\n",
        "  n = len(vetor)\n",
        "\n",
        "  for i in range(1, n):\n",
        "    marcado = vetor[i]\n",
        "\n",
        "    j = i - 1\n",
        "    while j >= 0 and marcado < vetor[j]:\n",
        "      vetor[j + 1] = vetor[j]\n",
        "      j -= 1\n",
        "    vetor[j + 1] = marcado\n",
        "\n",
        "  return vetor"
      ],
      "execution_count": null,
      "outputs": []
    },
    {
      "cell_type": "code",
      "metadata": {
        "id": "o_nHlyrfj_wE",
        "colab": {
          "base_uri": "https://localhost:8080/",
          "height": 55
        },
        "outputId": "07d46423-e4f0-45fa-ed9e-68282b5ee618"
      },
      "source": [
        "insertion_sort(np.array([15, 34, 8, 3]))"
      ],
      "execution_count": null,
      "outputs": [
        {
          "output_type": "execute_result",
          "data": {
            "text/plain": [
              "array([ 3,  8, 15, 34])"
            ]
          },
          "metadata": {
            "tags": []
          },
          "execution_count": 11
        }
      ]
    },
    {
      "cell_type": "code",
      "metadata": {
        "id": "ghjQD8yukBQk",
        "colab": {
          "base_uri": "https://localhost:8080/",
          "height": 55
        },
        "outputId": "d3af354e-b044-4e96-a60b-34c4f06b0f2c"
      },
      "source": [
        "insertion_sort(np.array([10, 9, 8, 7, 6, 5, 4, 3, 2, 1]))"
      ],
      "execution_count": null,
      "outputs": [
        {
          "output_type": "execute_result",
          "data": {
            "text/plain": [
              "array([ 1,  2,  3,  4,  5,  6,  7,  8,  9, 10])"
            ]
          },
          "metadata": {
            "tags": []
          },
          "execution_count": 12
        }
      ]
    },
    {
      "cell_type": "markdown",
      "metadata": {
        "id": "1JPOYagK9y4x"
      },
      "source": [
        "## Shell sort"
      ]
    },
    {
      "cell_type": "code",
      "metadata": {
        "id": "XwKeMgLh92R8"
      },
      "source": [
        "def shell_sort(vetor):\n",
        "  intervalo = len(vetor) // 2\n",
        "\n",
        "  while intervalo > 0:\n",
        "    for i in range(intervalo, len(vetor)):\n",
        "      temp = vetor[i]\n",
        "      j = i\n",
        "      while j >= intervalo and vetor[j - intervalo] > temp:\n",
        "        vetor[j] = vetor[j - intervalo]\n",
        "        j -= intervalo\n",
        "      vetor[j] = temp\n",
        "    intervalo //= 2\n",
        "\n",
        "  return vetor"
      ],
      "execution_count": null,
      "outputs": []
    },
    {
      "cell_type": "code",
      "metadata": {
        "id": "Vw3AGwjz-9W1",
        "colab": {
          "base_uri": "https://localhost:8080/",
          "height": 55
        },
        "outputId": "4d05b12f-9b51-45da-df55-abdfb5ef2134"
      },
      "source": [
        "shell_sort(np.array([15, 34, 8, 3]))"
      ],
      "execution_count": null,
      "outputs": [
        {
          "output_type": "execute_result",
          "data": {
            "text/plain": [
              "array([ 3,  8, 15, 34])"
            ]
          },
          "metadata": {
            "tags": []
          },
          "execution_count": 5
        }
      ]
    },
    {
      "cell_type": "code",
      "metadata": {
        "id": "_yk1Tn3M_GX8",
        "colab": {
          "base_uri": "https://localhost:8080/",
          "height": 55
        },
        "outputId": "9fedc16f-1f5c-457b-b85a-d0fa0e76f37e"
      },
      "source": [
        "shell_sort(np.array([10, 9, 8, 7, 6, 5, 4, 3, 2, 1]))"
      ],
      "execution_count": null,
      "outputs": [
        {
          "output_type": "execute_result",
          "data": {
            "text/plain": [
              "array([ 1,  2,  3,  4,  5,  6,  7,  8,  9, 10])"
            ]
          },
          "metadata": {
            "tags": []
          },
          "execution_count": 6
        }
      ]
    },
    {
      "cell_type": "code",
      "metadata": {
        "id": "x2BFdmyP_JEZ",
        "colab": {
          "base_uri": "https://localhost:8080/",
          "height": 55
        },
        "outputId": "c9ad6c42-e83d-42b3-f531-bf7e3d186ba4"
      },
      "source": [
        "shell_sort(np.array([8,5,1,4,2,3]))"
      ],
      "execution_count": null,
      "outputs": [
        {
          "output_type": "execute_result",
          "data": {
            "text/plain": [
              "array([1, 2, 3, 4, 5, 8])"
            ]
          },
          "metadata": {
            "tags": []
          },
          "execution_count": 7
        }
      ]
    },
    {
      "cell_type": "markdown",
      "metadata": {
        "id": "BfJGGiLz4YUz"
      },
      "source": [
        "## Merge sort"
      ]
    },
    {
      "cell_type": "code",
      "metadata": {
        "id": "IAc2EQ6m4Z4l"
      },
      "source": [
        "def merge_sort(vetor):\n",
        "  if len(vetor) > 1:\n",
        "    divisao = len(vetor) // 2\n",
        "    esquerda = vetor[:divisao].copy()\n",
        "    direita = vetor[divisao:].copy()\n",
        "\n",
        "    merge_sort(esquerda)\n",
        "    merge_sort(direita)\n",
        "\n",
        "    i = j = k = 0\n",
        "\n",
        "    # Ordena esquerda e direita\n",
        "    while i < len(esquerda) and j < len(direita):\n",
        "      if esquerda[i] < direita[j]:\n",
        "        vetor[k] = esquerda[i]\n",
        "        i += 1\n",
        "      else:\n",
        "        vetor[k] = direita[j]\n",
        "        j += 1\n",
        "      k += 1\n",
        "\n",
        "    # Ordenação final\n",
        "    while i < len(esquerda):\n",
        "      vetor[k] = esquerda[i]\n",
        "      i += 1\n",
        "      k += 1\n",
        "    while j < len(direita):\n",
        "      vetor[k] = direita[j]\n",
        "      j += 1\n",
        "      k += 1\n",
        "  return vetor"
      ],
      "execution_count": null,
      "outputs": []
    },
    {
      "cell_type": "code",
      "metadata": {
        "id": "Su-6-NP06NIx",
        "colab": {
          "base_uri": "https://localhost:8080/",
          "height": 55
        },
        "outputId": "2c7bc977-5376-48a6-a6a3-254f2c3fb3cd"
      },
      "source": [
        "merge_sort(np.array([15, 34, 8, 3]))"
      ],
      "execution_count": null,
      "outputs": [
        {
          "output_type": "execute_result",
          "data": {
            "text/plain": [
              "array([ 3,  8, 15, 34])"
            ]
          },
          "metadata": {
            "tags": []
          },
          "execution_count": 10
        }
      ]
    },
    {
      "cell_type": "code",
      "metadata": {
        "id": "eRjM9lo76_UD",
        "colab": {
          "base_uri": "https://localhost:8080/",
          "height": 55
        },
        "outputId": "bac2b231-2c20-455a-96d5-51e137f0b39a"
      },
      "source": [
        "merge_sort(np.array([10, 9, 8, 7, 6, 5, 4, 3, 2, 1]))"
      ],
      "execution_count": null,
      "outputs": [
        {
          "output_type": "execute_result",
          "data": {
            "text/plain": [
              "array([ 1,  2,  3,  4,  5,  6,  7,  8,  9, 10])"
            ]
          },
          "metadata": {
            "tags": []
          },
          "execution_count": 11
        }
      ]
    },
    {
      "cell_type": "code",
      "metadata": {
        "id": "MNSJgk3U7BeR",
        "colab": {
          "base_uri": "https://localhost:8080/",
          "height": 55
        },
        "outputId": "71ae3d2d-1ff0-4034-9f28-87d0f4731e07"
      },
      "source": [
        "merge_sort(np.array([38, 27, 43, 3, 9, 82, 10]))"
      ],
      "execution_count": null,
      "outputs": [
        {
          "output_type": "execute_result",
          "data": {
            "text/plain": [
              "array([ 3,  9, 10, 27, 38, 43, 82])"
            ]
          },
          "metadata": {
            "tags": []
          },
          "execution_count": 13
        }
      ]
    },
    {
      "cell_type": "markdown",
      "metadata": {
        "id": "yJP1BYSdODHN"
      },
      "source": [
        "## Quick sort"
      ]
    },
    {
      "cell_type": "code",
      "metadata": {
        "id": "PEFV0K5POFYz"
      },
      "source": [
        "def particao(vetor, inicio, final):\n",
        "  pivo = vetor[final]\n",
        "  i = inicio - 1\n",
        "\n",
        "  for j in range(inicio, final):\n",
        "    if vetor[j] <= pivo:\n",
        "      i += 1\n",
        "      vetor[i], vetor[j] = vetor[j], vetor[i]\n",
        "  vetor[i + 1], vetor[final] = vetor[final], vetor[i + 1]\n",
        "  return i + 1\n",
        "\n",
        "def quick_sort(vetor, inicio, final):\n",
        "  if inicio < final:\n",
        "    posicao = particao(vetor, inicio, final)\n",
        "    # Esquerda\n",
        "    quick_sort(vetor, inicio, posicao - 1)\n",
        "    # Direito\n",
        "    quick_sort(vetor, posicao + 1, final)\n",
        "  return vetor"
      ],
      "execution_count": null,
      "outputs": []
    },
    {
      "cell_type": "code",
      "metadata": {
        "id": "088Evc64Py15",
        "colab": {
          "base_uri": "https://localhost:8080/",
          "height": 55
        },
        "outputId": "f3f834b0-c62e-44e3-bf4c-9d2c0a8c1397"
      },
      "source": [
        "vetor = np.array([15, 34, 8, 3])\n",
        "quick_sort(vetor, 0, len(vetor) - 1)"
      ],
      "execution_count": null,
      "outputs": [
        {
          "output_type": "execute_result",
          "data": {
            "text/plain": [
              "array([ 3,  8, 15, 34])"
            ]
          },
          "metadata": {
            "tags": []
          },
          "execution_count": 19
        }
      ]
    },
    {
      "cell_type": "code",
      "metadata": {
        "id": "MmWOwh0YQsyx",
        "colab": {
          "base_uri": "https://localhost:8080/",
          "height": 55
        },
        "outputId": "968bedfa-13e2-4b11-9ead-aac869aa1184"
      },
      "source": [
        "vetor = np.array([10, 9, 8, 7, 6, 5, 4, 3, 2, 1])\n",
        "quick_sort(vetor, 0, len(vetor) - 1)"
      ],
      "execution_count": null,
      "outputs": [
        {
          "output_type": "execute_result",
          "data": {
            "text/plain": [
              "array([ 1,  2,  3,  4,  5,  6,  7,  8,  9, 10])"
            ]
          },
          "metadata": {
            "tags": []
          },
          "execution_count": 20
        }
      ]
    },
    {
      "cell_type": "markdown",
      "metadata": {
        "id": "Kbtwj0qfYhqB"
      },
      "source": [
        "## Comparativo entre algoritmos"
      ]
    },
    {
      "cell_type": "code",
      "metadata": {
        "id": "Ljoj29lyYjgl"
      },
      "source": [
        "import random\n",
        "vetor = []\n",
        "for _ in range(5000):\n",
        "  vetor.append(round(random.random(), 4))"
      ],
      "execution_count": null,
      "outputs": []
    },
    {
      "cell_type": "code",
      "metadata": {
        "id": "G-sb-1S0Ylgu",
        "colab": {
          "base_uri": "https://localhost:8080/",
          "height": 55
        },
        "outputId": "4dc70b6b-c61d-42ec-fd07-2cf84337a63e"
      },
      "source": [
        "type(vetor)"
      ],
      "execution_count": null,
      "outputs": [
        {
          "output_type": "execute_result",
          "data": {
            "text/plain": [
              "list"
            ]
          },
          "metadata": {
            "tags": []
          },
          "execution_count": 29
        }
      ]
    },
    {
      "cell_type": "code",
      "metadata": {
        "id": "yLxUXLOVYmAm",
        "colab": {
          "base_uri": "https://localhost:8080/",
          "height": 55
        },
        "outputId": "609062f3-2595-43ae-f49b-f2eda0104571"
      },
      "source": [
        "vetor = np.array(vetor)\n",
        "type(vetor)"
      ],
      "execution_count": null,
      "outputs": [
        {
          "output_type": "execute_result",
          "data": {
            "text/plain": [
              "numpy.ndarray"
            ]
          },
          "metadata": {
            "tags": []
          },
          "execution_count": 30
        }
      ]
    },
    {
      "cell_type": "code",
      "metadata": {
        "id": "pja3pD4UYo8G",
        "colab": {
          "base_uri": "https://localhost:8080/",
          "height": 55
        },
        "outputId": "1e7f998c-c82f-4118-e24b-7713f8eb6527"
      },
      "source": [
        "vetor[:5]"
      ],
      "execution_count": null,
      "outputs": [
        {
          "output_type": "execute_result",
          "data": {
            "text/plain": [
              "array([0.1323, 0.6192, 0.1069, 0.0134, 0.7862])"
            ]
          },
          "metadata": {
            "tags": []
          },
          "execution_count": 31
        }
      ]
    },
    {
      "cell_type": "code",
      "metadata": {
        "id": "K69diGx7Yqn1",
        "colab": {
          "base_uri": "https://localhost:8080/",
          "height": 55
        },
        "outputId": "c4fa5c07-ac5f-44d9-d590-f5860a7573cb"
      },
      "source": [
        "len(vetor)"
      ],
      "execution_count": null,
      "outputs": [
        {
          "output_type": "execute_result",
          "data": {
            "text/plain": [
              "5000"
            ]
          },
          "metadata": {
            "tags": []
          },
          "execution_count": 32
        }
      ]
    },
    {
      "cell_type": "code",
      "metadata": {
        "id": "wnNw4QuAYsP2",
        "colab": {
          "base_uri": "https://localhost:8080/",
          "height": 55
        },
        "outputId": "d32b8541-a95f-477d-c1ff-7288f245b15d"
      },
      "source": [
        "%timeit bubble_sort(vetor.copy())"
      ],
      "execution_count": null,
      "outputs": [
        {
          "output_type": "stream",
          "text": [
            "1 loop, best of 3: 7.37 s per loop\n"
          ],
          "name": "stdout"
        }
      ]
    },
    {
      "cell_type": "code",
      "metadata": {
        "id": "D9T0jXqWYtzB",
        "colab": {
          "base_uri": "https://localhost:8080/",
          "height": 55
        },
        "outputId": "2de80740-e3f1-4b4c-e4ed-e79ebc271c58"
      },
      "source": [
        "%timeit selection_sort(vetor.copy())"
      ],
      "execution_count": null,
      "outputs": [
        {
          "output_type": "stream",
          "text": [
            "1 loop, best of 3: 3.84 s per loop\n"
          ],
          "name": "stdout"
        }
      ]
    },
    {
      "cell_type": "code",
      "metadata": {
        "id": "b65zaAFRYvOq",
        "colab": {
          "base_uri": "https://localhost:8080/",
          "height": 55
        },
        "outputId": "88f9d813-a7e3-4b78-f0da-370baf7cc9af"
      },
      "source": [
        "%timeit insertion_sort(vetor.copy())"
      ],
      "execution_count": null,
      "outputs": [
        {
          "output_type": "stream",
          "text": [
            "1 loop, best of 3: 2.92 s per loop\n"
          ],
          "name": "stdout"
        }
      ]
    },
    {
      "cell_type": "code",
      "metadata": {
        "id": "z0MzaNo9YxGz",
        "colab": {
          "base_uri": "https://localhost:8080/",
          "height": 55
        },
        "outputId": "368b064c-7447-4dc4-e9a2-b77cfdd2a0fc"
      },
      "source": [
        "%timeit shell_sort(vetor.copy())"
      ],
      "execution_count": null,
      "outputs": [
        {
          "output_type": "stream",
          "text": [
            "10 loops, best of 3: 51.3 ms per loop\n"
          ],
          "name": "stdout"
        }
      ]
    },
    {
      "cell_type": "code",
      "metadata": {
        "id": "fKil7OuqYymj",
        "colab": {
          "base_uri": "https://localhost:8080/",
          "height": 55
        },
        "outputId": "10ac5d0f-893f-4ad8-9842-c767b7844121"
      },
      "source": [
        "%timeit merge_sort(vetor.copy())"
      ],
      "execution_count": null,
      "outputs": [
        {
          "output_type": "stream",
          "text": [
            "10 loops, best of 3: 50.3 ms per loop\n"
          ],
          "name": "stdout"
        }
      ]
    },
    {
      "cell_type": "code",
      "metadata": {
        "id": "eW6fkdMlYz6F",
        "colab": {
          "base_uri": "https://localhost:8080/",
          "height": 55
        },
        "outputId": "141e2470-1a76-4ee2-b27a-60d13b979df5"
      },
      "source": [
        "%timeit quick_sort(vetor.copy(), 0, len(vetor) - 1)"
      ],
      "execution_count": null,
      "outputs": [
        {
          "output_type": "stream",
          "text": [
            "10 loops, best of 3: 31.4 ms per loop\n"
          ],
          "name": "stdout"
        }
      ]
    },
    {
      "cell_type": "markdown",
      "metadata": {
        "id": "xW_Bn6Bdaxx-"
      },
      "source": [
        "## Vetor ordenado"
      ]
    },
    {
      "cell_type": "code",
      "metadata": {
        "id": "pr_TzsL5azUT"
      },
      "source": [
        "class VetorOrdenado:\n",
        "  \n",
        "  def __init__(self, capacidade):\n",
        "    self.capacidade = capacidade\n",
        "    self.ultima_posicao = -1\n",
        "    self.valores = np.empty(self.capacidade, dtype=float)\n",
        "\n",
        "  def insere(self, valor):\n",
        "    if self.ultima_posicao == self.capacidade - 1:\n",
        "      print('Capacidade atingida')\n",
        "      return\n",
        "    \n",
        "    posicao = 0\n",
        "    for i in range(self.ultima_posicao + 1):\n",
        "      posicao = i\n",
        "      if self.valores[i] > valor:\n",
        "        break\n",
        "      if i == self.ultima_posicao:\n",
        "        posicao = i + 1\n",
        "\n",
        "    x = self.ultima_posicao\n",
        "    while x >= posicao:\n",
        "      self.valores[x + 1] = self.valores[x]\n",
        "      x -= 1\n",
        "    \n",
        "    self.valores[posicao] = valor    \n",
        "    self.ultima_posicao += 1"
      ],
      "execution_count": null,
      "outputs": []
    },
    {
      "cell_type": "code",
      "metadata": {
        "id": "3rxdYNXMa3NH"
      },
      "source": [
        "def insere_ordenado(valores):\n",
        "  vetor = VetorOrdenado(len(valores))\n",
        "  for i in range(len(valores)):\n",
        "    vetor.insere(i)"
      ],
      "execution_count": null,
      "outputs": []
    },
    {
      "cell_type": "code",
      "metadata": {
        "id": "qX9pA96Oa4fJ",
        "colab": {
          "base_uri": "https://localhost:8080/",
          "height": 55
        },
        "outputId": "fd8542bd-4c9c-497d-d0f1-0b3c10b0502c"
      },
      "source": [
        "%timeit insere_ordenado(vetor.copy())"
      ],
      "execution_count": null,
      "outputs": [
        {
          "output_type": "stream",
          "text": [
            "1 loop, best of 3: 5.45 s per loop\n"
          ],
          "name": "stdout"
        }
      ]
    }
  ]
}