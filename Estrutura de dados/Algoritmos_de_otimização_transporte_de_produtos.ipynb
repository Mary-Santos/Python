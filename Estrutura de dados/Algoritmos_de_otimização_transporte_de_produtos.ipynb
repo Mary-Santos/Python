{
  "nbformat": 4,
  "nbformat_minor": 0,
  "metadata": {
    "colab": {
      "name": "Algoritmos de otimização - transporte de produtos.ipynb",
      "provenance": []
    },
    "kernelspec": {
      "name": "python3",
      "display_name": "Python 3"
    }
  },
  "cells": [
    {
      "cell_type": "markdown",
      "metadata": {
        "id": "m4fZzXnRFW0i"
      },
      "source": [
        "# Algoritmos de otimização - transporte de produtos"
      ]
    },
    {
      "cell_type": "code",
      "metadata": {
        "id": "JNVoTIBnFONn",
        "colab": {
          "base_uri": "https://localhost:8080/",
          "height": 196
        },
        "outputId": "f227ea38-9a25-4f24-8d0e-06dba75c0752"
      },
      "source": [
        "!pip install mlrose"
      ],
      "execution_count": null,
      "outputs": [
        {
          "output_type": "stream",
          "text": [
            "Collecting mlrose\n",
            "  Downloading https://files.pythonhosted.org/packages/0d/f8/79e77a40f6e8988e3ecc9ead8a28024ee43df9c99fce2209037c9e6f9e4a/mlrose-1.3.0-py3-none-any.whl\n",
            "Requirement already satisfied: scipy in /usr/local/lib/python3.6/dist-packages (from mlrose) (1.4.1)\n",
            "Requirement already satisfied: numpy in /usr/local/lib/python3.6/dist-packages (from mlrose) (1.18.5)\n",
            "Requirement already satisfied: sklearn in /usr/local/lib/python3.6/dist-packages (from mlrose) (0.0)\n",
            "Requirement already satisfied: scikit-learn in /usr/local/lib/python3.6/dist-packages (from sklearn->mlrose) (0.22.2.post1)\n",
            "Requirement already satisfied: joblib>=0.11 in /usr/local/lib/python3.6/dist-packages (from scikit-learn->sklearn->mlrose) (0.16.0)\n",
            "Installing collected packages: mlrose\n",
            "Successfully installed mlrose-1.3.0\n"
          ],
          "name": "stdout"
        }
      ]
    },
    {
      "cell_type": "code",
      "metadata": {
        "id": "RDMMYF51I3Tn"
      },
      "source": [
        "import mlrose"
      ],
      "execution_count": null,
      "outputs": []
    },
    {
      "cell_type": "markdown",
      "metadata": {
        "id": "z12zZlrNI1L8"
      },
      "source": [
        "## Representação do problema"
      ]
    },
    {
      "cell_type": "code",
      "metadata": {
        "id": "wDLbNo1xWibM"
      },
      "source": [
        "produtos = [('Refrigerador A', 0.751, 999.90),\n",
        "            ('Celular', 0.0000899, 2911.12),\n",
        "            ('TV 55', 0.400, 4346.99),\n",
        "            ('TV 50', 0.290, 3999.90),\n",
        "            ('TV 42', 0.200, 2999.00),\n",
        "            ('Notebook A', 0.00350, 2499.90),\n",
        "            ('Ventilador', 0.496, 199.90),\n",
        "            ('Microondas A', 0.0424, 308.66),\n",
        "            ('Microondas B', 0.0544, 429.90),\n",
        "            ('Microondas C', 0.0319, 299.29),\n",
        "            ('Refrigerador B', 0.635, 849.00),\n",
        "            ('Refrigerador C', 0.870, 1199.89),\n",
        "            ('Notebook B', 0.498, 1999.90),\n",
        "            ('Notebook C', 0.527, 3999.00)]\n",
        "espaco_disponivel = 3"
      ],
      "execution_count": null,
      "outputs": []
    },
    {
      "cell_type": "code",
      "metadata": {
        "id": "TbZhWxigbB_8",
        "colab": {
          "base_uri": "https://localhost:8080/",
          "height": 55
        },
        "outputId": "0fefd752-7e49-4894-a2a6-248ed895c8f7"
      },
      "source": [
        "produtos[0], produtos[0][0], produtos[0][1], produtos[0][2]"
      ],
      "execution_count": null,
      "outputs": [
        {
          "output_type": "execute_result",
          "data": {
            "text/plain": [
              "(('Refrigerador A', 0.751, 999.9), 'Refrigerador A', 0.751, 999.9)"
            ]
          },
          "metadata": {
            "tags": []
          },
          "execution_count": 7
        }
      ]
    },
    {
      "cell_type": "code",
      "metadata": {
        "id": "ujAJAoZQ1oCi"
      },
      "source": [
        "def imprimir_solucao(solucao):\n",
        "  for i in range(len(solucao)):\n",
        "    if solucao[i] == 1:\n",
        "      print('%s - %s' % (produtos[i][0], produtos[i][2]))"
      ],
      "execution_count": null,
      "outputs": []
    },
    {
      "cell_type": "code",
      "metadata": {
        "id": "zt0oFhV9bTmU",
        "colab": {
          "base_uri": "https://localhost:8080/",
          "height": 178
        },
        "outputId": "bbcb941f-f94d-45a1-f95e-1bbb0f6c21c8"
      },
      "source": [
        "imprimir_solucao([0, 1, 1, 1, 0, 0, 1, 0, 1, 0, 1, 1, 0, 1])"
      ],
      "execution_count": null,
      "outputs": [
        {
          "output_type": "stream",
          "text": [
            "Celular - 2911.12\n",
            "TV 55 - 4346.99\n",
            "TV 50 - 3999.9\n",
            "Ventilador - 199.9\n",
            "Microondas B - 429.9\n",
            "Refrigerador B - 849.0\n",
            "Refrigerador C - 1199.89\n",
            "Notebook C - 3999.0\n"
          ],
          "name": "stdout"
        }
      ]
    },
    {
      "cell_type": "code",
      "metadata": {
        "id": "IZAWc1C7WoyG"
      },
      "source": [
        "def fitness_function(solucao):\n",
        "  custo = 0\n",
        "  soma_espaco = 0\n",
        "  for i in range(len(solucao)):\n",
        "    if solucao[i] == 1:\n",
        "      custo += produtos[i][2]\n",
        "      soma_espaco += produtos[i][1]\n",
        "  if soma_espaco > espaco_disponivel:\n",
        "    custo = 1\n",
        "  return custo"
      ],
      "execution_count": null,
      "outputs": []
    },
    {
      "cell_type": "code",
      "metadata": {
        "id": "EMmRB8_kcAlp",
        "colab": {
          "base_uri": "https://localhost:8080/",
          "height": 55
        },
        "outputId": "dedd7c43-dc3e-407f-b96c-c861b35ebacd"
      },
      "source": [
        "fitness_function([0, 1, 0, 1, 0, 0, 1, 0, 1, 0, 1, 1, 0, 1])"
      ],
      "execution_count": null,
      "outputs": [
        {
          "output_type": "execute_result",
          "data": {
            "text/plain": [
              "13588.71"
            ]
          },
          "metadata": {
            "tags": []
          },
          "execution_count": 12
        }
      ]
    },
    {
      "cell_type": "code",
      "metadata": {
        "id": "kzRooBieJhax"
      },
      "source": [
        "fitness = mlrose.CustomFitness(fitness_function)"
      ],
      "execution_count": null,
      "outputs": []
    },
    {
      "cell_type": "code",
      "metadata": {
        "id": "R_v7bi5GJvwk"
      },
      "source": [
        "problema = mlrose.DiscreteOpt(length = 14, fitness_fn = fitness, \n",
        "                             maximize = True, max_val = 2)"
      ],
      "execution_count": null,
      "outputs": []
    },
    {
      "cell_type": "markdown",
      "metadata": {
        "id": "TfNpB5slN7Cp"
      },
      "source": [
        "## Hill climb"
      ]
    },
    {
      "cell_type": "code",
      "metadata": {
        "id": "l4eyqdAbOS0p",
        "colab": {
          "base_uri": "https://localhost:8080/",
          "height": 55
        },
        "outputId": "36fa0d44-a376-47e0-d0cd-d60f6aff18ff"
      },
      "source": [
        "melhor_solucao, melhor_custo = mlrose.hill_climb(problema)\n",
        "melhor_solucao, melhor_custo"
      ],
      "execution_count": null,
      "outputs": [
        {
          "output_type": "execute_result",
          "data": {
            "text/plain": [
              "(array([1, 1, 0, 1, 0, 1, 1, 0, 1, 1, 0, 1, 1, 0]), 14539.699999999999)"
            ]
          },
          "metadata": {
            "tags": []
          },
          "execution_count": 20
        }
      ]
    },
    {
      "cell_type": "code",
      "metadata": {
        "id": "mvt4jVU51v3P",
        "colab": {
          "base_uri": "https://localhost:8080/",
          "height": 196
        },
        "outputId": "6e9329db-d7c0-4ad2-bb99-eaf5f8133b00"
      },
      "source": [
        "imprimir_solucao(melhor_solucao)"
      ],
      "execution_count": null,
      "outputs": [
        {
          "output_type": "stream",
          "text": [
            "Refrigerador A - 999.9\n",
            "Celular - 2911.12\n",
            "TV 50 - 3999.9\n",
            "Notebook A - 2499.9\n",
            "Ventilador - 199.9\n",
            "Microondas B - 429.9\n",
            "Microondas C - 299.29\n",
            "Refrigerador C - 1199.89\n",
            "Notebook B - 1999.9\n"
          ],
          "name": "stdout"
        }
      ]
    },
    {
      "cell_type": "markdown",
      "metadata": {
        "id": "ZU8cD5k2N8wO"
      },
      "source": [
        "## Simulated annealing"
      ]
    },
    {
      "cell_type": "code",
      "metadata": {
        "id": "L9KjmUcMKGh_",
        "colab": {
          "base_uri": "https://localhost:8080/",
          "height": 55
        },
        "outputId": "6f97ea84-a63f-43ca-e918-af48301d33d8"
      },
      "source": [
        "melhor_solucao, melhor_custo = mlrose.simulated_annealing(problema)\n",
        "melhor_solucao, melhor_custo"
      ],
      "execution_count": null,
      "outputs": [
        {
          "output_type": "execute_result",
          "data": {
            "text/plain": [
              "(array([0, 0, 0, 1, 1, 0, 0, 1, 1, 1, 1, 1, 1, 0]), 12085.539999999999)"
            ]
          },
          "metadata": {
            "tags": []
          },
          "execution_count": 30
        }
      ]
    },
    {
      "cell_type": "code",
      "metadata": {
        "id": "AaS5qBdE13Ba",
        "colab": {
          "base_uri": "https://localhost:8080/",
          "height": 178
        },
        "outputId": "ec89be7c-24a1-4f14-99da-e3c8e522309a"
      },
      "source": [
        "imprimir_solucao(melhor_solucao)"
      ],
      "execution_count": null,
      "outputs": [
        {
          "output_type": "stream",
          "text": [
            "TV 50 - 3999.9\n",
            "TV 42 - 2999.0\n",
            "Microondas A - 308.66\n",
            "Microondas B - 429.9\n",
            "Microondas C - 299.29\n",
            "Refrigerador B - 849.0\n",
            "Refrigerador C - 1199.89\n",
            "Notebook B - 1999.9\n"
          ],
          "name": "stdout"
        }
      ]
    },
    {
      "cell_type": "markdown",
      "metadata": {
        "id": "D3xrk8dfOAJF"
      },
      "source": [
        "## Algoritmo genético"
      ]
    },
    {
      "cell_type": "code",
      "metadata": {
        "id": "YPQPoUKPP7vN",
        "colab": {
          "base_uri": "https://localhost:8080/",
          "height": 55
        },
        "outputId": "0ae1c267-22af-41eb-8d11-913e3ff06325"
      },
      "source": [
        "melhor_solucao, melhor_custo = mlrose.genetic_alg(problema, pop_size=500, mutation_prob=0.2)\n",
        "melhor_solucao, melhor_custo"
      ],
      "execution_count": null,
      "outputs": [
        {
          "output_type": "execute_result",
          "data": {
            "text/plain": [
              "(array([0, 1, 1, 1, 1, 1, 0, 1, 1, 1, 0, 1, 1, 1]), 24993.550000000003)"
            ]
          },
          "metadata": {
            "tags": []
          },
          "execution_count": 37
        }
      ]
    },
    {
      "cell_type": "code",
      "metadata": {
        "id": "r7fk0Z9B18jT",
        "colab": {
          "base_uri": "https://localhost:8080/",
          "height": 231
        },
        "outputId": "763d3441-29a9-4d5d-c0e8-b4b7d91670ef"
      },
      "source": [
        "imprimir_solucao(melhor_solucao)"
      ],
      "execution_count": null,
      "outputs": [
        {
          "output_type": "stream",
          "text": [
            "Celular - 2911.12\n",
            "TV 55 - 4346.99\n",
            "TV 50 - 3999.9\n",
            "TV 42 - 2999.0\n",
            "Notebook A - 2499.9\n",
            "Microondas A - 308.66\n",
            "Microondas B - 429.9\n",
            "Microondas C - 299.29\n",
            "Refrigerador C - 1199.89\n",
            "Notebook B - 1999.9\n",
            "Notebook C - 3999.0\n"
          ],
          "name": "stdout"
        }
      ]
    }
  ]
}