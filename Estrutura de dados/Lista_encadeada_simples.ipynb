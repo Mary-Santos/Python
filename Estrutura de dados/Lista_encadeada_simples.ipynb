{
  "nbformat": 4,
  "nbformat_minor": 0,
  "metadata": {
    "colab": {
      "name": "Lista encadeada simples.ipynb",
      "provenance": [],
      "collapsed_sections": []
    },
    "kernelspec": {
      "name": "python3",
      "display_name": "Python 3"
    }
  },
  "cells": [
    {
      "cell_type": "markdown",
      "metadata": {
        "id": "-FVr0W4SMhwg"
      },
      "source": [
        "# Lista encadeada simples"
      ]
    },
    {
      "cell_type": "code",
      "metadata": {
        "id": "DoZHUPLmFG2G"
      },
      "source": [
        "class No:\n",
        "  def __init__(self, valor):\n",
        "    self.valor = valor\n",
        "    self.proximo = None\n",
        "  \n",
        "  def mostra_no(self):\n",
        "    print(self.valor)"
      ],
      "execution_count": null,
      "outputs": []
    },
    {
      "cell_type": "code",
      "metadata": {
        "id": "y3Zpx8uUFnOC",
        "colab": {
          "base_uri": "https://localhost:8080/",
          "height": 55
        },
        "outputId": "750f4fb7-fa53-417a-e7d0-1f03b46685ea"
      },
      "source": [
        "no1 = No(1)\n",
        "no1.mostra_no()"
      ],
      "execution_count": null,
      "outputs": [
        {
          "output_type": "stream",
          "text": [
            "1\n"
          ],
          "name": "stdout"
        }
      ]
    },
    {
      "cell_type": "code",
      "metadata": {
        "id": "sZeh6rzWFuNB",
        "colab": {
          "base_uri": "https://localhost:8080/",
          "height": 55
        },
        "outputId": "693eed7e-60b5-4678-a1b4-31070c2ebcfd"
      },
      "source": [
        "no2 = No(2)\n",
        "no2.mostra_no()\n",
        "#no2.proximo"
      ],
      "execution_count": null,
      "outputs": [
        {
          "output_type": "stream",
          "text": [
            "2\n"
          ],
          "name": "stdout"
        }
      ]
    },
    {
      "cell_type": "code",
      "metadata": {
        "id": "xbBH0udDFz6n"
      },
      "source": [
        "class ListaEncadeada:\n",
        "  def __init__(self):\n",
        "    self.primeiro = None\n",
        "\n",
        "  def insere_inicio(self, valor):\n",
        "    novo = No(valor)\n",
        "    novo.proximo = self.primeiro\n",
        "    self.primeiro = novo\n",
        "\n",
        "  def mostrar(self):\n",
        "    if self.primeiro == None:\n",
        "      print('A lista está vazia')\n",
        "      return None\n",
        "    \n",
        "    atual = self.primeiro\n",
        "    while atual != None:\n",
        "      atual.mostra_no()\n",
        "      atual = atual.proximo\n",
        "\n",
        "  def pesquisa(self, valor):\n",
        "    if self.primeiro == None:\n",
        "      print('A lista está vazia')\n",
        "      return None\n",
        "\n",
        "    atual = self.primeiro\n",
        "    while atual.valor != valor:\n",
        "      if atual.proximo == None:\n",
        "        return None\n",
        "      else:\n",
        "        atual = atual.proximo\n",
        "    return atual\n",
        "\n",
        "  def excluir_inicio(self):\n",
        "    if self.primeiro == None:\n",
        "      print('A lista está vazia')\n",
        "      return None\n",
        "    \n",
        "    temp = self.primeiro\n",
        "    self.primeiro = self.primeiro.proximo\n",
        "    return temp\n",
        "\n",
        "  def excluir_posicao(self, valor):\n",
        "    if self.primeiro == None:\n",
        "      print('A lista está vazia')\n",
        "      return None\n",
        "    \n",
        "    atual = self.primeiro\n",
        "    anterior = self.primeiro\n",
        "    while atual.valor != valor:\n",
        "      if atual.proximo == None:\n",
        "        return None\n",
        "      else:\n",
        "        anterior = atual\n",
        "        atual = atual.proximo\n",
        "    \n",
        "    if atual == self.primeiro:\n",
        "      self.primeiro = self.primeiro.proximo\n",
        "    else:\n",
        "      anterior.proximo = atual.proximo\n",
        "\n",
        "    return atual"
      ],
      "execution_count": null,
      "outputs": []
    },
    {
      "cell_type": "markdown",
      "metadata": {
        "id": "C-mFL6pOIHWI"
      },
      "source": [
        "### Insere no início"
      ]
    },
    {
      "cell_type": "code",
      "metadata": {
        "id": "UUf0N7QLIJSJ"
      },
      "source": [
        "lista = ListaEncadeada()"
      ],
      "execution_count": null,
      "outputs": []
    },
    {
      "cell_type": "code",
      "metadata": {
        "id": "eOPLP8GoINL4"
      },
      "source": [
        "lista.insere_inicio(1)"
      ],
      "execution_count": null,
      "outputs": []
    },
    {
      "cell_type": "code",
      "metadata": {
        "id": "_1R7Ic6EIZd0",
        "colab": {
          "base_uri": "https://localhost:8080/",
          "height": 55
        },
        "outputId": "b3d96eb6-a788-4beb-d1ab-2f156d460fcf"
      },
      "source": [
        "lista.primeiro"
      ],
      "execution_count": null,
      "outputs": [
        {
          "output_type": "execute_result",
          "data": {
            "text/plain": [
              "<__main__.No at 0x7f345030a908>"
            ]
          },
          "metadata": {
            "tags": []
          },
          "execution_count": 15
        }
      ]
    },
    {
      "cell_type": "code",
      "metadata": {
        "id": "YDuODVckIQJB",
        "colab": {
          "base_uri": "https://localhost:8080/",
          "height": 55
        },
        "outputId": "13a3e7af-b734-4ae8-beb0-09b3d1f6e32e"
      },
      "source": [
        "lista.mostrar()"
      ],
      "execution_count": null,
      "outputs": [
        {
          "output_type": "stream",
          "text": [
            "1\n"
          ],
          "name": "stdout"
        }
      ]
    },
    {
      "cell_type": "code",
      "metadata": {
        "id": "EDr3tXxUIljr",
        "colab": {
          "base_uri": "https://localhost:8080/",
          "height": 72
        },
        "outputId": "2a04a0e5-7119-4040-e498-3f4c4ac41a08"
      },
      "source": [
        "lista.insere_inicio(2)\n",
        "lista.mostrar()"
      ],
      "execution_count": null,
      "outputs": [
        {
          "output_type": "stream",
          "text": [
            "2\n",
            "1\n"
          ],
          "name": "stdout"
        }
      ]
    },
    {
      "cell_type": "code",
      "metadata": {
        "id": "lkwF5CIVIrRY",
        "colab": {
          "base_uri": "https://localhost:8080/",
          "height": 55
        },
        "outputId": "d1660f1b-44d6-46fb-8b90-28b2490d3dd8"
      },
      "source": [
        "lista.primeiro"
      ],
      "execution_count": null,
      "outputs": [
        {
          "output_type": "execute_result",
          "data": {
            "text/plain": [
              "<__main__.No at 0x7f345030a7b8>"
            ]
          },
          "metadata": {
            "tags": []
          },
          "execution_count": 17
        }
      ]
    },
    {
      "cell_type": "code",
      "metadata": {
        "id": "gj10sIE_JAO8",
        "colab": {
          "base_uri": "https://localhost:8080/",
          "height": 55
        },
        "outputId": "d4ff7e2b-15c9-45d1-aa76-52f08384bc02"
      },
      "source": [
        "lista.primeiro.mostra_no()"
      ],
      "execution_count": null,
      "outputs": [
        {
          "output_type": "stream",
          "text": [
            "2\n"
          ],
          "name": "stdout"
        }
      ]
    },
    {
      "cell_type": "code",
      "metadata": {
        "id": "51DMfRIQJGxs",
        "colab": {
          "base_uri": "https://localhost:8080/",
          "height": 55
        },
        "outputId": "2a908e9c-e26e-4e75-beae-87f2d488a3e7"
      },
      "source": [
        "lista.primeiro.proximo"
      ],
      "execution_count": null,
      "outputs": [
        {
          "output_type": "execute_result",
          "data": {
            "text/plain": [
              "<__main__.No at 0x7f345030a908>"
            ]
          },
          "metadata": {
            "tags": []
          },
          "execution_count": 19
        }
      ]
    },
    {
      "cell_type": "code",
      "metadata": {
        "id": "7ecskNzUJbBe"
      },
      "source": [
        "lista.insere_inicio(3)\n",
        "lista.insere_inicio(4)\n",
        "lista.insere_inicio(4)"
      ],
      "execution_count": null,
      "outputs": []
    },
    {
      "cell_type": "code",
      "metadata": {
        "id": "hRzuH0E-JgIq",
        "colab": {
          "base_uri": "https://localhost:8080/",
          "height": 125
        },
        "outputId": "9ee462cd-93e0-430a-85e4-3e19b4cb592c"
      },
      "source": [
        "lista.mostrar()"
      ],
      "execution_count": null,
      "outputs": [
        {
          "output_type": "stream",
          "text": [
            "4\n",
            "4\n",
            "3\n",
            "2\n",
            "1\n"
          ],
          "name": "stdout"
        }
      ]
    },
    {
      "cell_type": "code",
      "metadata": {
        "id": "ke8YlL0NJmD1",
        "colab": {
          "base_uri": "https://localhost:8080/",
          "height": 55
        },
        "outputId": "92f71dc9-8c2c-4528-a9f1-778691a48afa"
      },
      "source": [
        "lista.primeiro.proximo.proximo.proximo.proximo"
      ],
      "execution_count": null,
      "outputs": [
        {
          "output_type": "execute_result",
          "data": {
            "text/plain": [
              "<__main__.No at 0x7f345030a908>"
            ]
          },
          "metadata": {
            "tags": []
          },
          "execution_count": 28
        }
      ]
    },
    {
      "cell_type": "markdown",
      "metadata": {
        "id": "tzR8loi3LZmb"
      },
      "source": [
        "### Excluir do início"
      ]
    },
    {
      "cell_type": "code",
      "metadata": {
        "id": "VWc4ykRqLbyp",
        "colab": {
          "base_uri": "https://localhost:8080/",
          "height": 125
        },
        "outputId": "7b1b9bb2-2d72-4d5e-8cbc-d6e88a67fcb3"
      },
      "source": [
        "lista = ListaEncadeada()\n",
        "lista.insere_inicio(1)\n",
        "lista.insere_inicio(2)\n",
        "lista.insere_inicio(3)\n",
        "lista.insere_inicio(4)\n",
        "lista.insere_inicio(5)\n",
        "lista.mostrar()"
      ],
      "execution_count": null,
      "outputs": [
        {
          "output_type": "stream",
          "text": [
            "5\n",
            "4\n",
            "3\n",
            "2\n",
            "1\n"
          ],
          "name": "stdout"
        }
      ]
    },
    {
      "cell_type": "code",
      "metadata": {
        "id": "Li173cZ-Lljq",
        "colab": {
          "base_uri": "https://localhost:8080/",
          "height": 108
        },
        "outputId": "41d015a2-d3bb-44ac-e9ae-263f7e843e05"
      },
      "source": [
        "lista.excluir_inicio()\n",
        "lista.mostrar()"
      ],
      "execution_count": null,
      "outputs": [
        {
          "output_type": "stream",
          "text": [
            "4\n",
            "3\n",
            "2\n",
            "1\n"
          ],
          "name": "stdout"
        }
      ]
    },
    {
      "cell_type": "code",
      "metadata": {
        "id": "NOrIZg_vLt5p",
        "colab": {
          "base_uri": "https://localhost:8080/",
          "height": 72
        },
        "outputId": "47b4feed-4c7e-46e9-d90c-1a8f0360bbff"
      },
      "source": [
        "lista.excluir_inicio()\n",
        "lista.excluir_inicio()\n",
        "lista.mostrar()"
      ],
      "execution_count": null,
      "outputs": [
        {
          "output_type": "stream",
          "text": [
            "2\n",
            "1\n"
          ],
          "name": "stdout"
        }
      ]
    },
    {
      "cell_type": "code",
      "metadata": {
        "id": "BPD4KMg1Mj-g",
        "colab": {
          "base_uri": "https://localhost:8080/",
          "height": 55
        },
        "outputId": "bfe54ad7-33b2-458f-d8b0-82e210f1f3b4"
      },
      "source": [
        "lista.excluir_inicio()\n",
        "lista.mostrar()"
      ],
      "execution_count": null,
      "outputs": [
        {
          "output_type": "stream",
          "text": [
            "1\n"
          ],
          "name": "stdout"
        }
      ]
    },
    {
      "cell_type": "code",
      "metadata": {
        "id": "mLCaYeG-NIMp",
        "colab": {
          "base_uri": "https://localhost:8080/",
          "height": 55
        },
        "outputId": "46d02d5e-c287-4f7a-bc87-e651555d6e2d"
      },
      "source": [
        "lista.excluir_inicio()"
      ],
      "execution_count": null,
      "outputs": [
        {
          "output_type": "execute_result",
          "data": {
            "text/plain": [
              "<__main__.No at 0x7f3450279ba8>"
            ]
          },
          "metadata": {
            "tags": []
          },
          "execution_count": 62
        }
      ]
    },
    {
      "cell_type": "code",
      "metadata": {
        "id": "oNOjevwmNeb-",
        "colab": {
          "base_uri": "https://localhost:8080/",
          "height": 55
        },
        "outputId": "c6e1df16-da28-4452-f16a-6d53bfe98e08"
      },
      "source": [
        "lista.excluir_inicio()"
      ],
      "execution_count": null,
      "outputs": [
        {
          "output_type": "stream",
          "text": [
            "A lista está vazia\n"
          ],
          "name": "stdout"
        }
      ]
    },
    {
      "cell_type": "code",
      "metadata": {
        "id": "I8QuWu-lNNcP",
        "colab": {
          "base_uri": "https://localhost:8080/",
          "height": 55
        },
        "outputId": "66ef0f30-8f6e-4870-9301-59010e59c7a0"
      },
      "source": [
        "lista.mostrar()"
      ],
      "execution_count": null,
      "outputs": [
        {
          "output_type": "stream",
          "text": [
            "A lista está vazia\n"
          ],
          "name": "stdout"
        }
      ]
    },
    {
      "cell_type": "markdown",
      "metadata": {
        "id": "LofmEgAbO4LD"
      },
      "source": [
        "### Pesquisa"
      ]
    },
    {
      "cell_type": "code",
      "metadata": {
        "id": "OxKoytDYO6Iy",
        "colab": {
          "base_uri": "https://localhost:8080/",
          "height": 125
        },
        "outputId": "ed2efe58-b2b7-40b6-9f3d-310bfa0dfe5e"
      },
      "source": [
        "lista = ListaEncadeada()\n",
        "lista.insere_inicio(1)\n",
        "lista.insere_inicio(2)\n",
        "lista.insere_inicio(3)\n",
        "lista.insere_inicio(4)\n",
        "lista.insere_inicio(5)\n",
        "lista.mostrar()"
      ],
      "execution_count": null,
      "outputs": [
        {
          "output_type": "stream",
          "text": [
            "5\n",
            "4\n",
            "3\n",
            "2\n",
            "1\n"
          ],
          "name": "stdout"
        }
      ]
    },
    {
      "cell_type": "code",
      "metadata": {
        "id": "f67voOs_O-u2"
      },
      "source": [
        "pesquisa = lista.pesquisa(10)"
      ],
      "execution_count": null,
      "outputs": []
    },
    {
      "cell_type": "code",
      "metadata": {
        "id": "JKNBfeHYPGlf",
        "colab": {
          "base_uri": "https://localhost:8080/",
          "height": 55
        },
        "outputId": "41fdc8dd-d6a3-41c2-fa36-2f27fe12e068"
      },
      "source": [
        "if pesquisa != None:\n",
        "  print('Encontrado: ', pesquisa.valor)\n",
        "else:\n",
        "  print('Não encontrado')"
      ],
      "execution_count": null,
      "outputs": [
        {
          "output_type": "stream",
          "text": [
            "Não encontrado\n"
          ],
          "name": "stdout"
        }
      ]
    },
    {
      "cell_type": "markdown",
      "metadata": {
        "id": "SHJuBvBDTz_s"
      },
      "source": [
        "### Excluir posição"
      ]
    },
    {
      "cell_type": "code",
      "metadata": {
        "id": "pz3x6BSAT1_S",
        "colab": {
          "base_uri": "https://localhost:8080/",
          "height": 125
        },
        "outputId": "abeab463-902c-45de-b44c-509cf73bd846"
      },
      "source": [
        "lista = ListaEncadeada()\n",
        "lista.insere_inicio(1)\n",
        "lista.insere_inicio(2)\n",
        "lista.insere_inicio(3)\n",
        "lista.insere_inicio(4)\n",
        "lista.insere_inicio(5)\n",
        "lista.mostrar()"
      ],
      "execution_count": null,
      "outputs": [
        {
          "output_type": "stream",
          "text": [
            "5\n",
            "4\n",
            "3\n",
            "2\n",
            "1\n"
          ],
          "name": "stdout"
        }
      ]
    },
    {
      "cell_type": "code",
      "metadata": {
        "id": "unNglFt8T3pN",
        "colab": {
          "base_uri": "https://localhost:8080/",
          "height": 108
        },
        "outputId": "0ff51834-e1cc-4a4d-efae-f2ba083ff394"
      },
      "source": [
        "lista.excluir_posicao(3)\n",
        "lista.mostrar()"
      ],
      "execution_count": null,
      "outputs": [
        {
          "output_type": "stream",
          "text": [
            "5\n",
            "4\n",
            "2\n",
            "1\n"
          ],
          "name": "stdout"
        }
      ]
    },
    {
      "cell_type": "code",
      "metadata": {
        "id": "shc0-qOOT8JL",
        "colab": {
          "base_uri": "https://localhost:8080/",
          "height": 90
        },
        "outputId": "702c4f86-f77d-4aee-bceb-57b67844b81b"
      },
      "source": [
        "lista.excluir_posicao(1)\n",
        "lista.mostrar()"
      ],
      "execution_count": null,
      "outputs": [
        {
          "output_type": "stream",
          "text": [
            "5\n",
            "4\n",
            "2\n"
          ],
          "name": "stdout"
        }
      ]
    },
    {
      "cell_type": "code",
      "metadata": {
        "id": "IvwLq2PaT_7w",
        "colab": {
          "base_uri": "https://localhost:8080/",
          "height": 72
        },
        "outputId": "7195492e-77d1-41c7-e434-62ffa97d0d75"
      },
      "source": [
        "lista.excluir_posicao(5)\n",
        "lista.mostrar()"
      ],
      "execution_count": null,
      "outputs": [
        {
          "output_type": "stream",
          "text": [
            "4\n",
            "2\n"
          ],
          "name": "stdout"
        }
      ]
    }
  ]
}