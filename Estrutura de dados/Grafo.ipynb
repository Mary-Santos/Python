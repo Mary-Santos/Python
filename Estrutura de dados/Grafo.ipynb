{
  "nbformat": 4,
  "nbformat_minor": 0,
  "metadata": {
    "colab": {
      "name": "Grafo.ipynb",
      "provenance": []
    },
    "kernelspec": {
      "name": "python3",
      "display_name": "Python 3"
    }
  },
  "cells": [
    {
      "cell_type": "markdown",
      "metadata": {
        "id": "r2ZZwVzmSD9w"
      },
      "source": [
        "# Grafo"
      ]
    },
    {
      "cell_type": "code",
      "metadata": {
        "id": "rGIHqLD8WcrS"
      },
      "source": [
        "class Vertice:\n",
        "  def __init__(self, rotulo):\n",
        "    self.rotulo = rotulo\n",
        "    self.visitado = False\n",
        "    self.adjacentes = []\n",
        "\n",
        "  def adiciona_adjacente(self, adjacente):\n",
        "    self.adjacentes.append(adjacente)\n",
        "\n",
        "  def mostra_adjacentes(self):\n",
        "    for i in self.adjacentes:\n",
        "      print(i.vertice.rotulo, i.custo)"
      ],
      "execution_count": null,
      "outputs": []
    },
    {
      "cell_type": "code",
      "metadata": {
        "id": "olK_U1JyXeAe"
      },
      "source": [
        "class Adjacente:\n",
        "  def __init__(self, vertice, custo):\n",
        "    self.vertice = vertice\n",
        "    self.custo = custo"
      ],
      "execution_count": null,
      "outputs": []
    },
    {
      "cell_type": "code",
      "metadata": {
        "id": "04-TPfvlXrn0"
      },
      "source": [
        "class Grafo:\n",
        "  arad = Vertice('Arad')\n",
        "  zerind = Vertice('Zerind')\n",
        "  oradea = Vertice('Oradea')\n",
        "  sibiu = Vertice('Sibiu')\n",
        "  timisoara = Vertice('Timisoara')\n",
        "  lugoj = Vertice('Lugoj')\n",
        "  mehadia = Vertice('Mehadia')\n",
        "  dobreta = Vertice('Dobreta')\n",
        "  craiova = Vertice('Craiova')\n",
        "  rimnicu = Vertice('Rimnicu')\n",
        "  fagaras = Vertice('Fagaras')\n",
        "  pitesti = Vertice('Pitesti')\n",
        "  bucharest = Vertice('Bucharest')\n",
        "  giurgiu = Vertice('Giurgiu')\n",
        "\n",
        "  arad.adiciona_adjacente(Adjacente(zerind, 75))\n",
        "  arad.adiciona_adjacente(Adjacente(sibiu, 140))\n",
        "  arad.adiciona_adjacente(Adjacente(timisoara, 118))\n",
        "\n",
        "  zerind.adiciona_adjacente(Adjacente(arad, 75))\n",
        "  zerind.adiciona_adjacente(Adjacente(oradea, 71))\n",
        "\n",
        "  oradea.adiciona_adjacente(Adjacente(zerind, 71))\n",
        "  oradea.adiciona_adjacente(Adjacente(sibiu, 151))\n",
        "\n",
        "  sibiu.adiciona_adjacente(Adjacente(oradea, 151))\n",
        "  sibiu.adiciona_adjacente(Adjacente(arad, 140))\n",
        "  sibiu.adiciona_adjacente(Adjacente(fagaras, 99))\n",
        "  sibiu.adiciona_adjacente(Adjacente(rimnicu, 80))\n",
        "\n",
        "  timisoara.adiciona_adjacente(Adjacente(arad, 118))\n",
        "  timisoara.adiciona_adjacente(Adjacente(lugoj, 111))\n",
        "\n",
        "  lugoj.adiciona_adjacente(Adjacente(timisoara, 111))\n",
        "  lugoj.adiciona_adjacente(Adjacente(mehadia, 70))\n",
        "\n",
        "  mehadia.adiciona_adjacente(Adjacente(lugoj, 70))\n",
        "  mehadia.adiciona_adjacente(Adjacente(dobreta, 75))\n",
        "\n",
        "  dobreta.adiciona_adjacente(Adjacente(mehadia, 75))\n",
        "  dobreta.adiciona_adjacente(Adjacente(craiova, 120))\n",
        "\n",
        "  craiova.adiciona_adjacente(Adjacente(dobreta, 120))\n",
        "  craiova.adiciona_adjacente(Adjacente(pitesti, 138))\n",
        "  craiova.adiciona_adjacente(Adjacente(rimnicu, 146))\n",
        "\n",
        "  rimnicu.adiciona_adjacente(Adjacente(craiova, 146))\n",
        "  rimnicu.adiciona_adjacente(Adjacente(sibiu, 80))\n",
        "  rimnicu.adiciona_adjacente(Adjacente(pitesti, 97))\n",
        "\n",
        "  fagaras.adiciona_adjacente(Adjacente(sibiu, 99))\n",
        "  fagaras.adiciona_adjacente(Adjacente(bucharest, 211))\n",
        "\n",
        "  pitesti.adiciona_adjacente(Adjacente(rimnicu, 97))\n",
        "  pitesti.adiciona_adjacente(Adjacente(craiova, 138))\n",
        "  pitesti.adiciona_adjacente(Adjacente(bucharest, 101))\n",
        "\n",
        "  bucharest.adiciona_adjacente(Adjacente(fagaras, 211))\n",
        "  bucharest.adiciona_adjacente(Adjacente(pitesti, 101))\n",
        "  bucharest.adiciona_adjacente(Adjacente(giurgiu, 90))"
      ],
      "execution_count": null,
      "outputs": []
    },
    {
      "cell_type": "code",
      "metadata": {
        "id": "tW6iKSDpZLWD"
      },
      "source": [
        "grafo = Grafo()"
      ],
      "execution_count": null,
      "outputs": []
    },
    {
      "cell_type": "code",
      "metadata": {
        "id": "PAFvJG9FZOKQ",
        "colab": {
          "base_uri": "https://localhost:8080/",
          "height": 90
        },
        "outputId": "f4edc759-b516-4072-80b8-e0d7af9f2ab0"
      },
      "source": [
        "grafo.arad.mostra_adjacentes()"
      ],
      "execution_count": null,
      "outputs": [
        {
          "output_type": "stream",
          "text": [
            "Zerind 75\n",
            "Sibiu 140\n",
            "Timisoara 118\n"
          ],
          "name": "stdout"
        }
      ]
    },
    {
      "cell_type": "code",
      "metadata": {
        "id": "Sw5FEdTnZS6m",
        "colab": {
          "base_uri": "https://localhost:8080/",
          "height": 90
        },
        "outputId": "0087386e-44e5-4388-a877-ea1f332ec1f9"
      },
      "source": [
        "grafo.bucharest.mostra_adjacentes()"
      ],
      "execution_count": null,
      "outputs": [
        {
          "output_type": "stream",
          "text": [
            "Fagaras 211\n",
            "Pitesti 101\n",
            "Giurgiu 90\n"
          ],
          "name": "stdout"
        }
      ]
    },
    {
      "cell_type": "markdown",
      "metadata": {
        "id": "aIjre2EzLXB0"
      },
      "source": [
        "## Pilha"
      ]
    },
    {
      "cell_type": "code",
      "metadata": {
        "id": "bHnGlmCQLYoH"
      },
      "source": [
        "import numpy as np\n",
        "class Pilha:\n",
        "  def __init__(self, capacidade):\n",
        "    self.__capacidade = capacidade\n",
        "    self.__topo = -1\n",
        "\n",
        "    # Mudança do tipo do array\n",
        "    self.__valores = np.empty(self.__capacidade, dtype=object)\n",
        "\n",
        "  def __pilha_cheia(self):\n",
        "    if self.__topo == self.__capacidade - 1:\n",
        "      return True\n",
        "    else:\n",
        "      return False\n",
        "\n",
        "  def __pilha_vazia(self):\n",
        "    if self.__topo == -1:\n",
        "      return True\n",
        "    else:\n",
        "      return False\n",
        "\n",
        "  def empilhar(self, valor):\n",
        "    if self.__pilha_cheia():\n",
        "      print('A pilha está cheia')\n",
        "    else:\n",
        "      self.__topo += 1\n",
        "      self.__valores[self.__topo] = valor\n",
        "\n",
        "  def desempilhar(self):\n",
        "    # Retorna o elemento desempilhado\n",
        "    if self.__pilha_vazia():\n",
        "      print('A pilha está vazia')\n",
        "      return None\n",
        "    else:\n",
        "      temp = self.__valores[self.__topo]\n",
        "      self.__topo -= 1\n",
        "      return temp\n",
        "\n",
        "  def ver_topo(self):\n",
        "    if self.__topo != -1:\n",
        "      return self.__valores[self.__topo]\n",
        "    else:\n",
        "      return -1"
      ],
      "execution_count": null,
      "outputs": []
    },
    {
      "cell_type": "code",
      "metadata": {
        "id": "P9p9N7quMX0y"
      },
      "source": [
        "pilha = Pilha(5)\n",
        "pilha.empilhar(grafo.arad)\n",
        "pilha.empilhar(grafo.sibiu)\n",
        "pilha.empilhar(grafo.timisoara)"
      ],
      "execution_count": null,
      "outputs": []
    },
    {
      "cell_type": "code",
      "metadata": {
        "id": "quKMw6s9Mugl",
        "colab": {
          "base_uri": "https://localhost:8080/",
          "height": 57
        },
        "outputId": "250cc13c-c4ac-4576-bd73-3e96a35e46a3"
      },
      "source": [
        "pilha.ver_topo().rotulo"
      ],
      "execution_count": null,
      "outputs": [
        {
          "output_type": "execute_result",
          "data": {
            "application/vnd.google.colaboratory.intrinsic+json": {
              "type": "string"
            },
            "text/plain": [
              "'Timisoara'"
            ]
          },
          "metadata": {
            "tags": []
          },
          "execution_count": 21
        }
      ]
    },
    {
      "cell_type": "code",
      "metadata": {
        "id": "JR_TZIb-QmN_",
        "colab": {
          "base_uri": "https://localhost:8080/",
          "height": 57
        },
        "outputId": "3e8b28ce-81f3-45dd-bedd-167a1f6c2bf0"
      },
      "source": [
        "pilha.desempilhar().rotulo"
      ],
      "execution_count": null,
      "outputs": [
        {
          "output_type": "execute_result",
          "data": {
            "application/vnd.google.colaboratory.intrinsic+json": {
              "type": "string"
            },
            "text/plain": [
              "'Timisoara'"
            ]
          },
          "metadata": {
            "tags": []
          },
          "execution_count": 22
        }
      ]
    },
    {
      "cell_type": "code",
      "metadata": {
        "id": "PvwOp1PrM0PB",
        "colab": {
          "base_uri": "https://localhost:8080/",
          "height": 57
        },
        "outputId": "61e16299-7e55-468e-c1f5-b7e127dc6735"
      },
      "source": [
        "pilha.desempilhar()\n",
        "pilha.ver_topo().rotulo"
      ],
      "execution_count": null,
      "outputs": [
        {
          "output_type": "execute_result",
          "data": {
            "application/vnd.google.colaboratory.intrinsic+json": {
              "type": "string"
            },
            "text/plain": [
              "'Arad'"
            ]
          },
          "metadata": {
            "tags": []
          },
          "execution_count": 23
        }
      ]
    },
    {
      "cell_type": "markdown",
      "metadata": {
        "id": "Lmvbw_KeNYvX"
      },
      "source": [
        "## Busca em profundidade"
      ]
    },
    {
      "cell_type": "code",
      "metadata": {
        "id": "m0f_tdRdu68J"
      },
      "source": [
        "class BuscaProfundidade:\n",
        "  def __init__(self, inicio):\n",
        "    self.inicio = inicio\n",
        "    self.inicio.visitado = True\n",
        "    self.pilha = Pilha(20)\n",
        "    self.pilha.empilhar(inicio)\n",
        "\n",
        "  def buscar(self):\n",
        "    topo = self.pilha.ver_topo()\n",
        "    print('Topo: {}'.format(topo.rotulo))\n",
        "    for adjacente in topo.adjacentes:\n",
        "      print('Topo é {}. {} já foi visitada? {}'.format(topo.rotulo, adjacente.vertice.rotulo, adjacente.vertice.visitado))\n",
        "      if adjacente.vertice.visitado == False:\n",
        "        adjacente.vertice.visitado = True\n",
        "        self.pilha.empilhar(adjacente.vertice)\n",
        "        print('Empilhou {}'.format(adjacente.vertice.rotulo))\n",
        "        self.buscar()\n",
        "    print('Desempilhou: {}'.format(self.pilha.desempilhar().rotulo))\n",
        "    print()"
      ],
      "execution_count": null,
      "outputs": []
    },
    {
      "cell_type": "code",
      "metadata": {
        "id": "aHDSzwC_wqM4",
        "colab": {
          "base_uri": "https://localhost:8080/",
          "height": 1000
        },
        "outputId": "53dad56d-1641-4d6b-f610-4c5ca5b3e499"
      },
      "source": [
        "busca_profundidade = BuscaProfundidade(grafo.arad)\n",
        "busca_profundidade.buscar()"
      ],
      "execution_count": null,
      "outputs": [
        {
          "output_type": "stream",
          "text": [
            "Topo: Arad\n",
            "Topo é Arad. Zerind já foi visitada? False\n",
            "Empilhou Zerind\n",
            "Topo: Zerind\n",
            "Topo é Zerind. Arad já foi visitada? True\n",
            "Topo é Zerind. Oradea já foi visitada? False\n",
            "Empilhou Oradea\n",
            "Topo: Oradea\n",
            "Topo é Oradea. Zerind já foi visitada? True\n",
            "Topo é Oradea. Sibiu já foi visitada? False\n",
            "Empilhou Sibiu\n",
            "Topo: Sibiu\n",
            "Topo é Sibiu. Oradea já foi visitada? True\n",
            "Topo é Sibiu. Arad já foi visitada? True\n",
            "Topo é Sibiu. Fagaras já foi visitada? False\n",
            "Empilhou Fagaras\n",
            "Topo: Fagaras\n",
            "Topo é Fagaras. Sibiu já foi visitada? True\n",
            "Topo é Fagaras. Bucharest já foi visitada? False\n",
            "Empilhou Bucharest\n",
            "Topo: Bucharest\n",
            "Topo é Bucharest. Fagaras já foi visitada? True\n",
            "Topo é Bucharest. Pitesti já foi visitada? False\n",
            "Empilhou Pitesti\n",
            "Topo: Pitesti\n",
            "Topo é Pitesti. Rimnicu já foi visitada? False\n",
            "Empilhou Rimnicu\n",
            "Topo: Rimnicu\n",
            "Topo é Rimnicu. Craiova já foi visitada? False\n",
            "Empilhou Craiova\n",
            "Topo: Craiova\n",
            "Topo é Craiova. Dobreta já foi visitada? False\n",
            "Empilhou Dobreta\n",
            "Topo: Dobreta\n",
            "Topo é Dobreta. Mehadia já foi visitada? False\n",
            "Empilhou Mehadia\n",
            "Topo: Mehadia\n",
            "Topo é Mehadia. Lugoj já foi visitada? False\n",
            "Empilhou Lugoj\n",
            "Topo: Lugoj\n",
            "Topo é Lugoj. Timisoara já foi visitada? False\n",
            "Empilhou Timisoara\n",
            "Topo: Timisoara\n",
            "Topo é Timisoara. Arad já foi visitada? True\n",
            "Topo é Timisoara. Lugoj já foi visitada? True\n",
            "Desempilhou: Timisoara\n",
            "\n",
            "Topo é Lugoj. Mehadia já foi visitada? True\n",
            "Desempilhou: Lugoj\n",
            "\n",
            "Topo é Mehadia. Dobreta já foi visitada? True\n",
            "Desempilhou: Mehadia\n",
            "\n",
            "Topo é Dobreta. Craiova já foi visitada? True\n",
            "Desempilhou: Dobreta\n",
            "\n",
            "Topo é Craiova. Pitesti já foi visitada? True\n",
            "Topo é Craiova. Rimnicu já foi visitada? True\n",
            "Desempilhou: Craiova\n",
            "\n",
            "Topo é Rimnicu. Sibiu já foi visitada? True\n",
            "Topo é Rimnicu. Pitesti já foi visitada? True\n",
            "Desempilhou: Rimnicu\n",
            "\n",
            "Topo é Pitesti. Craiova já foi visitada? True\n",
            "Topo é Pitesti. Bucharest já foi visitada? True\n",
            "Desempilhou: Pitesti\n",
            "\n",
            "Topo é Bucharest. Giurgiu já foi visitada? False\n",
            "Empilhou Giurgiu\n",
            "Topo: Giurgiu\n",
            "Desempilhou: Giurgiu\n",
            "\n",
            "Desempilhou: Bucharest\n",
            "\n",
            "Desempilhou: Fagaras\n",
            "\n",
            "Topo é Sibiu. Rimnicu já foi visitada? True\n",
            "Desempilhou: Sibiu\n",
            "\n",
            "Desempilhou: Oradea\n",
            "\n",
            "Desempilhou: Zerind\n",
            "\n",
            "Topo é Arad. Sibiu já foi visitada? True\n",
            "Topo é Arad. Timisoara já foi visitada? True\n",
            "Desempilhou: Arad\n",
            "\n"
          ],
          "name": "stdout"
        }
      ]
    },
    {
      "cell_type": "code",
      "metadata": {
        "id": "CJZEopFxxnpD",
        "colab": {
          "base_uri": "https://localhost:8080/",
          "height": 55
        },
        "outputId": "c363ab0b-c600-4037-9507-e12fe54a3e58"
      },
      "source": [
        "busca_profundidade.pilha.ver_topo()"
      ],
      "execution_count": null,
      "outputs": [
        {
          "output_type": "execute_result",
          "data": {
            "text/plain": [
              "-1"
            ]
          },
          "metadata": {
            "tags": []
          },
          "execution_count": 26
        }
      ]
    },
    {
      "cell_type": "markdown",
      "metadata": {
        "id": "ybOXinjWgFej"
      },
      "source": [
        "## Fila"
      ]
    },
    {
      "cell_type": "code",
      "metadata": {
        "id": "W3_pc-6QgG6C"
      },
      "source": [
        "import numpy as np\n",
        "class FilaCircular:\n",
        "  \n",
        "  def __init__(self, capacidade):\n",
        "    self.capacidade = capacidade\n",
        "    self.inicio = 0\n",
        "    self.final = -1\n",
        "    self.numero_elementos = 0\n",
        "    \n",
        "    # Mudança no tipo de dado\n",
        "    self.valores = np.empty(self.capacidade, dtype=object)\n",
        "\n",
        "  def __fila_vazia(self):\n",
        "    return self.numero_elementos == 0\n",
        "\n",
        "  def __fila_cheia(self):\n",
        "    return self.numero_elementos == self.capacidade\n",
        "\n",
        "  def enfileirar(self, valor):\n",
        "    if self.__fila_cheia():\n",
        "      print('A fila está cheia')\n",
        "      return\n",
        "    \n",
        "    if self.final == self.capacidade - 1:\n",
        "      self.final = -1\n",
        "    self.final += 1\n",
        "    self.valores[self.final] = valor\n",
        "    self.numero_elementos += 1\n",
        "\n",
        "  def desenfileirar(self):\n",
        "    if self.__fila_vazia():\n",
        "      print('A fila já está vazia')\n",
        "      return\n",
        "\n",
        "    temp = self.valores[self.inicio]\n",
        "    self.inicio += 1\n",
        "    if self.inicio == self.capacidade - 1:\n",
        "      self.inicio = 0\n",
        "    self.numero_elementos -= 1\n",
        "    return temp\n",
        "\n",
        "  def primeiro(self):\n",
        "    if self.__fila_vazia():\n",
        "      return -1\n",
        "    return self.valores[self.inicio]"
      ],
      "execution_count": null,
      "outputs": []
    },
    {
      "cell_type": "code",
      "metadata": {
        "id": "ibWN7A9WgpvU"
      },
      "source": [
        "fila = FilaCircular(20)"
      ],
      "execution_count": null,
      "outputs": []
    },
    {
      "cell_type": "code",
      "metadata": {
        "id": "7vDZ-OiJgwbX"
      },
      "source": [
        "fila.enfileirar(grafo.arad)\n",
        "fila.enfileirar(grafo.bucharest)\n",
        "fila.enfileirar(grafo.fagaras)"
      ],
      "execution_count": null,
      "outputs": []
    },
    {
      "cell_type": "code",
      "metadata": {
        "id": "JbiGsCdTg4Jr",
        "colab": {
          "base_uri": "https://localhost:8080/",
          "height": 57
        },
        "outputId": "a44916d1-72db-45b3-8544-43e726e401dc"
      },
      "source": [
        "fila.primeiro().rotulo"
      ],
      "execution_count": null,
      "outputs": [
        {
          "output_type": "execute_result",
          "data": {
            "application/vnd.google.colaboratory.intrinsic+json": {
              "type": "string"
            },
            "text/plain": [
              "'Arad'"
            ]
          },
          "metadata": {
            "tags": []
          },
          "execution_count": 35
        }
      ]
    },
    {
      "cell_type": "code",
      "metadata": {
        "id": "xNeFkPpcg_IM",
        "colab": {
          "base_uri": "https://localhost:8080/",
          "height": 57
        },
        "outputId": "041998d2-3ea5-4217-fb3c-f6fcbbf0cf78"
      },
      "source": [
        "fila.desenfileirar().rotulo"
      ],
      "execution_count": null,
      "outputs": [
        {
          "output_type": "execute_result",
          "data": {
            "application/vnd.google.colaboratory.intrinsic+json": {
              "type": "string"
            },
            "text/plain": [
              "'Arad'"
            ]
          },
          "metadata": {
            "tags": []
          },
          "execution_count": 36
        }
      ]
    },
    {
      "cell_type": "code",
      "metadata": {
        "id": "HATGtcG4hDM2",
        "colab": {
          "base_uri": "https://localhost:8080/",
          "height": 57
        },
        "outputId": "a5dc378c-d155-41b0-c7bb-e283f1a96209"
      },
      "source": [
        "fila.primeiro().rotulo"
      ],
      "execution_count": null,
      "outputs": [
        {
          "output_type": "execute_result",
          "data": {
            "application/vnd.google.colaboratory.intrinsic+json": {
              "type": "string"
            },
            "text/plain": [
              "'Bucharest'"
            ]
          },
          "metadata": {
            "tags": []
          },
          "execution_count": 37
        }
      ]
    },
    {
      "cell_type": "markdown",
      "metadata": {
        "id": "2h1xAhvthIlu"
      },
      "source": [
        "## Busca em largura"
      ]
    },
    {
      "cell_type": "code",
      "metadata": {
        "id": "0hUVQZkW5VLG"
      },
      "source": [
        "class BuscaLargura:\n",
        "  def __init__(self, inicio):\n",
        "    self.inicio = inicio\n",
        "    self.inicio.visitado = True\n",
        "    self.fila = FilaCircular(20)\n",
        "    self.fila.enfileirar(inicio)\n",
        "\n",
        "  def buscar(self):\n",
        "    primeiro = self.fila.primeiro()\n",
        "    print('-------')\n",
        "    print('Primeiro da fila: {}'.format(primeiro.rotulo))\n",
        "    temp = self.fila.desenfileirar()\n",
        "    print('Desenfileirou: {}'.format(temp.rotulo))\n",
        "    for adjacente in primeiro.adjacentes:\n",
        "      print('Primeiro era {}. {} já foi visitado? {}'.format(temp.rotulo, adjacente.vertice.rotulo, adjacente.vertice.visitado))\n",
        "      if adjacente.vertice.visitado == False:\n",
        "        adjacente.vertice.visitado = True\n",
        "        self.fila.enfileirar(adjacente.vertice)\n",
        "        print('Enfileirou: {}'.format(adjacente.vertice.rotulo))\n",
        "    if self.fila.numero_elementos > 0:\n",
        "      self.buscar()"
      ],
      "execution_count": null,
      "outputs": []
    },
    {
      "cell_type": "code",
      "metadata": {
        "id": "eO_lM17P68vV",
        "colab": {
          "base_uri": "https://localhost:8080/",
          "height": 1000
        },
        "outputId": "8ac45a1f-b107-4703-c648-214ee354db9f"
      },
      "source": [
        "busca_largura = BuscaLargura(grafo.arad)\n",
        "busca_largura.buscar()"
      ],
      "execution_count": null,
      "outputs": [
        {
          "output_type": "stream",
          "text": [
            "-------\n",
            "Primeiro da fila: Arad\n",
            "Desenfileirou: Arad\n",
            "Primeiro era Arad. Zerind já foi visitado? False\n",
            "Enfileirou: Zerind\n",
            "Primeiro era Arad. Sibiu já foi visitado? False\n",
            "Enfileirou: Sibiu\n",
            "Primeiro era Arad. Timisoara já foi visitado? False\n",
            "Enfileirou: Timisoara\n",
            "-------\n",
            "Primeiro da fila: Zerind\n",
            "Desenfileirou: Zerind\n",
            "Primeiro era Zerind. Arad já foi visitado? True\n",
            "Primeiro era Zerind. Oradea já foi visitado? False\n",
            "Enfileirou: Oradea\n",
            "-------\n",
            "Primeiro da fila: Sibiu\n",
            "Desenfileirou: Sibiu\n",
            "Primeiro era Sibiu. Oradea já foi visitado? True\n",
            "Primeiro era Sibiu. Arad já foi visitado? True\n",
            "Primeiro era Sibiu. Fagaras já foi visitado? False\n",
            "Enfileirou: Fagaras\n",
            "Primeiro era Sibiu. Rimnicu já foi visitado? False\n",
            "Enfileirou: Rimnicu\n",
            "-------\n",
            "Primeiro da fila: Timisoara\n",
            "Desenfileirou: Timisoara\n",
            "Primeiro era Timisoara. Arad já foi visitado? True\n",
            "Primeiro era Timisoara. Lugoj já foi visitado? False\n",
            "Enfileirou: Lugoj\n",
            "-------\n",
            "Primeiro da fila: Oradea\n",
            "Desenfileirou: Oradea\n",
            "Primeiro era Oradea. Zerind já foi visitado? True\n",
            "Primeiro era Oradea. Sibiu já foi visitado? True\n",
            "-------\n",
            "Primeiro da fila: Fagaras\n",
            "Desenfileirou: Fagaras\n",
            "Primeiro era Fagaras. Sibiu já foi visitado? True\n",
            "Primeiro era Fagaras. Bucharest já foi visitado? False\n",
            "Enfileirou: Bucharest\n",
            "-------\n",
            "Primeiro da fila: Rimnicu\n",
            "Desenfileirou: Rimnicu\n",
            "Primeiro era Rimnicu. Craiova já foi visitado? False\n",
            "Enfileirou: Craiova\n",
            "Primeiro era Rimnicu. Sibiu já foi visitado? True\n",
            "Primeiro era Rimnicu. Pitesti já foi visitado? False\n",
            "Enfileirou: Pitesti\n",
            "-------\n",
            "Primeiro da fila: Lugoj\n",
            "Desenfileirou: Lugoj\n",
            "Primeiro era Lugoj. Timisoara já foi visitado? True\n",
            "Primeiro era Lugoj. Mehadia já foi visitado? False\n",
            "Enfileirou: Mehadia\n",
            "-------\n",
            "Primeiro da fila: Bucharest\n",
            "Desenfileirou: Bucharest\n",
            "Primeiro era Bucharest. Fagaras já foi visitado? True\n",
            "Primeiro era Bucharest. Pitesti já foi visitado? True\n",
            "Primeiro era Bucharest. Giurgiu já foi visitado? False\n",
            "Enfileirou: Giurgiu\n",
            "-------\n",
            "Primeiro da fila: Craiova\n",
            "Desenfileirou: Craiova\n",
            "Primeiro era Craiova. Dobreta já foi visitado? False\n",
            "Enfileirou: Dobreta\n",
            "Primeiro era Craiova. Pitesti já foi visitado? True\n",
            "Primeiro era Craiova. Rimnicu já foi visitado? True\n",
            "-------\n",
            "Primeiro da fila: Pitesti\n",
            "Desenfileirou: Pitesti\n",
            "Primeiro era Pitesti. Rimnicu já foi visitado? True\n",
            "Primeiro era Pitesti. Craiova já foi visitado? True\n",
            "Primeiro era Pitesti. Bucharest já foi visitado? True\n",
            "-------\n",
            "Primeiro da fila: Mehadia\n",
            "Desenfileirou: Mehadia\n",
            "Primeiro era Mehadia. Lugoj já foi visitado? True\n",
            "Primeiro era Mehadia. Dobreta já foi visitado? True\n",
            "-------\n",
            "Primeiro da fila: Giurgiu\n",
            "Desenfileirou: Giurgiu\n",
            "-------\n",
            "Primeiro da fila: Dobreta\n",
            "Desenfileirou: Dobreta\n",
            "Primeiro era Dobreta. Mehadia já foi visitado? True\n",
            "Primeiro era Dobreta. Craiova já foi visitado? True\n"
          ],
          "name": "stdout"
        }
      ]
    },
    {
      "cell_type": "code",
      "metadata": {
        "id": "2Ulz5-PG7Ztv",
        "colab": {
          "base_uri": "https://localhost:8080/",
          "height": 55
        },
        "outputId": "cbed8cad-f376-44f8-c637-d170da91234e"
      },
      "source": [
        "busca_largura.fila.numero_elementos"
      ],
      "execution_count": null,
      "outputs": [
        {
          "output_type": "execute_result",
          "data": {
            "text/plain": [
              "0"
            ]
          },
          "metadata": {
            "tags": []
          },
          "execution_count": 40
        }
      ]
    }
  ]
}