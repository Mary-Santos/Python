{
  "nbformat": 4,
  "nbformat_minor": 0,
  "metadata": {
    "colab": {
      "name": "Pilha validador expressão.ipynb",
      "provenance": []
    },
    "kernelspec": {
      "name": "python3",
      "display_name": "Python 3"
    }
  },
  "cells": [
    {
      "cell_type": "markdown",
      "metadata": {
        "id": "3L3hMZxPloS9"
      },
      "source": [
        "# Pilha"
      ]
    },
    {
      "cell_type": "code",
      "metadata": {
        "id": "2IUgpxk2pQW1"
      },
      "source": [
        "import numpy as np"
      ],
      "execution_count": null,
      "outputs": []
    },
    {
      "cell_type": "code",
      "metadata": {
        "id": "P7m0dnXelSKq"
      },
      "source": [
        "class Pilha:\n",
        "  def __init__(self, capacidade):\n",
        "    self.capacidade = capacidade\n",
        "    self.topo = -1\n",
        "    # Array de chars\n",
        "    self.valores = np.chararray(self.capacidade, unicode = True)\n",
        "\n",
        "  def __pilha_cheia(self):\n",
        "    if self.topo == self.capacidade - 1:\n",
        "      return True\n",
        "    else:\n",
        "      return False\n",
        "\n",
        "  # Mudança para método público\n",
        "  def pilha_vazia(self):\n",
        "    if self.topo == -1:\n",
        "      return True\n",
        "    else:\n",
        "      return False\n",
        "\n",
        "  def empilhar(self, valor):\n",
        "    if self.__pilha_cheia():\n",
        "      print('A pilha está cheia')\n",
        "    else:\n",
        "      self.topo += 1\n",
        "      self.valores[self.topo] = valor\n",
        "\n",
        "  # Retorno do valor desempilhado\n",
        "  def desempilhar(self):\n",
        "    if self.pilha_vazia():\n",
        "      print('A pilha está vazia')\n",
        "      return -1\n",
        "    else:\n",
        "      valor = self.valores[self.topo]\n",
        "      self.topo -= 1\n",
        "      return valor\n",
        "\n",
        "  def ver_topo(self):\n",
        "    if self.topo != -1:\n",
        "      return self.valores[self.topo]\n",
        "    else:\n",
        "      return -1"
      ],
      "execution_count": null,
      "outputs": []
    },
    {
      "cell_type": "code",
      "metadata": {
        "id": "FbPXZwAKpWPs"
      },
      "source": [
        "# c[d] \n",
        "# a{b[c]d}e \n",
        "# a{b(c]d}e \n",
        "# a[b{c}d]e} \n",
        "# a{b(c) "
      ],
      "execution_count": null,
      "outputs": []
    },
    {
      "cell_type": "code",
      "metadata": {
        "id": "XKQDm364UiWe",
        "colab": {
          "base_uri": "https://localhost:8080/",
          "height": 55
        },
        "outputId": "f0cb2464-e6b2-4654-c0ff-448e4668c20d"
      },
      "source": [
        "expressao = str(input('Digite uma expressão: '))\n",
        "pilha = Pilha(len(expressao))"
      ],
      "execution_count": null,
      "outputs": [
        {
          "output_type": "stream",
          "text": [
            "Digite uma expressão: a(b[c{d}])()[{[]}]\n"
          ],
          "name": "stdout"
        }
      ]
    },
    {
      "cell_type": "code",
      "metadata": {
        "id": "L705vNLBbs5V"
      },
      "source": [
        "for i in range(len(expressao)):\n",
        "  ch = expressao[i]\n",
        "  if ch == '{' or ch == '[' or ch == '(':\n",
        "    pilha.empilhar(ch)\n",
        "  elif ch == '}' or ch == ']' or ch == ')':\n",
        "    if not pilha.pilha_vazia():\n",
        "      chx = str(pilha.desempilhar())\n",
        "      if (ch == '}' and chx != '{') or (ch == ']' and chx != '[') or (ch == ')' and chx != '('):\n",
        "        print('Erro: ', ch, ' na posição ', i)\n",
        "        break\n",
        "    else:\n",
        "        print('Erro: ', ch, ' na posição ', i)\n",
        "if not pilha.pilha_vazia():\n",
        "    print('Erro!')"
      ],
      "execution_count": null,
      "outputs": []
    }
  ]
}