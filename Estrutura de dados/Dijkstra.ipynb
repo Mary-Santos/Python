{
  "nbformat": 4,
  "nbformat_minor": 0,
  "metadata": {
    "colab": {
      "name": "Dijkstra.ipynb",
      "provenance": [],
      "collapsed_sections": []
    },
    "kernelspec": {
      "name": "python3",
      "display_name": "Python 3"
    }
  },
  "cells": [
    {
      "cell_type": "markdown",
      "metadata": {
        "id": "Ibkplre4h5f9"
      },
      "source": [
        "# Caminho mais curso com o algoritmo de Dijkstra"
      ]
    },
    {
      "cell_type": "markdown",
      "metadata": {
        "id": "xwznbReAxTgV"
      },
      "source": [
        "## Estrutura do grafo - matriz de adjacência"
      ]
    },
    {
      "cell_type": "code",
      "metadata": {
        "id": "JKxHpUbWwZAD"
      },
      "source": [
        "import numpy as np"
      ],
      "execution_count": null,
      "outputs": []
    },
    {
      "cell_type": "code",
      "metadata": {
        "id": "oqd-QV_9wbOo"
      },
      "source": [
        "vertices = {'arad': 0, 'zerind': 1, 'oradea': 2, 'sibiu': 3, 'timisoara': 4,\n",
        "            'lugoj': 5, 'mehadia': 6, 'dobreta': 7, 'craiova': 8, 'rimnicu': 9,\n",
        "            'fagaras': 10, 'pitesti': 11, 'bucharest': 12, 'giurgiu': 13}"
      ],
      "execution_count": null,
      "outputs": []
    },
    {
      "cell_type": "code",
      "metadata": {
        "id": "z4UaaBlKwzYW",
        "colab": {
          "base_uri": "https://localhost:8080/",
          "height": 55
        },
        "outputId": "505ddcce-06c1-45f2-f9db-fe20a7707dc8"
      },
      "source": [
        "vertices['arad'], vertices['pitesti'], vertices['lugoj']"
      ],
      "execution_count": null,
      "outputs": [
        {
          "output_type": "execute_result",
          "data": {
            "text/plain": [
              "(0, 11, 5)"
            ]
          },
          "metadata": {
            "tags": []
          },
          "execution_count": 3
        }
      ]
    },
    {
      "cell_type": "code",
      "metadata": {
        "id": "HpWhJiYSxFW8",
        "colab": {
          "base_uri": "https://localhost:8080/",
          "height": 55
        },
        "outputId": "0b9b865a-8021-40b4-903e-b275fc68d3ea"
      },
      "source": [
        "len(vertices)"
      ],
      "execution_count": null,
      "outputs": [
        {
          "output_type": "execute_result",
          "data": {
            "text/plain": [
              "14"
            ]
          },
          "metadata": {
            "tags": []
          },
          "execution_count": 4
        }
      ]
    },
    {
      "cell_type": "code",
      "metadata": {
        "id": "H0sJ0PbnxIyc"
      },
      "source": [
        "cidades = {0: 'arad', 1: 'zerind', 2: 'oradea', 3: 'sibiu', 4: 'timisoara',\n",
        "           5: 'lugoj', 6: 'mehadia', 7: 'dobreta', 8: 'craiova', 9: 'rimnicu',\n",
        "           10: 'fagaras', 11: 'pitesti', 12: 'bucharest', 13: 'giurgiu'}"
      ],
      "execution_count": null,
      "outputs": []
    },
    {
      "cell_type": "code",
      "metadata": {
        "id": "avdcFzg8xTmc",
        "colab": {
          "base_uri": "https://localhost:8080/",
          "height": 55
        },
        "outputId": "55f8f5ce-1a5e-40a1-e08e-72c494284d6d"
      },
      "source": [
        "cidades[0], cidades[12]"
      ],
      "execution_count": null,
      "outputs": [
        {
          "output_type": "execute_result",
          "data": {
            "text/plain": [
              "('arad', 'bucharest')"
            ]
          },
          "metadata": {
            "tags": []
          },
          "execution_count": 6
        }
      ]
    },
    {
      "cell_type": "code",
      "metadata": {
        "id": "vQUCA3eexaRC"
      },
      "source": [
        "arestas = np.zeros([len(cidades), len(cidades)], dtype=int)"
      ],
      "execution_count": null,
      "outputs": []
    },
    {
      "cell_type": "code",
      "metadata": {
        "id": "aj900LRjxqMr",
        "colab": {
          "base_uri": "https://localhost:8080/",
          "height": 55
        },
        "outputId": "d19de60c-bb18-409f-8494-b95ab798ec2a"
      },
      "source": [
        "arestas.shape"
      ],
      "execution_count": null,
      "outputs": [
        {
          "output_type": "execute_result",
          "data": {
            "text/plain": [
              "(14, 14)"
            ]
          },
          "metadata": {
            "tags": []
          },
          "execution_count": 8
        }
      ]
    },
    {
      "cell_type": "code",
      "metadata": {
        "id": "mR_ihHnNxswU",
        "colab": {
          "base_uri": "https://localhost:8080/",
          "height": 530
        },
        "outputId": "427b311c-1b40-46cc-efb6-7769e74a0690"
      },
      "source": [
        "arestas"
      ],
      "execution_count": null,
      "outputs": [
        {
          "output_type": "execute_result",
          "data": {
            "text/plain": [
              "array([[  0,  75,   0, 140, 118,   0,   0,   0,   0,   0,   0,   0,   0,\n",
              "          0],\n",
              "       [ 75,   0,  71,   0,   0,   0,   0,   0,   0,   0,   0,   0,   0,\n",
              "          0],\n",
              "       [  0,  71,   0, 151,   0,   0,   0,   0,   0,   0,   0,   0,   0,\n",
              "          0],\n",
              "       [140,   0, 151,   0,   0,   0,   0,   0,   0,  80,  99,   0,   0,\n",
              "          0],\n",
              "       [118,   0,   0,   0,   0, 111,   0,   0,   0,   0,   0,   0,   0,\n",
              "          0],\n",
              "       [  0,   0,   0,   0, 111,   0,  70,   0,   0,   0,   0,   0,   0,\n",
              "          0],\n",
              "       [  0,   0,   0,   0,   0,  70,   0,  75,   0,   0,   0,   0,   0,\n",
              "          0],\n",
              "       [  0,   0,   0,   0,   0,   0,  75,   0, 120,   0,   0,   0,   0,\n",
              "          0],\n",
              "       [  0,   0,   0,   0,   0,   0,   0, 120,   0, 146,   0, 138,   0,\n",
              "          0],\n",
              "       [  0,   0,   0,  80,   0,   0,   0,   0, 146,   0,   0,  97,   0,\n",
              "          0],\n",
              "       [  0,   0,   0,  99,   0,   0,   0,   0,   0,   0,   0,   0, 211,\n",
              "          0],\n",
              "       [  0,   0,   0,   0,   0,   0,   0,   0, 138,  97,   0,   0, 101,\n",
              "          0],\n",
              "       [  0,   0,   0,   0,   0,   0,   0,   0,   0,   0, 211, 101,   0,\n",
              "         90],\n",
              "       [  0,   0,   0,   0,   0,   0,   0,   0,   0,   0,   0,   0,   0,\n",
              "          0]])"
            ]
          },
          "metadata": {
            "tags": []
          },
          "execution_count": 14
        }
      ]
    },
    {
      "cell_type": "code",
      "metadata": {
        "id": "JfVrXF6kxyvJ",
        "colab": {
          "base_uri": "https://localhost:8080/",
          "height": 55
        },
        "outputId": "af37fb2d-c95b-4d63-a31f-535c1f14d5ef"
      },
      "source": [
        "vertices['arad'], vertices['zerind'], vertices['sibiu'], vertices['timisoara']"
      ],
      "execution_count": null,
      "outputs": [
        {
          "output_type": "execute_result",
          "data": {
            "text/plain": [
              "(0, 1, 3, 4)"
            ]
          },
          "metadata": {
            "tags": []
          },
          "execution_count": 9
        }
      ]
    },
    {
      "cell_type": "code",
      "metadata": {
        "id": "zczWU6t1xwfG"
      },
      "source": [
        "arestas[vertices['arad'], [vertices['zerind']]] = 75\n",
        "arestas[vertices['arad'], [vertices['sibiu']]] = 140\n",
        "arestas[vertices['arad'], [vertices['timisoara']]] = 118"
      ],
      "execution_count": null,
      "outputs": []
    },
    {
      "cell_type": "code",
      "metadata": {
        "id": "zaGsfNozyaCy"
      },
      "source": [
        "arestas[vertices['zerind'],[vertices['arad']]] = 75\n",
        "arestas[vertices['zerind'],[vertices['oradea']]] = 71\n",
        "\n",
        "arestas[vertices['oradea'],[vertices['zerind']]] = 71\n",
        "arestas[vertices['oradea'],[vertices['sibiu']]] = 151\n",
        "\n",
        "arestas[vertices['sibiu'],[vertices['oradea']]] = 151\n",
        "arestas[vertices['sibiu'],[vertices['arad']]] = 140\n",
        "arestas[vertices['sibiu'],[vertices['fagaras']]] = 99\n",
        "arestas[vertices['sibiu'],[vertices['rimnicu']]] = 80\n",
        "\n",
        "arestas[vertices['timisoara'],[vertices['arad']]] = 118\n",
        "arestas[vertices['timisoara'],[vertices['lugoj']]] = 111\n",
        "\n",
        "arestas[vertices['lugoj'],[vertices['timisoara']]] = 111\n",
        "arestas[vertices['lugoj'],[vertices['mehadia']]] = 70\n",
        "\n",
        "arestas[vertices['mehadia'],[vertices['lugoj']]] = 70\n",
        "arestas[vertices['mehadia'],[vertices['dobreta']]] = 75\n",
        "\n",
        "arestas[vertices['dobreta'],[vertices['mehadia']]] = 75\n",
        "arestas[vertices['dobreta'],[vertices['craiova']]] = 120\n",
        "\n",
        "arestas[vertices['craiova'],[vertices['dobreta']]] = 120\n",
        "arestas[vertices['craiova'],[vertices['pitesti']]] = 138\n",
        "arestas[vertices['craiova'],[vertices['rimnicu']]] = 146\n",
        "\n",
        "arestas[vertices['rimnicu'],[vertices['craiova']]] = 146\n",
        "arestas[vertices['rimnicu'],[vertices['sibiu']]] = 80\n",
        "arestas[vertices['rimnicu'],[vertices['pitesti']]] = 97\n",
        "\n",
        "arestas[vertices['fagaras'],[vertices['sibiu']]] = 99\n",
        "arestas[vertices['fagaras'],[vertices['bucharest']]] = 211\n",
        "\n",
        "arestas[vertices['pitesti'],[vertices['rimnicu']]] = 97\n",
        "arestas[vertices['pitesti'],[vertices['craiova']]] = 138\n",
        "arestas[vertices['pitesti'],[vertices['bucharest']]] = 101\n",
        "\n",
        "arestas[vertices['bucharest'],[vertices['fagaras']]] = 211\n",
        "arestas[vertices['bucharest'],[vertices['pitesti']]] = 101\n",
        "arestas[vertices['bucharest'],[vertices['giurgiu']]] = 90"
      ],
      "execution_count": null,
      "outputs": []
    },
    {
      "cell_type": "code",
      "metadata": {
        "id": "o50AZN17yj3J",
        "colab": {
          "base_uri": "https://localhost:8080/",
          "height": 55
        },
        "outputId": "d3f65cfb-b02e-4117-c0ec-35a53960327b"
      },
      "source": [
        "arestas[vertices['pitesti'],[vertices['rimnicu']]]"
      ],
      "execution_count": null,
      "outputs": [
        {
          "output_type": "execute_result",
          "data": {
            "text/plain": [
              "array([97])"
            ]
          },
          "metadata": {
            "tags": []
          },
          "execution_count": 12
        }
      ]
    },
    {
      "cell_type": "code",
      "metadata": {
        "id": "FZ5W_Um-yvxa",
        "colab": {
          "base_uri": "https://localhost:8080/",
          "height": 55
        },
        "outputId": "5ca8173a-d4f0-4dcb-aa80-d4fbd588d75a"
      },
      "source": [
        "arestas[vertices['arad'],[vertices['sibiu']]]"
      ],
      "execution_count": null,
      "outputs": [
        {
          "output_type": "execute_result",
          "data": {
            "text/plain": [
              "array([140])"
            ]
          },
          "metadata": {
            "tags": []
          },
          "execution_count": 13
        }
      ]
    },
    {
      "cell_type": "markdown",
      "metadata": {
        "id": "KGAL7E756tDr"
      },
      "source": [
        "## Algoritmo de Dijkstra"
      ]
    },
    {
      "cell_type": "code",
      "metadata": {
        "id": "7v6yHjdUcQxd",
        "colab": {
          "base_uri": "https://localhost:8080/",
          "height": 57
        },
        "outputId": "1a909f1f-ea7b-4ee2-c051-02f64dc12bf0"
      },
      "source": [
        "cidades[1]"
      ],
      "execution_count": null,
      "outputs": [
        {
          "output_type": "execute_result",
          "data": {
            "application/vnd.google.colaboratory.intrinsic+json": {
              "type": "string"
            },
            "text/plain": [
              "'zerind'"
            ]
          },
          "metadata": {
            "tags": []
          },
          "execution_count": 16
        }
      ]
    },
    {
      "cell_type": "code",
      "metadata": {
        "id": "oilMqJnceI4-",
        "colab": {
          "base_uri": "https://localhost:8080/",
          "height": 55
        },
        "outputId": "e1047183-a7e0-4169-a43e-367325a9b34b"
      },
      "source": [
        "import sys\n",
        "sys.maxsize"
      ],
      "execution_count": null,
      "outputs": [
        {
          "output_type": "execute_result",
          "data": {
            "text/plain": [
              "9223372036854775807"
            ]
          },
          "metadata": {
            "tags": []
          },
          "execution_count": 18
        }
      ]
    },
    {
      "cell_type": "code",
      "metadata": {
        "id": "l8J220zNfUK9",
        "colab": {
          "base_uri": "https://localhost:8080/",
          "height": 284
        },
        "outputId": "0c3eb4bf-ec6b-46b5-e78d-9fce54e694c6"
      },
      "source": [
        "[sys.maxsize] * 14"
      ],
      "execution_count": null,
      "outputs": [
        {
          "output_type": "execute_result",
          "data": {
            "text/plain": [
              "[9223372036854775807,\n",
              " 9223372036854775807,\n",
              " 9223372036854775807,\n",
              " 9223372036854775807,\n",
              " 9223372036854775807,\n",
              " 9223372036854775807,\n",
              " 9223372036854775807,\n",
              " 9223372036854775807,\n",
              " 9223372036854775807,\n",
              " 9223372036854775807,\n",
              " 9223372036854775807,\n",
              " 9223372036854775807,\n",
              " 9223372036854775807,\n",
              " 9223372036854775807]"
            ]
          },
          "metadata": {
            "tags": []
          },
          "execution_count": 19
        }
      ]
    },
    {
      "cell_type": "code",
      "metadata": {
        "id": "jktBZGpkfuGR",
        "colab": {
          "base_uri": "https://localhost:8080/",
          "height": 284
        },
        "outputId": "b8b8354e-613c-48f4-b5c3-e50059d7b9c0"
      },
      "source": [
        "[False] * 14"
      ],
      "execution_count": null,
      "outputs": [
        {
          "output_type": "execute_result",
          "data": {
            "text/plain": [
              "[False,\n",
              " False,\n",
              " False,\n",
              " False,\n",
              " False,\n",
              " False,\n",
              " False,\n",
              " False,\n",
              " False,\n",
              " False,\n",
              " False,\n",
              " False,\n",
              " False,\n",
              " False]"
            ]
          },
          "metadata": {
            "tags": []
          },
          "execution_count": 20
        }
      ]
    },
    {
      "cell_type": "code",
      "metadata": {
        "id": "JrXZi9Wfargm"
      },
      "source": [
        "import sys\n",
        "class Dijkstra:\n",
        "  def __init__(self, vertices, arestas, inicio):\n",
        "    self.tamanho = len(vertices)\n",
        "    self.vertices = vertices\n",
        "    self.grafo = arestas\n",
        "    self.inicio = inicio\n",
        "\n",
        "  def mostra_solucao(self, distancias):\n",
        "    print('Menores distâncias de {} até todos os outros'.format(self.vertices[self.inicio]))\n",
        "    for vertice in range(self.tamanho):\n",
        "      print(self.vertices[vertice], distancias[vertice])  \n",
        "\n",
        "  def distancia_minima(self, distancia, visitados):\n",
        "    minimo = sys.maxsize\n",
        "    for vertice in range(self.tamanho):\n",
        "      if distancia[vertice] < minimo and visitados[vertice] == False:\n",
        "        minimo = distancia[vertice]\n",
        "        indice_minimo = vertice\n",
        "    return indice_minimo\n",
        "\n",
        "  def dijkstra(self):\n",
        "    distancia = [sys.maxsize] * self.tamanho\n",
        "    distancia[self.inicio] = 0\n",
        "    visitados = [False] * self.tamanho\n",
        "\n",
        "    for _ in range(self.tamanho):\n",
        "      indice_minimo = self.distancia_minima(distancia, visitados)\n",
        "      visitados[indice_minimo] = True\n",
        "      for vertice in range(self.tamanho):\n",
        "        if self.grafo[indice_minimo][vertice] > 0 and visitados[vertice] == False \\\n",
        "            and distancia[vertice] > distancia[indice_minimo] + self.grafo[indice_minimo][vertice]:\n",
        "          distancia[vertice] = distancia[indice_minimo] + self.grafo[indice_minimo][vertice]\n",
        "\n",
        "    self.mostra_solucao(distancia)"
      ],
      "execution_count": null,
      "outputs": []
    },
    {
      "cell_type": "code",
      "metadata": {
        "id": "qteRTiCThnfG",
        "colab": {
          "base_uri": "https://localhost:8080/",
          "height": 301
        },
        "outputId": "53b03f25-91be-4a43-e801-eb599721a68a"
      },
      "source": [
        "dijkstra = Dijkstra(cidades, arestas, vertices['arad'])\n",
        "dijkstra.dijkstra()"
      ],
      "execution_count": null,
      "outputs": [
        {
          "output_type": "stream",
          "text": [
            "Menores distâncias de arad até todos os outros\n",
            "arad 0\n",
            "zerind 75\n",
            "oradea 146\n",
            "sibiu 140\n",
            "timisoara 118\n",
            "lugoj 229\n",
            "mehadia 299\n",
            "dobreta 374\n",
            "craiova 366\n",
            "rimnicu 220\n",
            "fagaras 239\n",
            "pitesti 317\n",
            "bucharest 418\n",
            "giurgiu 508\n"
          ],
          "name": "stdout"
        }
      ]
    },
    {
      "cell_type": "markdown",
      "metadata": {
        "id": "EEac4nWOj4bY"
      },
      "source": [
        "## Teste com outro grafo"
      ]
    },
    {
      "cell_type": "code",
      "metadata": {
        "id": "hXvNDvikj6Bf"
      },
      "source": [
        "vertices2 = {'A': 0, 'B': 1, 'C': 2, 'D': 3, 'E': 4, 'F': 5}\n",
        "vertices2_inv = {0: 'A', 1: 'B', 2:'C', 3:'D', 4:'E', 5: 'F'}"
      ],
      "execution_count": null,
      "outputs": []
    },
    {
      "cell_type": "code",
      "metadata": {
        "id": "_DvVposij7-F"
      },
      "source": [
        "arestas2 = np.zeros([len(vertices2), len(vertices2)], dtype=int)\n",
        "arestas2[vertices2['A'],[vertices2['B']]] = 2\n",
        "arestas2[vertices2['A'],[vertices2['C']]] = 1\n",
        "arestas2[vertices2['B'],[vertices2['D']]] = 1\n",
        "arestas2[vertices2['C'],[vertices2['D']]] = 3\n",
        "arestas2[vertices2['C'],[vertices2['E']]] = 4\n",
        "arestas2[vertices2['D'],[vertices2['F']]] = 2\n",
        "arestas2[vertices2['E'],[vertices2['F']]] = 2"
      ],
      "execution_count": null,
      "outputs": []
    },
    {
      "cell_type": "code",
      "metadata": {
        "id": "SH3JC19Oj_JX",
        "colab": {
          "base_uri": "https://localhost:8080/",
          "height": 143
        },
        "outputId": "29a6dc98-2a0d-492f-b16c-bbe25d6ee3f2"
      },
      "source": [
        "arestas2"
      ],
      "execution_count": null,
      "outputs": [
        {
          "output_type": "execute_result",
          "data": {
            "text/plain": [
              "array([[0, 2, 1, 0, 0, 0],\n",
              "       [0, 0, 0, 1, 0, 0],\n",
              "       [0, 0, 0, 3, 4, 0],\n",
              "       [0, 0, 0, 0, 0, 2],\n",
              "       [0, 0, 0, 0, 0, 2],\n",
              "       [0, 0, 0, 0, 0, 0]])"
            ]
          },
          "metadata": {
            "tags": []
          },
          "execution_count": 25
        }
      ]
    },
    {
      "cell_type": "code",
      "metadata": {
        "id": "9BUJ7dxykA4g",
        "colab": {
          "base_uri": "https://localhost:8080/",
          "height": 160
        },
        "outputId": "a8df537a-9161-4156-d52e-53cc0ec5f078"
      },
      "source": [
        "dijkstra = Dijkstra(vertices2_inv, arestas2, vertices2['A'])\n",
        "dijkstra.dijkstra()"
      ],
      "execution_count": null,
      "outputs": [
        {
          "output_type": "stream",
          "text": [
            "Menores distâncias de A até todos os outros\n",
            "A 0\n",
            "B 2\n",
            "C 1\n",
            "D 3\n",
            "E 5\n",
            "F 5\n"
          ],
          "name": "stdout"
        }
      ]
    }
  ]
}