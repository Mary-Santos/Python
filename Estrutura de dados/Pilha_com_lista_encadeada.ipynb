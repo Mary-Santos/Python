{
  "nbformat": 4,
  "nbformat_minor": 0,
  "metadata": {
    "colab": {
      "name": "Pilha com lista encadeada.ipynb",
      "provenance": [],
      "collapsed_sections": []
    },
    "kernelspec": {
      "name": "python3",
      "display_name": "Python 3"
    }
  },
  "cells": [
    {
      "cell_type": "markdown",
      "metadata": {
        "id": "-FVr0W4SMhwg"
      },
      "source": [
        "# Pilha com lista encadeada"
      ]
    },
    {
      "cell_type": "code",
      "metadata": {
        "id": "DoZHUPLmFG2G"
      },
      "source": [
        "class No:\n",
        "  def __init__(self, valor):\n",
        "    self.valor = valor\n",
        "    self.proximo = None\n",
        "  \n",
        "  def mostra_no(self):\n",
        "    print(self.valor)"
      ],
      "execution_count": null,
      "outputs": []
    },
    {
      "cell_type": "code",
      "metadata": {
        "id": "xbBH0udDFz6n"
      },
      "source": [
        "class ListaEncadeada:\n",
        "\n",
        "  def __init__(self):\n",
        "    self.primeiro = None\n",
        "\n",
        "  def lista_vazia(self):\n",
        "    return self.primeiro == None\n",
        "  \n",
        "  def insere_inicio(self, valor):\n",
        "    novo = No(valor)\n",
        "    novo.proximo = self.primeiro\n",
        "    self.primeiro = novo\n",
        "\n",
        "  def excluir_inicio(self):\n",
        "    if self.lista_vazia():\n",
        "      print('A lista está vazia')\n",
        "      return None\n",
        "    \n",
        "    temp = self.primeiro\n",
        "    self.primeiro = self.primeiro.proximo\n",
        "    return temp"
      ],
      "execution_count": null,
      "outputs": []
    },
    {
      "cell_type": "code",
      "metadata": {
        "id": "w1xGeLcm9frn"
      },
      "source": [
        "class PilhaListaEncadeada:\n",
        "  def __init__(self):\n",
        "    self.lista = ListaEncadeada()\n",
        "\n",
        "  def empilhar(self, valor):\n",
        "    self.lista.insere_inicio(valor)\n",
        "\n",
        "  def desempilhar(self):\n",
        "    return self.lista.excluir_inicio()\n",
        "\n",
        "  def pilha_vazia(self):\n",
        "    return self.lista.lista_vazia()\n",
        "\n",
        "  def ver_topo(self):\n",
        "    if self.lista.primeiro == None:\n",
        "      return -1\n",
        "    return self.lista.primeiro.valor"
      ],
      "execution_count": null,
      "outputs": []
    },
    {
      "cell_type": "code",
      "metadata": {
        "id": "GzeQwwHK-4_c"
      },
      "source": [
        "pilha = PilhaListaEncadeada()"
      ],
      "execution_count": null,
      "outputs": []
    },
    {
      "cell_type": "code",
      "metadata": {
        "id": "eG7DJqWi-7mt"
      },
      "source": [
        "pilha.empilhar(20)\n",
        "pilha.empilhar(40)"
      ],
      "execution_count": null,
      "outputs": []
    },
    {
      "cell_type": "code",
      "metadata": {
        "id": "OkAwlg0i_Mw7",
        "colab": {
          "base_uri": "https://localhost:8080/",
          "height": 55
        },
        "outputId": "01bf3843-03c8-4145-d6fd-15b250bc9f3a"
      },
      "source": [
        "pilha.ver_topo()"
      ],
      "execution_count": null,
      "outputs": [
        {
          "output_type": "execute_result",
          "data": {
            "text/plain": [
              "40"
            ]
          },
          "metadata": {
            "tags": []
          },
          "execution_count": 6
        }
      ]
    },
    {
      "cell_type": "code",
      "metadata": {
        "id": "UM_blVdx_WTx"
      },
      "source": [
        "pilha.empilhar(60)\n",
        "pilha.empilhar(80)"
      ],
      "execution_count": null,
      "outputs": []
    },
    {
      "cell_type": "code",
      "metadata": {
        "id": "0ONV2t8E_bIZ",
        "colab": {
          "base_uri": "https://localhost:8080/",
          "height": 55
        },
        "outputId": "c8db7fe2-134f-4cac-de2d-54a80217a5a2"
      },
      "source": [
        "pilha.ver_topo()"
      ],
      "execution_count": null,
      "outputs": [
        {
          "output_type": "execute_result",
          "data": {
            "text/plain": [
              "80"
            ]
          },
          "metadata": {
            "tags": []
          },
          "execution_count": 8
        }
      ]
    },
    {
      "cell_type": "code",
      "metadata": {
        "id": "wMFA3yN6_fut",
        "colab": {
          "base_uri": "https://localhost:8080/",
          "height": 55
        },
        "outputId": "2be86a30-a349-48d7-8d6b-8ac052b493b4"
      },
      "source": [
        "pilha.desempilhar()\n",
        "pilha.ver_topo()"
      ],
      "execution_count": null,
      "outputs": [
        {
          "output_type": "execute_result",
          "data": {
            "text/plain": [
              "60"
            ]
          },
          "metadata": {
            "tags": []
          },
          "execution_count": 9
        }
      ]
    },
    {
      "cell_type": "code",
      "metadata": {
        "id": "cjfRBwmS_1Hl",
        "colab": {
          "base_uri": "https://localhost:8080/",
          "height": 55
        },
        "outputId": "5c102b17-0e32-4ac5-b826-e8627fc394de"
      },
      "source": [
        "pilha.desempilhar()\n",
        "pilha.desempilhar()"
      ],
      "execution_count": null,
      "outputs": [
        {
          "output_type": "execute_result",
          "data": {
            "text/plain": [
              "<__main__.No at 0x7ff597368198>"
            ]
          },
          "metadata": {
            "tags": []
          },
          "execution_count": 10
        }
      ]
    },
    {
      "cell_type": "code",
      "metadata": {
        "id": "y-teOCpD_7ph",
        "colab": {
          "base_uri": "https://localhost:8080/",
          "height": 55
        },
        "outputId": "cd5645a4-1580-4ec6-e209-76dfb75fa9de"
      },
      "source": [
        "pilha.ver_topo()"
      ],
      "execution_count": null,
      "outputs": [
        {
          "output_type": "execute_result",
          "data": {
            "text/plain": [
              "20"
            ]
          },
          "metadata": {
            "tags": []
          },
          "execution_count": 11
        }
      ]
    },
    {
      "cell_type": "code",
      "metadata": {
        "id": "wYezsloCAECB",
        "colab": {
          "base_uri": "https://localhost:8080/",
          "height": 55
        },
        "outputId": "c8c89631-2d56-4f67-a58e-b45b82552705"
      },
      "source": [
        "pilha.desempilhar()"
      ],
      "execution_count": null,
      "outputs": [
        {
          "output_type": "execute_result",
          "data": {
            "text/plain": [
              "<__main__.No at 0x7ff597368898>"
            ]
          },
          "metadata": {
            "tags": []
          },
          "execution_count": 12
        }
      ]
    },
    {
      "cell_type": "code",
      "metadata": {
        "id": "hXqaSNOgAGMw",
        "colab": {
          "base_uri": "https://localhost:8080/",
          "height": 55
        },
        "outputId": "c95831e0-b0b9-4605-e53e-e00fa9199c82"
      },
      "source": [
        "pilha.ver_topo()"
      ],
      "execution_count": null,
      "outputs": [
        {
          "output_type": "execute_result",
          "data": {
            "text/plain": [
              "-1"
            ]
          },
          "metadata": {
            "tags": []
          },
          "execution_count": 13
        }
      ]
    }
  ]
}