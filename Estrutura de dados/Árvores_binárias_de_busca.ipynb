{
  "nbformat": 4,
  "nbformat_minor": 0,
  "metadata": {
    "colab": {
      "name": "Árvores binárias de busca.ipynb",
      "provenance": [],
      "collapsed_sections": [
        "WljSCEnx3KxU",
        "OW08RX1l0IKM"
      ]
    },
    "kernelspec": {
      "name": "python3",
      "display_name": "Python 3"
    }
  },
  "cells": [
    {
      "cell_type": "markdown",
      "metadata": {
        "id": "1CDy5e8_Pjiy"
      },
      "source": [
        "# Árvores binárias de busca"
      ]
    },
    {
      "cell_type": "code",
      "metadata": {
        "id": "nnz0ufrapTP2"
      },
      "source": [
        "class No:\n",
        "  def __init__(self, valor):\n",
        "    self.valor = valor\n",
        "    self.esquerda = None\n",
        "    self.direita = None\n",
        "  \n",
        "  def mostra_no(self):\n",
        "    print(self.valor)"
      ],
      "execution_count": null,
      "outputs": []
    },
    {
      "cell_type": "code",
      "metadata": {
        "id": "1L2lCXxXplvw"
      },
      "source": [
        "class ArvoreBinariaBusca:\n",
        "  def __init__(self):\n",
        "    self.raiz = None\n",
        "    self.ligacoes = []\n",
        "\n",
        "  def inserir(self, valor):\n",
        "    novo = No(valor)\n",
        "    # Se a árvore estiver vazia\n",
        "    if self.raiz == None:\n",
        "      self.raiz = novo\n",
        "    else:\n",
        "      atual = self.raiz\n",
        "      while True:\n",
        "        pai = atual\n",
        "        # Esquerda\n",
        "        if valor < atual.valor:\n",
        "          atual = atual.esquerda\n",
        "          if atual == None:\n",
        "            pai.esquerda = novo\n",
        "            self.ligacoes.append(str(pai.valor) + '->' + str(novo.valor))\n",
        "            return\n",
        "        # Direita\n",
        "        else:\n",
        "          atual = atual.direita\n",
        "          if atual == None:\n",
        "            pai.direita = novo\n",
        "            self.ligacoes.append(str(pai.valor) + '->' + str(novo.valor))\n",
        "            return \n",
        "\n",
        "  def pesquisar(self, valor):\n",
        "    atual = self.raiz\n",
        "    while atual.valor != valor:\n",
        "      if valor < atual.valor:\n",
        "        atual = atual.esquerda\n",
        "      else:\n",
        "        atual = atual.direita\n",
        "      if atual == None:\n",
        "        return None\n",
        "    return atual\n",
        "\n",
        "  # Raiz, esquerda, direita\n",
        "  def pre_ordem(self, no):\n",
        "    if no != None:\n",
        "      print(no.valor)\n",
        "      self.pre_ordem(no.esquerda)\n",
        "      self.pre_ordem(no.direita)\n",
        "\n",
        "  # Esquerda, raiz, direita\n",
        "  def em_ordem(self, no):\n",
        "    if no != None:\n",
        "      self.em_ordem(no.esquerda)\n",
        "      print(no.valor)\n",
        "      self.em_ordem(no.direita)\n",
        "\n",
        "  # Esquerda, direita, raiz\n",
        "  def pos_ordem(self, no):\n",
        "    if no != None:\n",
        "      self.pos_ordem(no.esquerda)\n",
        "      self.pos_ordem(no.direita)\n",
        "      print(no.valor)\n",
        "\n",
        "  def excluir(self, valor):\n",
        "    if self.raiz == None:\n",
        "      print('A árvore está vazia')\n",
        "      return\n",
        "    \n",
        "    # Encontrar o nó\n",
        "    atual = self.raiz\n",
        "    pai = self.raiz\n",
        "    e_esquerda = True\n",
        "    while atual.valor != valor:\n",
        "      pai = atual\n",
        "      # Esquerda\n",
        "      if valor < atual.valor:\n",
        "        e_esquerda = True\n",
        "        atual = atual.esquerda\n",
        "      # Direita\n",
        "      else:\n",
        "        e_esquerda = False\n",
        "        atual = atual.direita\n",
        "      if atual == None:\n",
        "        return False\n",
        "    \n",
        "    # O nó a ser apagado é uma folha\n",
        "    if atual.esquerda == None and atual.direita == None:\n",
        "      if atual == self.raiz:\n",
        "        self.raiz = None\n",
        "      elif e_esquerda == True:\n",
        "        \n",
        "        self.ligacoes.remove(str(pai.valor) + '->' + str(atual.valor))\n",
        "        \n",
        "        pai.esquerda = None\n",
        "      else:\n",
        "        \n",
        "        self.ligacoes.remove(str(pai.valor) + '->' + str(atual.valor))\n",
        "        \n",
        "        pai.direita = None\n",
        "\n",
        "    # O nó a ser apagado não possui filho na direita\n",
        "    elif atual.direita == None:\n",
        "      \n",
        "      self.ligacoes.remove(str(pai.valor) + '->' + str(atual.valor))\n",
        "      self.ligacoes.remove(str(atual.valor) + '->' + str(atual.esquerda.valor))\n",
        "      \n",
        "      if atual == self.raiz:\n",
        "        self.raiz = atual.esquerda\n",
        "\n",
        "        self.ligacoes.append(str(raiz.valor) + '->' + str(atual.esquerda.valor))\n",
        "\n",
        "      elif e_esquerda == True:\n",
        "        pai.esquerda = atual.esquerda\n",
        "\n",
        "        self.ligacoes.append(str(pai.valor) + '->' + str(atual.esquerda.valor))\n",
        "\n",
        "      else:\n",
        "        pai.direita = atual.esquerda\n",
        "\n",
        "        self.ligacoes.append(str(pai.valor) + '->' + str(atual.esquerda.valor))\n",
        "\n",
        "    # O nó a ser apagado não possui filho na esquerda\n",
        "    elif atual.esquerda == None:\n",
        "\n",
        "      self.ligacoes.remove(str(pai.valor) + '->' + str(atual.valor))\n",
        "      self.ligacoes.remove(str(atual.valor) + '->' + str(atual.direita.valor))\n",
        "\n",
        "      if atual == self.raiz:\n",
        "\n",
        "        self.ligacoes.append(str(raiz.valor) + '->' + str(atual.direita.valor))\n",
        "\n",
        "        self.raiz = atual.direita\n",
        "      elif e_esquerda == True:\n",
        "\n",
        "        self.ligacoes.append(str(pai.valor) + '->' + str(atual.direita.valor))\n",
        "\n",
        "        pai.esquerda = atual.direita\n",
        "      else:\n",
        "\n",
        "        self.ligacoes.append(str(pai.valor) + '->' + str(atual.direita.valor))\n",
        "\n",
        "        pai.direita = atual.direita\n",
        "    \n",
        "    # O nó possui dois filhos\n",
        "    else:\n",
        "      sucessor = self.get_sucessor(atual)\n",
        "\n",
        "      self.ligacoes.remove(str(pai.valor) + '->' + str(atual.valor))\n",
        "      self.ligacoes.remove(str(atual.direita.valor) + '->' + str(sucessor.valor))\n",
        "      self.ligacoes.remove(str(atual.valor) + '->' + str(atual.esquerda.valor))\n",
        "      self.ligacoes.remove(str(atual.valor) + '->' + str(atual.direita.valor))\n",
        "\n",
        "      if atual == self.raiz:\n",
        "\n",
        "        self.ligacoes.append(str(raiz.valor) + '->' + str(sucessor.valor))     \n",
        "        \n",
        "        self.raiz = sucessor\n",
        "\n",
        "      elif e_esquerda == True:\n",
        "\n",
        "        self.ligacoes.append(str(pai.valor) + '->' + str(sucessor.valor))\n",
        "\n",
        "        pai.esquerda = sucessor\n",
        "\n",
        "      else:\n",
        "\n",
        "        self.ligacoes.append(str(pai.valor) + '->' + str(sucessor.valor))\n",
        "\n",
        "        pai.direita = sucessor\n",
        "      \n",
        "      self.ligacoes.append(str(sucessor.valor) + '->' + str(atual.esquerda.valor))\n",
        "      self.ligacoes.append(str(sucessor.valor) + '->' + str(atual.direita.valor))\n",
        "      \n",
        "      sucessor.esquerda = atual.esquerda\n",
        "\n",
        "    return True\n",
        "\n",
        "  \n",
        "\n",
        "  def get_sucessor(self, no):\n",
        "    pai_sucessor = no\n",
        "    sucessor = no\n",
        "    atual = no.direita\n",
        "    while atual != None:\n",
        "      pai_sucessor = sucessor\n",
        "      sucessor = atual\n",
        "      atual = atual.esquerda\n",
        "    if sucessor != no.direita:\n",
        "      pai_sucessor.esquerda = sucessor.direita\n",
        "      sucessor.direita = no.direita\n",
        "    return sucessor"
      ],
      "execution_count": null,
      "outputs": []
    },
    {
      "cell_type": "markdown",
      "metadata": {
        "id": "GfWOxB_KvRqx"
      },
      "source": [
        "### Inserção e visualização"
      ]
    },
    {
      "cell_type": "code",
      "metadata": {
        "id": "REc99Aq_vUAw"
      },
      "source": [
        "arvore = ArvoreBinariaBusca()\n",
        "arvore.inserir(53)\n",
        "arvore.inserir(30)\n",
        "arvore.inserir(14)\n",
        "arvore.inserir(39)\n",
        "arvore.inserir(9)\n",
        "arvore.inserir(23)\n",
        "arvore.inserir(34)\n",
        "arvore.inserir(49)\n",
        "arvore.inserir(72)\n",
        "arvore.inserir(61)\n",
        "arvore.inserir(84)\n",
        "arvore.inserir(79)"
      ],
      "execution_count": null,
      "outputs": []
    },
    {
      "cell_type": "code",
      "metadata": {
        "id": "ruv5vxSEvmq8",
        "colab": {
          "base_uri": "https://localhost:8080/",
          "height": 55
        },
        "outputId": "06738adc-e604-4667-ae9d-f1ab85a38652"
      },
      "source": [
        "arvore.raiz.esquerda.valor"
      ],
      "execution_count": null,
      "outputs": [
        {
          "output_type": "execute_result",
          "data": {
            "text/plain": [
              "30"
            ]
          },
          "metadata": {
            "tags": []
          },
          "execution_count": 4
        }
      ]
    },
    {
      "cell_type": "code",
      "metadata": {
        "id": "GUwaUppbvtF9",
        "colab": {
          "base_uri": "https://localhost:8080/",
          "height": 55
        },
        "outputId": "9828a57b-c73a-46cd-80bd-e90efd9790e0"
      },
      "source": [
        "arvore.raiz.direita.valor"
      ],
      "execution_count": null,
      "outputs": [
        {
          "output_type": "execute_result",
          "data": {
            "text/plain": [
              "72"
            ]
          },
          "metadata": {
            "tags": []
          },
          "execution_count": 5
        }
      ]
    },
    {
      "cell_type": "code",
      "metadata": {
        "id": "QL4I6yor1F5i"
      },
      "source": [
        "arvore.inserir(89)"
      ],
      "execution_count": null,
      "outputs": []
    },
    {
      "cell_type": "code",
      "metadata": {
        "id": "kVpTpJz60JG2",
        "colab": {
          "base_uri": "https://localhost:8080/",
          "height": 231
        },
        "outputId": "2fe97641-aea8-434c-d479-e968e672878e"
      },
      "source": [
        "arvore.ligacoes"
      ],
      "execution_count": null,
      "outputs": [
        {
          "output_type": "execute_result",
          "data": {
            "text/plain": [
              "['53->30',\n",
              " '30->14',\n",
              " '30->39',\n",
              " '14->9',\n",
              " '14->23',\n",
              " '39->34',\n",
              " '39->49',\n",
              " '53->72',\n",
              " '72->61',\n",
              " '72->84',\n",
              " '84->79']"
            ]
          },
          "metadata": {
            "tags": []
          },
          "execution_count": 10
        }
      ]
    },
    {
      "cell_type": "code",
      "metadata": {
        "id": "6LNu7jA3om7k"
      },
      "source": [
        "arvore.ligacoes.remove('14->9')"
      ],
      "execution_count": null,
      "outputs": []
    },
    {
      "cell_type": "markdown",
      "metadata": {
        "id": "WljSCEnx3KxU"
      },
      "source": [
        "### Pesquisar"
      ]
    },
    {
      "cell_type": "code",
      "metadata": {
        "id": "DvSI9hdc3MFW",
        "colab": {
          "base_uri": "https://localhost:8080/",
          "height": 55
        },
        "outputId": "0baccd9c-947a-475a-8de2-fbafd44e8281"
      },
      "source": [
        "arvore.pesquisar(39)"
      ],
      "execution_count": null,
      "outputs": [
        {
          "output_type": "execute_result",
          "data": {
            "text/plain": [
              "<__main__.No at 0x7fc697ee64a8>"
            ]
          },
          "metadata": {
            "tags": []
          },
          "execution_count": 5
        }
      ]
    },
    {
      "cell_type": "code",
      "metadata": {
        "id": "9xZo1uKx3TQf",
        "colab": {
          "base_uri": "https://localhost:8080/",
          "height": 55
        },
        "outputId": "29a171c7-df47-4fd0-811b-0f565735cc05"
      },
      "source": [
        "arvore.pesquisar(84)"
      ],
      "execution_count": null,
      "outputs": [
        {
          "output_type": "execute_result",
          "data": {
            "text/plain": [
              "<__main__.No at 0x7f5b1fe4beb8>"
            ]
          },
          "metadata": {
            "tags": []
          },
          "execution_count": 15
        }
      ]
    },
    {
      "cell_type": "code",
      "metadata": {
        "id": "l4wZVzLv3WEg",
        "colab": {
          "base_uri": "https://localhost:8080/",
          "height": 55
        },
        "outputId": "f1fd7d37-f2ed-4503-82a9-847fb7707121"
      },
      "source": [
        "if arvore.pesquisar(100) == None:\n",
        "  print('Elemento não localizado')\n",
        "else:\n",
        "  print('Elemento localizado')"
      ],
      "execution_count": null,
      "outputs": [
        {
          "output_type": "stream",
          "text": [
            "Elemento não localizado\n"
          ],
          "name": "stdout"
        }
      ]
    },
    {
      "cell_type": "markdown",
      "metadata": {
        "id": "OW08RX1l0IKM"
      },
      "source": [
        "### Travessia"
      ]
    },
    {
      "cell_type": "code",
      "metadata": {
        "id": "wgqID80_0KMy",
        "colab": {
          "base_uri": "https://localhost:8080/",
          "height": 248
        },
        "outputId": "37d9d7a9-c26d-42fc-e688-7535f2a286bd"
      },
      "source": [
        "arvore.pre_ordem(arvore.raiz)"
      ],
      "execution_count": null,
      "outputs": [
        {
          "output_type": "stream",
          "text": [
            "53\n",
            "30\n",
            "14\n",
            "9\n",
            "23\n",
            "39\n",
            "34\n",
            "49\n",
            "72\n",
            "61\n",
            "84\n",
            "79\n"
          ],
          "name": "stdout"
        }
      ]
    },
    {
      "cell_type": "code",
      "metadata": {
        "id": "BdzLtNoe5Vb6",
        "colab": {
          "base_uri": "https://localhost:8080/",
          "height": 248
        },
        "outputId": "fab55e6c-59da-4d7b-9732-40bcb5f3b846"
      },
      "source": [
        "arvore.em_ordem(arvore.raiz)"
      ],
      "execution_count": null,
      "outputs": [
        {
          "output_type": "stream",
          "text": [
            "9\n",
            "14\n",
            "23\n",
            "30\n",
            "34\n",
            "39\n",
            "49\n",
            "53\n",
            "61\n",
            "72\n",
            "79\n",
            "84\n"
          ],
          "name": "stdout"
        }
      ]
    },
    {
      "cell_type": "code",
      "metadata": {
        "id": "47HGj0-N7YPj",
        "colab": {
          "base_uri": "https://localhost:8080/",
          "height": 248
        },
        "outputId": "2e659b06-e9c4-46ab-efb2-d0a21e73ca93"
      },
      "source": [
        "arvore.pos_ordem(arvore.raiz)"
      ],
      "execution_count": null,
      "outputs": [
        {
          "output_type": "stream",
          "text": [
            "9\n",
            "23\n",
            "14\n",
            "34\n",
            "49\n",
            "39\n",
            "30\n",
            "61\n",
            "79\n",
            "84\n",
            "72\n",
            "53\n"
          ],
          "name": "stdout"
        }
      ]
    },
    {
      "cell_type": "markdown",
      "metadata": {
        "id": "XiRU_kCLpcqP"
      },
      "source": [
        "### Excluir"
      ]
    },
    {
      "cell_type": "code",
      "metadata": {
        "id": "2BW02hOApeX2"
      },
      "source": [
        "arvore.excluir(84)"
      ],
      "execution_count": null,
      "outputs": []
    },
    {
      "cell_type": "code",
      "metadata": {
        "id": "EGTry82opoqo",
        "colab": {
          "base_uri": "https://localhost:8080/",
          "height": 213
        },
        "outputId": "d1e7878c-bb9d-48f7-80d9-75d55ca25dce"
      },
      "source": [
        "arvore.ligacoes"
      ],
      "execution_count": null,
      "outputs": [
        {
          "output_type": "execute_result",
          "data": {
            "text/plain": [
              "['53->30',\n",
              " '30->14',\n",
              " '30->39',\n",
              " '14->9',\n",
              " '14->23',\n",
              " '39->34',\n",
              " '39->49',\n",
              " '53->72',\n",
              " '72->61',\n",
              " '72->79']"
            ]
          },
          "metadata": {
            "tags": []
          },
          "execution_count": 19
        }
      ]
    },
    {
      "cell_type": "code",
      "metadata": {
        "id": "ZWsiEw8Pp5Gm",
        "colab": {
          "base_uri": "https://localhost:8080/",
          "height": 196
        },
        "outputId": "e4099856-050e-47a2-90f9-212761643825"
      },
      "source": [
        "arvore.excluir(9)\n",
        "arvore.ligacoes"
      ],
      "execution_count": null,
      "outputs": [
        {
          "output_type": "execute_result",
          "data": {
            "text/plain": [
              "['53->30',\n",
              " '30->14',\n",
              " '30->39',\n",
              " '14->23',\n",
              " '39->34',\n",
              " '39->49',\n",
              " '53->72',\n",
              " '72->61',\n",
              " '72->79']"
            ]
          },
          "metadata": {
            "tags": []
          },
          "execution_count": 20
        }
      ]
    },
    {
      "cell_type": "code",
      "metadata": {
        "id": "9afpWsPHqCF4",
        "colab": {
          "base_uri": "https://localhost:8080/",
          "height": 178
        },
        "outputId": "43561ff3-1fea-4cad-aa7c-cf7f80fe42bb"
      },
      "source": [
        "arvore.excluir(14)\n",
        "arvore.ligacoes"
      ],
      "execution_count": null,
      "outputs": [
        {
          "output_type": "execute_result",
          "data": {
            "text/plain": [
              "['53->30',\n",
              " '30->39',\n",
              " '39->34',\n",
              " '39->49',\n",
              " '53->72',\n",
              " '72->61',\n",
              " '72->79',\n",
              " '30->23']"
            ]
          },
          "metadata": {
            "tags": []
          },
          "execution_count": 22
        }
      ]
    },
    {
      "cell_type": "code",
      "metadata": {
        "id": "FBfJYccmKwxW",
        "colab": {
          "base_uri": "https://localhost:8080/",
          "height": 213
        },
        "outputId": "46afdd75-fd14-455d-c877-f68807bf05ee"
      },
      "source": [
        "arvore.excluir(72)\n",
        "arvore.ligacoes"
      ],
      "execution_count": null,
      "outputs": [
        {
          "output_type": "execute_result",
          "data": {
            "text/plain": [
              "['53->30',\n",
              " '30->14',\n",
              " '30->39',\n",
              " '14->9',\n",
              " '14->23',\n",
              " '39->34',\n",
              " '39->49',\n",
              " '53->79',\n",
              " '79->61',\n",
              " '79->84']"
            ]
          },
          "metadata": {
            "tags": []
          },
          "execution_count": 36
        }
      ]
    },
    {
      "cell_type": "code",
      "metadata": {
        "id": "IwP2SmMULH6H",
        "colab": {
          "base_uri": "https://localhost:8080/",
          "height": 196
        },
        "outputId": "5dc13ab6-d876-4ee8-d6cd-487d332c8727"
      },
      "source": [
        "arvore.excluir(30)\n",
        "arvore.ligacoes"
      ],
      "execution_count": null,
      "outputs": [
        {
          "output_type": "execute_result",
          "data": {
            "text/plain": [
              "['14->9',\n",
              " '14->23',\n",
              " '39->49',\n",
              " '53->79',\n",
              " '79->61',\n",
              " '79->84',\n",
              " '53->34',\n",
              " '34->14',\n",
              " '34->39']"
            ]
          },
          "metadata": {
            "tags": []
          },
          "execution_count": 37
        }
      ]
    },
    {
      "cell_type": "markdown",
      "metadata": {
        "id": "sX6bXxrJIW2p"
      },
      "source": [
        "### Sucessor"
      ]
    },
    {
      "cell_type": "code",
      "metadata": {
        "id": "_QTuVkKUIYga",
        "colab": {
          "base_uri": "https://localhost:8080/",
          "height": 55
        },
        "outputId": "f3a1071e-2dc0-41d4-8c4c-8c5e22a0287c"
      },
      "source": [
        "arvore.get_sucessor(arvore.raiz).valor"
      ],
      "execution_count": null,
      "outputs": [
        {
          "output_type": "execute_result",
          "data": {
            "text/plain": [
              "72"
            ]
          },
          "metadata": {
            "tags": []
          },
          "execution_count": 33
        }
      ]
    }
  ]
}